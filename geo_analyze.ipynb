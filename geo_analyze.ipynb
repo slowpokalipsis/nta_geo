{
 "cells": [
  {
   "cell_type": "code",
   "execution_count": 1,
   "id": "68fe5b5a",
   "metadata": {
    "ExecuteTime": {
     "end_time": "2023-05-23T06:31:21.826634Z",
     "start_time": "2023-05-23T06:31:20.974220Z"
    }
   },
   "outputs": [],
   "source": [
    "import plotly.graph_objects as go\n",
    "import plotly.express as px\n",
    "import geopandas as gpd\n",
    "import pandas as pd\n",
    "import matplotlib.pyplot as plt\n",
    "import numpy as np\n",
    "import shapely\n",
    "import time\n",
    "import random\n",
    "from shapely import wkt\n",
    "from shapely.ops import snap\n",
    "from shapely.geometry.point import Point\n",
    "from shapely.geometry.polygon import Polygon\n",
    "from shapely.geometry.multipolygon import MultiPolygon\n",
    "import pyproj\n",
    "from plotly.graph_objs import Layout\n",
    "from matplotlib.pyplot import plot\n",
    "\n",
    "from string import digits\n",
    "remove_digits = str.maketrans('', '', digits)\n",
    "\n",
    "from rosreestr2coord import Area\n",
    "\n",
    "from tqdm import tqdm\n",
    "tqdm.pandas()\n",
    "\n",
    "import warnings\n",
    "warnings.filterwarnings('ignore')"
   ]
  },
  {
   "cell_type": "code",
   "execution_count": 2,
   "id": "96de71a8",
   "metadata": {
    "ExecuteTime": {
     "end_time": "2023-05-23T06:31:22.677956Z",
     "start_time": "2023-05-23T06:31:22.672705Z"
    }
   },
   "outputs": [
    {
     "data": {
      "text/html": [
       "<style>.container { width:60% !important; }</style>"
      ],
      "text/plain": [
       "<IPython.core.display.HTML object>"
      ]
     },
     "metadata": {},
     "output_type": "display_data"
    }
   ],
   "source": [
    "from IPython.display import display, HTML\n",
    "display(HTML(\"<style>.container { width:60% !important; }</style>\"))"
   ]
  },
  {
   "cell_type": "code",
   "execution_count": 3,
   "id": "1739d39a",
   "metadata": {
    "ExecuteTime": {
     "end_time": "2023-05-23T06:31:23.795453Z",
     "start_time": "2023-05-23T06:31:23.788898Z"
    }
   },
   "outputs": [],
   "source": [
    "def geoseries2shapedict(gdf, name_col, gdf_type):\n",
    "    regions = {}\n",
    "    for und, reg in tqdm(gdf.iterrows()):\n",
    "        if type(reg.geometry) == MultiPolygon:\n",
    "            x, y = np.array([[], []])\n",
    "            for poly in reg.geometry.geoms:\n",
    "                x_, y_ = poly.exterior.coords.xy\n",
    "                x, y = (np.append(x, x_), np.append(y, y_))\n",
    "                x, y = (np.append(x, None), np.append(y, None))\n",
    "            x = x[:len(x)-1]\n",
    "            y = y[:len(y)-1]\n",
    "        elif type(reg.geometry) == Point:\n",
    "            x, y = np.array(reg.geometry.coords.xy)\n",
    "        else:\n",
    "            x, y = np.array(reg.geometry.exterior.coords.xy)\n",
    "        \n",
    "        if gdf_type == 'rumap':\n",
    "            regions[reg[name_col]] = x, y, reg.federal_district\n",
    "        elif gdf_type == 'regmap':\n",
    "            regions[reg[name_col]] = x, y, reg.index\n",
    "        else:\n",
    "            x, y = np.array(reg.geometry.exterior.coords.xy)\n",
    "    return regions              "
   ]
  },
  {
   "cell_type": "markdown",
   "id": "75a06856",
   "metadata": {},
   "source": [
    "# climate map"
   ]
  },
  {
   "cell_type": "code",
   "execution_count": 4,
   "id": "37ae29b3",
   "metadata": {
    "ExecuteTime": {
     "end_time": "2023-05-23T06:31:32.064438Z",
     "start_time": "2023-05-23T06:31:31.811582Z"
    }
   },
   "outputs": [],
   "source": [
    "# чтение файлов с полигонами зон\n",
    "arctic = gpd.read_file('qgis_data/arctic_zone.shp') \n",
    "subarctic = gpd.read_file('qgis_data/subarctic_zone.shp') \n",
    "umerenny = gpd.read_file('qgis_data/umerenny_zone.shp')\n",
    "subtropic = gpd.read_file('qgis_data/subtropic_zone.shp')"
   ]
  },
  {
   "cell_type": "code",
   "execution_count": 5,
   "id": "83256d1c",
   "metadata": {
    "ExecuteTime": {
     "end_time": "2023-05-23T06:31:32.933764Z",
     "start_time": "2023-05-23T06:31:32.929274Z"
    }
   },
   "outputs": [],
   "source": [
    "zones_list = [arctic, subarctic, umerenny, subtropic]\n",
    "zone_names = ['Арктический', 'Субарктический', 'Умеренный', 'Субтропический']\n",
    "zone_colors = ['mediumpurple', 'powderblue', 'yellowgreen', 'red']\n",
    "zone_ids = [1,2,3,4]"
   ]
  },
  {
   "cell_type": "code",
   "execution_count": 7,
   "id": "8b138cfa",
   "metadata": {
    "ExecuteTime": {
     "end_time": "2023-05-23T06:31:33.325617Z",
     "start_time": "2023-05-23T06:31:33.280978Z"
    }
   },
   "outputs": [],
   "source": [
    "climate_zones = gpd.GeoDataFrame()\n",
    "for zone_ind in range(len(zones_list)):\n",
    "    zone = zones_list[zone_ind][['geometry']]\n",
    "    zone['level'] = zone_names[zone_ind]\n",
    "    zone['zone_color'] = zone_colors[zone_ind]\n",
    "    zone['zone_id'] = zone_ids[zone_ind]\n",
    "    climate_zones = climate_zones.append(zone)\n",
    "climate_zones.reset_index(inplace=True)\n",
    "climate_zones = climate_zones.to_crs('ESRI:102027')"
   ]
  },
  {
   "cell_type": "code",
   "execution_count": 8,
   "id": "aa04f5cd",
   "metadata": {
    "ExecuteTime": {
     "end_time": "2023-05-23T06:31:34.181893Z",
     "start_time": "2023-05-23T06:31:34.156696Z"
    }
   },
   "outputs": [
    {
     "data": {
      "text/html": [
       "<div>\n",
       "<style scoped>\n",
       "    .dataframe tbody tr th:only-of-type {\n",
       "        vertical-align: middle;\n",
       "    }\n",
       "\n",
       "    .dataframe tbody tr th {\n",
       "        vertical-align: top;\n",
       "    }\n",
       "\n",
       "    .dataframe thead th {\n",
       "        text-align: right;\n",
       "    }\n",
       "</style>\n",
       "<table border=\"1\" class=\"dataframe\">\n",
       "  <thead>\n",
       "    <tr style=\"text-align: right;\">\n",
       "      <th></th>\n",
       "      <th>index</th>\n",
       "      <th>geometry</th>\n",
       "      <th>level</th>\n",
       "      <th>zone_color</th>\n",
       "      <th>zone_id</th>\n",
       "    </tr>\n",
       "  </thead>\n",
       "  <tbody>\n",
       "    <tr>\n",
       "      <th>0</th>\n",
       "      <td>0</td>\n",
       "      <td>POLYGON ((-1413920.080 4921824.947, -1403713.4...</td>\n",
       "      <td>Арктический</td>\n",
       "      <td>mediumpurple</td>\n",
       "      <td>1</td>\n",
       "    </tr>\n",
       "    <tr>\n",
       "      <th>1</th>\n",
       "      <td>1</td>\n",
       "      <td>POLYGON ((-1006376.684 4533175.724, -981872.89...</td>\n",
       "      <td>Арктический</td>\n",
       "      <td>mediumpurple</td>\n",
       "      <td>1</td>\n",
       "    </tr>\n",
       "    <tr>\n",
       "      <th>2</th>\n",
       "      <td>2</td>\n",
       "      <td>POLYGON ((-864322.287 4210054.138, -863911.984...</td>\n",
       "      <td>Арктический</td>\n",
       "      <td>mediumpurple</td>\n",
       "      <td>1</td>\n",
       "    </tr>\n",
       "    <tr>\n",
       "      <th>3</th>\n",
       "      <td>0</td>\n",
       "      <td>POLYGON ((-1414443.099 4921818.789, -1340204.9...</td>\n",
       "      <td>Субарктический</td>\n",
       "      <td>powderblue</td>\n",
       "      <td>2</td>\n",
       "    </tr>\n",
       "    <tr>\n",
       "      <th>4</th>\n",
       "      <td>1</td>\n",
       "      <td>POLYGON ((-1006106.431 4532261.530, -903793.08...</td>\n",
       "      <td>Субарктический</td>\n",
       "      <td>powderblue</td>\n",
       "      <td>2</td>\n",
       "    </tr>\n",
       "    <tr>\n",
       "      <th>5</th>\n",
       "      <td>2</td>\n",
       "      <td>POLYGON ((-1003981.176 3915719.965, -937153.43...</td>\n",
       "      <td>Субарктический</td>\n",
       "      <td>powderblue</td>\n",
       "      <td>2</td>\n",
       "    </tr>\n",
       "    <tr>\n",
       "      <th>6</th>\n",
       "      <td>3</td>\n",
       "      <td>POLYGON ((-2380361.237 5084586.569, -2366569.0...</td>\n",
       "      <td>Субарктический</td>\n",
       "      <td>powderblue</td>\n",
       "      <td>2</td>\n",
       "    </tr>\n",
       "    <tr>\n",
       "      <th>7</th>\n",
       "      <td>0</td>\n",
       "      <td>POLYGON ((3146486.373 4562285.823, 3135380.152...</td>\n",
       "      <td>Умеренный</td>\n",
       "      <td>yellowgreen</td>\n",
       "      <td>3</td>\n",
       "    </tr>\n",
       "    <tr>\n",
       "      <th>8</th>\n",
       "      <td>1</td>\n",
       "      <td>POLYGON ((-3979984.241 4339139.008, -3966502.8...</td>\n",
       "      <td>Умеренный</td>\n",
       "      <td>yellowgreen</td>\n",
       "      <td>3</td>\n",
       "    </tr>\n",
       "    <tr>\n",
       "      <th>9</th>\n",
       "      <td>2</td>\n",
       "      <td>POLYGON ((3214329.108 4464845.851, 3311468.498...</td>\n",
       "      <td>Умеренный</td>\n",
       "      <td>yellowgreen</td>\n",
       "      <td>3</td>\n",
       "    </tr>\n",
       "    <tr>\n",
       "      <th>10</th>\n",
       "      <td>3</td>\n",
       "      <td>POLYGON ((2719129.575 3222270.661, 2727483.531...</td>\n",
       "      <td>Умеренный</td>\n",
       "      <td>yellowgreen</td>\n",
       "      <td>3</td>\n",
       "    </tr>\n",
       "    <tr>\n",
       "      <th>11</th>\n",
       "      <td>0</td>\n",
       "      <td>POLYGON ((-3774997.927 2681764.772, -3776651.9...</td>\n",
       "      <td>Субтропический</td>\n",
       "      <td>red</td>\n",
       "      <td>4</td>\n",
       "    </tr>\n",
       "  </tbody>\n",
       "</table>\n",
       "</div>"
      ],
      "text/plain": [
       "    index                                           geometry           level  \\\n",
       "0       0  POLYGON ((-1413920.080 4921824.947, -1403713.4...     Арктический   \n",
       "1       1  POLYGON ((-1006376.684 4533175.724, -981872.89...     Арктический   \n",
       "2       2  POLYGON ((-864322.287 4210054.138, -863911.984...     Арктический   \n",
       "3       0  POLYGON ((-1414443.099 4921818.789, -1340204.9...  Субарктический   \n",
       "4       1  POLYGON ((-1006106.431 4532261.530, -903793.08...  Субарктический   \n",
       "5       2  POLYGON ((-1003981.176 3915719.965, -937153.43...  Субарктический   \n",
       "6       3  POLYGON ((-2380361.237 5084586.569, -2366569.0...  Субарктический   \n",
       "7       0  POLYGON ((3146486.373 4562285.823, 3135380.152...       Умеренный   \n",
       "8       1  POLYGON ((-3979984.241 4339139.008, -3966502.8...       Умеренный   \n",
       "9       2  POLYGON ((3214329.108 4464845.851, 3311468.498...       Умеренный   \n",
       "10      3  POLYGON ((2719129.575 3222270.661, 2727483.531...       Умеренный   \n",
       "11      0  POLYGON ((-3774997.927 2681764.772, -3776651.9...  Субтропический   \n",
       "\n",
       "      zone_color  zone_id  \n",
       "0   mediumpurple        1  \n",
       "1   mediumpurple        1  \n",
       "2   mediumpurple        1  \n",
       "3     powderblue        2  \n",
       "4     powderblue        2  \n",
       "5     powderblue        2  \n",
       "6     powderblue        2  \n",
       "7    yellowgreen        3  \n",
       "8    yellowgreen        3  \n",
       "9    yellowgreen        3  \n",
       "10   yellowgreen        3  \n",
       "11           red        4  "
      ]
     },
     "execution_count": 8,
     "metadata": {},
     "output_type": "execute_result"
    }
   ],
   "source": [
    "climate_zones"
   ]
  },
  {
   "cell_type": "code",
   "execution_count": 9,
   "id": "7d152ab5",
   "metadata": {
    "ExecuteTime": {
     "end_time": "2023-05-23T06:31:35.512944Z",
     "start_time": "2023-05-23T06:31:35.507878Z"
    }
   },
   "outputs": [],
   "source": [
    "def plot_climate_zones(climate):\n",
    "    \n",
    "    layout = Layout(\n",
    "        paper_bgcolor='rgba(0,0,0,0)',\n",
    "        plot_bgcolor='rgba(0,0,0,0)'\n",
    "    )\n",
    "    \n",
    "    fig = go.Figure(layout=layout)\n",
    "    \n",
    "    for i, vals in tqdm(climate.iterrows()):\n",
    "        x, y = np.array(vals.geometry.exterior.coords.xy)\n",
    "        dist = vals['level']\n",
    "        zone = vals['zone_color']\n",
    "        zone_color = zone.translate(remove_digits)\n",
    "        fig.add_trace(go.Scatter(x=x, y=y, text=dist, line_color=zone_color,\n",
    "                                fill='toself',fillcolor=zone_color, line_width=0.3, \n",
    "                                 mode='lines', opacity=0.3))\n",
    "        \n",
    "    fig.update_layout(showlegend=False, dragmode='pan', width=1000, height=1000)\n",
    "    fig.update_xaxes(visible=False)\n",
    "    fig.update_yaxes(visible=False, scaleanchor=\"x\", scaleratio=1)\n",
    "    \n",
    "    return fig"
   ]
  },
  {
   "cell_type": "code",
   "execution_count": 10,
   "id": "e2f25240",
   "metadata": {
    "ExecuteTime": {
     "end_time": "2023-05-23T04:53:31.066244Z",
     "start_time": "2023-05-23T04:53:29.816801Z"
    }
   },
   "outputs": [],
   "source": [
    "# mymap = plot_climate_zones(climate_zones)"
   ]
  },
  {
   "cell_type": "code",
   "execution_count": 11,
   "id": "b635764a",
   "metadata": {
    "ExecuteTime": {
     "end_time": "2023-05-23T06:31:44.475858Z",
     "start_time": "2023-05-23T06:31:44.473360Z"
    }
   },
   "outputs": [],
   "source": [
    "# config = dict({'scrollZoom': True})\n",
    "# mymap.show(config=config)"
   ]
  },
  {
   "cell_type": "markdown",
   "id": "942c29f7",
   "metadata": {},
   "source": [
    "# russian + climate map"
   ]
  },
  {
   "cell_type": "code",
   "execution_count": 12,
   "id": "2bc0c5e4",
   "metadata": {
    "ExecuteTime": {
     "end_time": "2023-05-23T06:31:30.982239Z",
     "start_time": "2023-05-23T06:31:25.566291Z"
    }
   },
   "outputs": [],
   "source": [
    "# карта России geojson\n",
    "ru_map = gpd.read_file('map_data/russia_regions_stats.geojson')\n",
    "ru_map = ru_map.to_crs('ESRI:102027')"
   ]
  },
  {
   "cell_type": "code",
   "execution_count": 13,
   "id": "e17312e0",
   "metadata": {
    "ExecuteTime": {
     "end_time": "2023-05-23T06:31:31.284381Z",
     "start_time": "2023-05-23T06:31:30.982239Z"
    }
   },
   "outputs": [
    {
     "data": {
      "text/html": [
       "<div>\n",
       "<style scoped>\n",
       "    .dataframe tbody tr th:only-of-type {\n",
       "        vertical-align: middle;\n",
       "    }\n",
       "\n",
       "    .dataframe tbody tr th {\n",
       "        vertical-align: top;\n",
       "    }\n",
       "\n",
       "    .dataframe thead th {\n",
       "        text-align: right;\n",
       "    }\n",
       "</style>\n",
       "<table border=\"1\" class=\"dataframe\">\n",
       "  <thead>\n",
       "    <tr style=\"text-align: right;\">\n",
       "      <th></th>\n",
       "      <th>name_ru</th>\n",
       "      <th>name_en</th>\n",
       "      <th>federal_district</th>\n",
       "      <th>count_osm</th>\n",
       "      <th>count_mapbox</th>\n",
       "      <th>mapbox_img_2019_2020_pct</th>\n",
       "      <th>ratio_mapbox_osm</th>\n",
       "      <th>updated</th>\n",
       "      <th>geometry</th>\n",
       "    </tr>\n",
       "  </thead>\n",
       "  <tbody>\n",
       "    <tr>\n",
       "      <th>0</th>\n",
       "      <td>Пензенская область</td>\n",
       "      <td>Penza oblast</td>\n",
       "      <td>Приволжский</td>\n",
       "      <td>255374</td>\n",
       "      <td>300161</td>\n",
       "      <td>34.255814</td>\n",
       "      <td>1.175380</td>\n",
       "      <td>NaN</td>\n",
       "      <td>MULTIPOLYGON (((-3034722.148 3368565.973, -303...</td>\n",
       "    </tr>\n",
       "    <tr>\n",
       "      <th>1</th>\n",
       "      <td>Саратовская область</td>\n",
       "      <td>Saratov oblast</td>\n",
       "      <td>Приволжский</td>\n",
       "      <td>491455</td>\n",
       "      <td>601512</td>\n",
       "      <td>41.771953</td>\n",
       "      <td>1.223940</td>\n",
       "      <td>NaN</td>\n",
       "      <td>MULTIPOLYGON (((-3136095.833 3178595.472, -313...</td>\n",
       "    </tr>\n",
       "    <tr>\n",
       "      <th>2</th>\n",
       "      <td>Мордовия</td>\n",
       "      <td>Mordovia</td>\n",
       "      <td>Приволжский</td>\n",
       "      <td>191140</td>\n",
       "      <td>191942</td>\n",
       "      <td>81.121859</td>\n",
       "      <td>1.004200</td>\n",
       "      <td>NaN</td>\n",
       "      <td>MULTIPOLYGON (((-3000292.487 3408729.339, -300...</td>\n",
       "    </tr>\n",
       "    <tr>\n",
       "      <th>3</th>\n",
       "      <td>Тамбовская область</td>\n",
       "      <td>Tambov oblast</td>\n",
       "      <td>Центральный</td>\n",
       "      <td>240795</td>\n",
       "      <td>184504</td>\n",
       "      <td>58.284703</td>\n",
       "      <td>0.766229</td>\n",
       "      <td>NaN</td>\n",
       "      <td>MULTIPOLYGON (((-3205780.449 3360578.790, -320...</td>\n",
       "    </tr>\n",
       "    <tr>\n",
       "      <th>4</th>\n",
       "      <td>Рязанская область</td>\n",
       "      <td>Ryazan Oblast</td>\n",
       "      <td>Центральный</td>\n",
       "      <td>135783</td>\n",
       "      <td>238589</td>\n",
       "      <td>87.324990</td>\n",
       "      <td>1.757130</td>\n",
       "      <td>NaN</td>\n",
       "      <td>MULTIPOLYGON (((-3170823.903 3534078.608, -317...</td>\n",
       "    </tr>\n",
       "    <tr>\n",
       "      <th>...</th>\n",
       "      <td>...</td>\n",
       "      <td>...</td>\n",
       "      <td>...</td>\n",
       "      <td>...</td>\n",
       "      <td>...</td>\n",
       "      <td>...</td>\n",
       "      <td>...</td>\n",
       "      <td>...</td>\n",
       "      <td>...</td>\n",
       "    </tr>\n",
       "    <tr>\n",
       "      <th>80</th>\n",
       "      <td>Ивановская область</td>\n",
       "      <td>Ivanovo oblast</td>\n",
       "      <td>Центральный</td>\n",
       "      <td>88559</td>\n",
       "      <td>194870</td>\n",
       "      <td>88.912088</td>\n",
       "      <td>2.200450</td>\n",
       "      <td>NaN</td>\n",
       "      <td>MULTIPOLYGON (((-2976095.236 3720906.910, -297...</td>\n",
       "    </tr>\n",
       "    <tr>\n",
       "      <th>81</th>\n",
       "      <td>Костромская область</td>\n",
       "      <td>Kostroma oblast</td>\n",
       "      <td>Центральный</td>\n",
       "      <td>77873</td>\n",
       "      <td>135149</td>\n",
       "      <td>43.502731</td>\n",
       "      <td>1.735510</td>\n",
       "      <td>NaN</td>\n",
       "      <td>MULTIPOLYGON (((-2893325.672 3734902.940, -289...</td>\n",
       "    </tr>\n",
       "    <tr>\n",
       "      <th>82</th>\n",
       "      <td>Марий Эл</td>\n",
       "      <td>Mari El</td>\n",
       "      <td>Приволжский</td>\n",
       "      <td>152951</td>\n",
       "      <td>183194</td>\n",
       "      <td>92.948044</td>\n",
       "      <td>1.197730</td>\n",
       "      <td>NaN</td>\n",
       "      <td>MULTIPOLYGON (((-2699463.030 3488398.120, -269...</td>\n",
       "    </tr>\n",
       "    <tr>\n",
       "      <th>83</th>\n",
       "      <td>Магаданская область</td>\n",
       "      <td>Magadan oblast</td>\n",
       "      <td>Дальневосточный</td>\n",
       "      <td>9940</td>\n",
       "      <td>13626</td>\n",
       "      <td>47.188903</td>\n",
       "      <td>1.370820</td>\n",
       "      <td>NaN</td>\n",
       "      <td>MULTIPOLYGON (((2997902.542 4430646.893, 29979...</td>\n",
       "    </tr>\n",
       "    <tr>\n",
       "      <th>84</th>\n",
       "      <td>Калмыкия</td>\n",
       "      <td>Kalmykia</td>\n",
       "      <td>Южный</td>\n",
       "      <td>29154</td>\n",
       "      <td>62613</td>\n",
       "      <td>68.444393</td>\n",
       "      <td>2.147660</td>\n",
       "      <td>NaN</td>\n",
       "      <td>MULTIPOLYGON (((-3505033.372 2757342.881, -350...</td>\n",
       "    </tr>\n",
       "  </tbody>\n",
       "</table>\n",
       "<p>85 rows × 9 columns</p>\n",
       "</div>"
      ],
      "text/plain": [
       "                name_ru          name_en federal_district  count_osm  \\\n",
       "0    Пензенская область     Penza oblast      Приволжский     255374   \n",
       "1   Саратовская область   Saratov oblast      Приволжский     491455   \n",
       "2              Мордовия         Mordovia      Приволжский     191140   \n",
       "3    Тамбовская область    Tambov oblast      Центральный     240795   \n",
       "4     Рязанская область    Ryazan Oblast      Центральный     135783   \n",
       "..                  ...              ...              ...        ...   \n",
       "80   Ивановская область   Ivanovo oblast      Центральный      88559   \n",
       "81  Костромская область  Kostroma oblast      Центральный      77873   \n",
       "82             Марий Эл          Mari El      Приволжский     152951   \n",
       "83  Магаданская область   Magadan oblast  Дальневосточный       9940   \n",
       "84             Калмыкия         Kalmykia            Южный      29154   \n",
       "\n",
       "    count_mapbox  mapbox_img_2019_2020_pct  ratio_mapbox_osm updated  \\\n",
       "0         300161                 34.255814          1.175380     NaN   \n",
       "1         601512                 41.771953          1.223940     NaN   \n",
       "2         191942                 81.121859          1.004200     NaN   \n",
       "3         184504                 58.284703          0.766229     NaN   \n",
       "4         238589                 87.324990          1.757130     NaN   \n",
       "..           ...                       ...               ...     ...   \n",
       "80        194870                 88.912088          2.200450     NaN   \n",
       "81        135149                 43.502731          1.735510     NaN   \n",
       "82        183194                 92.948044          1.197730     NaN   \n",
       "83         13626                 47.188903          1.370820     NaN   \n",
       "84         62613                 68.444393          2.147660     NaN   \n",
       "\n",
       "                                             geometry  \n",
       "0   MULTIPOLYGON (((-3034722.148 3368565.973, -303...  \n",
       "1   MULTIPOLYGON (((-3136095.833 3178595.472, -313...  \n",
       "2   MULTIPOLYGON (((-3000292.487 3408729.339, -300...  \n",
       "3   MULTIPOLYGON (((-3205780.449 3360578.790, -320...  \n",
       "4   MULTIPOLYGON (((-3170823.903 3534078.608, -317...  \n",
       "..                                                ...  \n",
       "80  MULTIPOLYGON (((-2976095.236 3720906.910, -297...  \n",
       "81  MULTIPOLYGON (((-2893325.672 3734902.940, -289...  \n",
       "82  MULTIPOLYGON (((-2699463.030 3488398.120, -269...  \n",
       "83  MULTIPOLYGON (((2997902.542 4430646.893, 29979...  \n",
       "84  MULTIPOLYGON (((-3505033.372 2757342.881, -350...  \n",
       "\n",
       "[85 rows x 9 columns]"
      ]
     },
     "execution_count": 13,
     "metadata": {},
     "output_type": "execute_result"
    }
   ],
   "source": [
    "ru_map"
   ]
  },
  {
   "cell_type": "code",
   "execution_count": 14,
   "id": "c3e58597",
   "metadata": {
    "ExecuteTime": {
     "end_time": "2023-05-23T06:31:31.810372Z",
     "start_time": "2023-05-23T06:31:31.285969Z"
    }
   },
   "outputs": [
    {
     "name": "stderr",
     "output_type": "stream",
     "text": [
      "85it [00:00, 172.73it/s]\n"
     ]
    }
   ],
   "source": [
    "# преобразование multipolygon в полигон \n",
    "ru_map['area'] = ru_map.geometry.apply(lambda x: x.area)\n",
    "ru_map_regions = geoseries2shapedict(ru_map.sort_values(by=['area'], \n",
    "                                                        axis=0, \n",
    "                                                        ascending=False), \n",
    "                                     'name_ru', 'rumap')"
   ]
  },
  {
   "cell_type": "code",
   "execution_count": 15,
   "id": "95bd04d3",
   "metadata": {},
   "outputs": [],
   "source": [
    "def plot_ru_zones(ru_regions, climate):\n",
    "    \n",
    "    layout = Layout(\n",
    "        paper_bgcolor='rgba(0,0,0,0)',\n",
    "        plot_bgcolor='rgba(0,0,0,0)'\n",
    "    )\n",
    "    \n",
    "    fig = go.Figure(layout=layout)\n",
    "    \n",
    "    for reg, vals in tqdm(ru_regions.items()):\n",
    "        x, y, dist = vals\n",
    "        fig.add_trace(go.Scatter(x=x, y=y, text=dist, \n",
    "                                 line_color='grey', fill='toself',fillcolor='rgba(255,255,255,0)', line_width=1))\n",
    "    \n",
    "    for i, vals in tqdm(climate.iterrows()):\n",
    "        x, y = np.array(vals.geometry.exterior.coords.xy)\n",
    "        dist = vals['level']\n",
    "        zone = vals['zone_color']\n",
    "        zone_color = zone.translate(remove_digits)\n",
    "        fig.add_trace(go.Scatter(x=x, y=y, text=dist, line_color=zone_color,\n",
    "                                fill='toself',fillcolor=zone_color, line_width=0.3, \n",
    "                                 mode='lines', opacity=0.3))\n",
    "        \n",
    "    fig.update_layout(showlegend=False, dragmode='pan', width=1000, height=1000)\n",
    "    fig.update_xaxes(visible=False)\n",
    "    fig.update_yaxes(visible=False, scaleanchor=\"x\", scaleratio=1)\n",
    "    \n",
    "    return fig"
   ]
  },
  {
   "cell_type": "code",
   "execution_count": 16,
   "id": "a7e42e10",
   "metadata": {},
   "outputs": [],
   "source": [
    "# mymap = plot_ru_zones(ru_map_regions, climate_zones)"
   ]
  },
  {
   "cell_type": "code",
   "execution_count": 17,
   "id": "8dab604d",
   "metadata": {},
   "outputs": [],
   "source": [
    "# config = dict({'scrollZoom': True})\n",
    "# mymap.show(config=config)"
   ]
  },
  {
   "cell_type": "markdown",
   "id": "184413ef",
   "metadata": {},
   "source": [
    "# districts + climate map"
   ]
  },
  {
   "cell_type": "code",
   "execution_count": 18,
   "id": "d37a2aa1",
   "metadata": {
    "ExecuteTime": {
     "end_time": "2023-05-23T06:32:03.802326Z",
     "start_time": "2023-05-23T06:32:02.890830Z"
    }
   },
   "outputs": [],
   "source": [
    "all_ru_regions = pd.read_csv('map_data/ru_regions_kadastr.csv')"
   ]
  },
  {
   "cell_type": "code",
   "execution_count": 19,
   "id": "803a9310",
   "metadata": {
    "ExecuteTime": {
     "end_time": "2023-05-23T06:32:06.863143Z",
     "start_time": "2023-05-23T06:32:04.848433Z"
    }
   },
   "outputs": [],
   "source": [
    "all_ru_regions = gpd.GeoDataFrame(all_ru_regions, geometry=wkt.loads(all_ru_regions.geometry), crs='ESRI:102027')"
   ]
  },
  {
   "cell_type": "code",
   "execution_count": 20,
   "id": "1f598ef5",
   "metadata": {
    "ExecuteTime": {
     "end_time": "2023-05-23T06:32:06.908514Z",
     "start_time": "2023-05-23T06:32:06.864646Z"
    }
   },
   "outputs": [
    {
     "data": {
      "text/html": [
       "<div>\n",
       "<style scoped>\n",
       "    .dataframe tbody tr th:only-of-type {\n",
       "        vertical-align: middle;\n",
       "    }\n",
       "\n",
       "    .dataframe tbody tr th {\n",
       "        vertical-align: top;\n",
       "    }\n",
       "\n",
       "    .dataframe thead th {\n",
       "        text-align: right;\n",
       "    }\n",
       "</style>\n",
       "<table border=\"1\" class=\"dataframe\">\n",
       "  <thead>\n",
       "    <tr style=\"text-align: right;\">\n",
       "      <th></th>\n",
       "      <th>name</th>\n",
       "      <th>name__ru</th>\n",
       "      <th>wikipedia</th>\n",
       "      <th>geometry</th>\n",
       "      <th>area</th>\n",
       "      <th>reg</th>\n",
       "      <th>dst</th>\n",
       "    </tr>\n",
       "  </thead>\n",
       "  <tbody>\n",
       "    <tr>\n",
       "      <th>0</th>\n",
       "      <td>Селенгинский район</td>\n",
       "      <td>Селенгинский район</td>\n",
       "      <td>ru:Селенгинский район</td>\n",
       "      <td>POLYGON ((772911.849 2183926.259, 770829.137 2...</td>\n",
       "      <td>6.729938e+09</td>\n",
       "      <td>3.0</td>\n",
       "      <td>18.0</td>\n",
       "    </tr>\n",
       "    <tr>\n",
       "      <th>1</th>\n",
       "      <td>Хоринский район</td>\n",
       "      <td>Хоринский район</td>\n",
       "      <td>ru:Хоринский район</td>\n",
       "      <td>POLYGON ((975660.756 2392376.746, 968958.946 2...</td>\n",
       "      <td>1.216154e+10</td>\n",
       "      <td>3.0</td>\n",
       "      <td>21.0</td>\n",
       "    </tr>\n",
       "    <tr>\n",
       "      <th>2</th>\n",
       "      <td>Курумканский район</td>\n",
       "      <td>Курумканский район</td>\n",
       "      <td>ru:Курумканский район</td>\n",
       "      <td>POLYGON ((1006551.636 2652187.027, 1001762.061...</td>\n",
       "      <td>1.117060e+10</td>\n",
       "      <td>3.0</td>\n",
       "      <td>11.0</td>\n",
       "    </tr>\n",
       "    <tr>\n",
       "      <th>3</th>\n",
       "      <td>Брюховецкий район</td>\n",
       "      <td>Брюховецкий район</td>\n",
       "      <td>ru:Брюховецкий район</td>\n",
       "      <td>POLYGON ((-3642267.062 2820599.306, -3642492.8...</td>\n",
       "      <td>1.132083e+09</td>\n",
       "      <td>23.0</td>\n",
       "      <td>4.0</td>\n",
       "    </tr>\n",
       "    <tr>\n",
       "      <th>4</th>\n",
       "      <td>Павловский район</td>\n",
       "      <td>Павловский район</td>\n",
       "      <td>ru:Павловский район (Краснодарский край)</td>\n",
       "      <td>POLYGON ((-3583010.429 2801858.794, -3583399.7...</td>\n",
       "      <td>1.472633e+09</td>\n",
       "      <td>23.0</td>\n",
       "      <td>24.0</td>\n",
       "    </tr>\n",
       "  </tbody>\n",
       "</table>\n",
       "</div>"
      ],
      "text/plain": [
       "                 name            name__ru  \\\n",
       "0  Селенгинский район  Селенгинский район   \n",
       "1     Хоринский район     Хоринский район   \n",
       "2  Курумканский район  Курумканский район   \n",
       "3   Брюховецкий район   Брюховецкий район   \n",
       "4    Павловский район    Павловский район   \n",
       "\n",
       "                                  wikipedia  \\\n",
       "0                     ru:Селенгинский район   \n",
       "1                        ru:Хоринский район   \n",
       "2                     ru:Курумканский район   \n",
       "3                      ru:Брюховецкий район   \n",
       "4  ru:Павловский район (Краснодарский край)   \n",
       "\n",
       "                                            geometry          area   reg   dst  \n",
       "0  POLYGON ((772911.849 2183926.259, 770829.137 2...  6.729938e+09   3.0  18.0  \n",
       "1  POLYGON ((975660.756 2392376.746, 968958.946 2...  1.216154e+10   3.0  21.0  \n",
       "2  POLYGON ((1006551.636 2652187.027, 1001762.061...  1.117060e+10   3.0  11.0  \n",
       "3  POLYGON ((-3642267.062 2820599.306, -3642492.8...  1.132083e+09  23.0   4.0  \n",
       "4  POLYGON ((-3583010.429 2801858.794, -3583399.7...  1.472633e+09  23.0  24.0  "
      ]
     },
     "execution_count": 20,
     "metadata": {},
     "output_type": "execute_result"
    }
   ],
   "source": [
    "all_ru_regions.head(5)"
   ]
  },
  {
   "cell_type": "code",
   "execution_count": 21,
   "id": "5ad932c3",
   "metadata": {
    "ExecuteTime": {
     "end_time": "2023-05-23T06:33:06.202116Z",
     "start_time": "2023-05-23T06:33:06.198215Z"
    }
   },
   "outputs": [
    {
     "data": {
      "text/plain": [
       "2365"
      ]
     },
     "execution_count": 21,
     "metadata": {},
     "output_type": "execute_result"
    }
   ],
   "source": [
    "all_ru_regions.shape[0]"
   ]
  },
  {
   "cell_type": "code",
   "execution_count": 22,
   "id": "4fda6d22",
   "metadata": {
    "ExecuteTime": {
     "end_time": "2023-05-23T06:50:31.356604Z",
     "start_time": "2023-05-23T06:50:31.349169Z"
    }
   },
   "outputs": [],
   "source": [
    "def plot_reg_zone(climate, regions):\n",
    "    \n",
    "    layout = Layout(\n",
    "        paper_bgcolor='rgba(0,0,0,0)',\n",
    "        plot_bgcolor='rgba(0,0,0,0)'\n",
    "    )\n",
    "    \n",
    "    fig = go.Figure(layout=layout)\n",
    "    \n",
    "    for i, vals in tqdm(climate.iterrows()):\n",
    "        x, y = np.array(vals.geometry.exterior.coords.xy)\n",
    "        dist = vals['level']\n",
    "        zone = vals['zone_color']\n",
    "        zone_color = zone.translate(remove_digits)\n",
    "        fig.add_trace(go.Scatter(x=x, y=y, text=dist, line_color=zone_color,\n",
    "                                fill='toself',fillcolor=zone_color, line_width=0.3, \n",
    "                                 mode='lines', opacity=0.3))\n",
    "        \n",
    "    for reg, vals in tqdm(regions.items()):\n",
    "        x, y, dist = vals\n",
    "        fig.add_trace(go.Scatter(x=x, y=y, text=reg, line_color='black', line_width=0.3, mode='lines'))\n",
    "        \n",
    "    fig.update_layout(showlegend=False, dragmode='pan', width=1000, height=1000)\n",
    "    fig.update_xaxes(visible=False)\n",
    "    fig.update_yaxes(visible=False, scaleanchor=\"x\", scaleratio=1)\n",
    "    \n",
    "    return fig"
   ]
  },
  {
   "cell_type": "code",
   "execution_count": 23,
   "id": "92d2bbeb",
   "metadata": {
    "ExecuteTime": {
     "end_time": "2023-05-23T06:50:36.330363Z",
     "start_time": "2023-05-23T06:50:35.282641Z"
    }
   },
   "outputs": [
    {
     "name": "stderr",
     "output_type": "stream",
     "text": [
      "2365it [00:01, 2306.39it/s]\n"
     ]
    }
   ],
   "source": [
    "all_ru_regions_map = geoseries2shapedict(all_ru_regions.sort_values(by=['area'], axis=0, ascending=False), 'name', 'regmap')"
   ]
  },
  {
   "cell_type": "code",
   "execution_count": 24,
   "id": "1b08f482",
   "metadata": {
    "ExecuteTime": {
     "end_time": "2023-05-23T06:50:42.857440Z",
     "start_time": "2023-05-23T06:50:41.511731Z"
    }
   },
   "outputs": [],
   "source": [
    "# mymap = plot_reg_zone(climate_zones, all_ru_regions_map)"
   ]
  },
  {
   "cell_type": "code",
   "execution_count": 25,
   "id": "1d074676",
   "metadata": {},
   "outputs": [],
   "source": [
    "# config = dict({'scrollZoom': True})\n",
    "# mymap.show(config=config)"
   ]
  },
  {
   "cell_type": "markdown",
   "id": "16ef4a54",
   "metadata": {},
   "source": [
    "# districts in climate zones"
   ]
  },
  {
   "cell_type": "code",
   "execution_count": 26,
   "id": "9e197e3a",
   "metadata": {
    "ExecuteTime": {
     "end_time": "2023-05-23T06:45:04.451257Z",
     "start_time": "2023-05-23T06:45:04.447143Z"
    }
   },
   "outputs": [],
   "source": [
    "all_ru_regions[['zone', 'zone_id']] = [None, None]"
   ]
  },
  {
   "cell_type": "code",
   "execution_count": 27,
   "id": "98aeafac",
   "metadata": {
    "ExecuteTime": {
     "end_time": "2023-05-23T06:45:12.588732Z",
     "start_time": "2023-05-23T06:45:12.428459Z"
    }
   },
   "outputs": [],
   "source": [
    "all_ru_regions.geometry = all_ru_regions.geometry.scale(xfact=0.01, yfact=0.01, origin='center')"
   ]
  },
  {
   "cell_type": "code",
   "execution_count": 31,
   "id": "1e69cdf5",
   "metadata": {
    "ExecuteTime": {
     "end_time": "2023-05-23T06:45:27.446515Z",
     "start_time": "2023-05-23T06:45:24.141800Z"
    }
   },
   "outputs": [],
   "source": [
    "for i, all_val in all_ru_regions.iterrows():\n",
    "    cnter = 0\n",
    "    list_j = []\n",
    "    for j, f_val in climate_zones.iterrows():\n",
    "        try:\n",
    "            if f_val.geometry.contains(all_val.geometry):\n",
    "                all_ru_regions.iloc[i,-2:] = [f_val.level, f_val.zone_id]\n",
    "                list_j.append(j)\n",
    "                cnter += 1\n",
    "            else:\n",
    "                pass\n",
    "        except:\n",
    "            print('error, ', i,j)\n",
    "    if cnter > 1:\n",
    "        print(cnter, i, list_j)"
   ]
  },
  {
   "cell_type": "code",
   "execution_count": 32,
   "id": "be205b29",
   "metadata": {
    "ExecuteTime": {
     "end_time": "2023-05-23T06:45:34.676951Z",
     "start_time": "2023-05-23T06:45:34.518910Z"
    }
   },
   "outputs": [],
   "source": [
    "all_ru_regions.geometry = all_ru_regions.geometry.scale(xfact=100, yfact=100, origin='center')"
   ]
  },
  {
   "cell_type": "code",
   "execution_count": 33,
   "id": "8559997a",
   "metadata": {},
   "outputs": [
    {
     "data": {
      "text/plain": [
       "Умеренный         0.979531\n",
       "Субарктический    0.016205\n",
       "Арктический       0.004264\n",
       "Name: zone, dtype: float64"
      ]
     },
     "execution_count": 33,
     "metadata": {},
     "output_type": "execute_result"
    }
   ],
   "source": [
    "all_ru_regions.zone.value_counts(normalize=True)"
   ]
  },
  {
   "cell_type": "markdown",
   "id": "9e72f6ab",
   "metadata": {},
   "source": [
    "# fires"
   ]
  },
  {
   "cell_type": "code",
   "execution_count": 40,
   "id": "9f1c5b5f",
   "metadata": {
    "ExecuteTime": {
     "end_time": "2023-05-23T06:31:48.863419Z",
     "start_time": "2023-05-23T06:31:47.491074Z"
    }
   },
   "outputs": [],
   "source": [
    "fire_df = pd.read_csv('map_data/train_raw.csv')\n",
    "fire_df = gpd.GeoDataFrame(fire_df, geometry=gpd.points_from_xy(fire_df.lon, fire_df.lat), crs='EPSG:4326')\n",
    "fire_df = fire_df.to_crs('ESRI:102027')"
   ]
  },
  {
   "cell_type": "code",
   "execution_count": 41,
   "id": "f6ba56f4",
   "metadata": {
    "ExecuteTime": {
     "end_time": "2023-05-23T06:31:48.888059Z",
     "start_time": "2023-05-23T06:31:48.863419Z"
    }
   },
   "outputs": [
    {
     "data": {
      "text/plain": [
       "Лесной пожар            223372\n",
       "Неконтролируемый пал    139880\n",
       "Контролируемый пал       96870\n",
       "Природный пожар          87477\n",
       "Торфяной пожар             164\n",
       "Name: type_name, dtype: int64"
      ]
     },
     "execution_count": 41,
     "metadata": {},
     "output_type": "execute_result"
    }
   ],
   "source": [
    "fire_df.type_name.value_counts()"
   ]
  },
  {
   "cell_type": "code",
   "execution_count": 42,
   "id": "7a4d009c",
   "metadata": {
    "ExecuteTime": {
     "end_time": "2023-05-23T06:31:49.181932Z",
     "start_time": "2023-05-23T06:31:49.090058Z"
    }
   },
   "outputs": [],
   "source": [
    "fire_df = fire_df[fire_df.type_name != 'Контролируемый пал']"
   ]
  },
  {
   "cell_type": "code",
   "execution_count": 43,
   "id": "90a081e9",
   "metadata": {
    "ExecuteTime": {
     "end_time": "2023-05-23T06:31:49.619871Z",
     "start_time": "2023-05-23T06:31:49.605801Z"
    }
   },
   "outputs": [
    {
     "data": {
      "text/html": [
       "<div>\n",
       "<style scoped>\n",
       "    .dataframe tbody tr th:only-of-type {\n",
       "        vertical-align: middle;\n",
       "    }\n",
       "\n",
       "    .dataframe tbody tr th {\n",
       "        vertical-align: top;\n",
       "    }\n",
       "\n",
       "    .dataframe thead th {\n",
       "        text-align: right;\n",
       "    }\n",
       "</style>\n",
       "<table border=\"1\" class=\"dataframe\">\n",
       "  <thead>\n",
       "    <tr style=\"text-align: right;\">\n",
       "      <th></th>\n",
       "      <th>dt</th>\n",
       "      <th>lon</th>\n",
       "      <th>lat</th>\n",
       "      <th>type_id</th>\n",
       "      <th>type_name</th>\n",
       "      <th>geometry</th>\n",
       "    </tr>\n",
       "  </thead>\n",
       "  <tbody>\n",
       "    <tr>\n",
       "      <th>0</th>\n",
       "      <td>2012-03-13</td>\n",
       "      <td>131.586613</td>\n",
       "      <td>47.866183</td>\n",
       "      <td>4</td>\n",
       "      <td>Природный пожар</td>\n",
       "      <td>POINT (2417438.976 2326194.868)</td>\n",
       "    </tr>\n",
       "    <tr>\n",
       "      <th>1</th>\n",
       "      <td>2012-03-13</td>\n",
       "      <td>131.588507</td>\n",
       "      <td>47.880940</td>\n",
       "      <td>4</td>\n",
       "      <td>Природный пожар</td>\n",
       "      <td>POINT (2416940.112 2327608.703)</td>\n",
       "    </tr>\n",
       "    <tr>\n",
       "      <th>2</th>\n",
       "      <td>2012-03-13</td>\n",
       "      <td>131.987129</td>\n",
       "      <td>48.497325</td>\n",
       "      <td>3</td>\n",
       "      <td>Лесной пожар</td>\n",
       "      <td>POINT (2415613.703 2395616.579)</td>\n",
       "    </tr>\n",
       "    <tr>\n",
       "      <th>3</th>\n",
       "      <td>2012-03-13</td>\n",
       "      <td>131.903087</td>\n",
       "      <td>43.627665</td>\n",
       "      <td>4</td>\n",
       "      <td>Природный пожар</td>\n",
       "      <td>POINT (2614879.276 1946358.175)</td>\n",
       "    </tr>\n",
       "    <tr>\n",
       "      <th>4</th>\n",
       "      <td>2012-03-13</td>\n",
       "      <td>131.570614</td>\n",
       "      <td>47.858103</td>\n",
       "      <td>4</td>\n",
       "      <td>Природный пожар</td>\n",
       "      <td>POINT (2416783.637 2325000.347)</td>\n",
       "    </tr>\n",
       "    <tr>\n",
       "      <th>...</th>\n",
       "      <td>...</td>\n",
       "      <td>...</td>\n",
       "      <td>...</td>\n",
       "      <td>...</td>\n",
       "      <td>...</td>\n",
       "      <td>...</td>\n",
       "    </tr>\n",
       "    <tr>\n",
       "      <th>547753</th>\n",
       "      <td>2021-04-22</td>\n",
       "      <td>131.951770</td>\n",
       "      <td>44.499816</td>\n",
       "      <td>1</td>\n",
       "      <td>Неконтролируемый пал</td>\n",
       "      <td>POINT (2581558.615 2027639.592)</td>\n",
       "    </tr>\n",
       "    <tr>\n",
       "      <th>547754</th>\n",
       "      <td>2021-04-22</td>\n",
       "      <td>131.928114</td>\n",
       "      <td>44.846163</td>\n",
       "      <td>3</td>\n",
       "      <td>Лесной пожар</td>\n",
       "      <td>POINT (2565492.064 2058642.903)</td>\n",
       "    </tr>\n",
       "    <tr>\n",
       "      <th>547757</th>\n",
       "      <td>2021-04-22</td>\n",
       "      <td>114.285175</td>\n",
       "      <td>51.737231</td>\n",
       "      <td>3</td>\n",
       "      <td>Лесной пожар</td>\n",
       "      <td>POINT (1214981.154 2334769.006)</td>\n",
       "    </tr>\n",
       "    <tr>\n",
       "      <th>547759</th>\n",
       "      <td>2021-04-22</td>\n",
       "      <td>119.134877</td>\n",
       "      <td>50.929379</td>\n",
       "      <td>1</td>\n",
       "      <td>Неконтролируемый пал</td>\n",
       "      <td>POINT (1536148.968 2332372.036)</td>\n",
       "    </tr>\n",
       "    <tr>\n",
       "      <th>547762</th>\n",
       "      <td>2021-04-22</td>\n",
       "      <td>35.281053</td>\n",
       "      <td>56.223606</td>\n",
       "      <td>1</td>\n",
       "      <td>Неконтролируемый пал</td>\n",
       "      <td>POINT (-3200116.959 3819001.376)</td>\n",
       "    </tr>\n",
       "  </tbody>\n",
       "</table>\n",
       "<p>450893 rows × 6 columns</p>\n",
       "</div>"
      ],
      "text/plain": [
       "                dt         lon        lat  type_id             type_name  \\\n",
       "0       2012-03-13  131.586613  47.866183        4       Природный пожар   \n",
       "1       2012-03-13  131.588507  47.880940        4       Природный пожар   \n",
       "2       2012-03-13  131.987129  48.497325        3          Лесной пожар   \n",
       "3       2012-03-13  131.903087  43.627665        4       Природный пожар   \n",
       "4       2012-03-13  131.570614  47.858103        4       Природный пожар   \n",
       "...            ...         ...        ...      ...                   ...   \n",
       "547753  2021-04-22  131.951770  44.499816        1  Неконтролируемый пал   \n",
       "547754  2021-04-22  131.928114  44.846163        3          Лесной пожар   \n",
       "547757  2021-04-22  114.285175  51.737231        3          Лесной пожар   \n",
       "547759  2021-04-22  119.134877  50.929379        1  Неконтролируемый пал   \n",
       "547762  2021-04-22   35.281053  56.223606        1  Неконтролируемый пал   \n",
       "\n",
       "                                geometry  \n",
       "0        POINT (2417438.976 2326194.868)  \n",
       "1        POINT (2416940.112 2327608.703)  \n",
       "2        POINT (2415613.703 2395616.579)  \n",
       "3        POINT (2614879.276 1946358.175)  \n",
       "4        POINT (2416783.637 2325000.347)  \n",
       "...                                  ...  \n",
       "547753   POINT (2581558.615 2027639.592)  \n",
       "547754   POINT (2565492.064 2058642.903)  \n",
       "547757   POINT (1214981.154 2334769.006)  \n",
       "547759   POINT (1536148.968 2332372.036)  \n",
       "547762  POINT (-3200116.959 3819001.376)  \n",
       "\n",
       "[450893 rows x 6 columns]"
      ]
     },
     "execution_count": 43,
     "metadata": {},
     "output_type": "execute_result"
    }
   ],
   "source": [
    "fire_df"
   ]
  },
  {
   "cell_type": "markdown",
   "id": "d07a3766",
   "metadata": {},
   "source": [
    "# plot heat"
   ]
  },
  {
   "cell_type": "code",
   "execution_count": 44,
   "id": "0b290a76",
   "metadata": {
    "ExecuteTime": {
     "end_time": "2023-05-23T06:31:51.581563Z",
     "start_time": "2023-05-23T06:31:51.574813Z"
    }
   },
   "outputs": [],
   "source": [
    "def plot_ru_heat(regions, fires):\n",
    "    \n",
    "    # heat_map preparation\n",
    "    \n",
    "    fires['x'] = fires.geometry.x\n",
    "    fires['y'] = fires.geometry.y\n",
    "\n",
    "    ny = 100\n",
    "    nx = int(ny*(fires.x.max() - fires.x.min()) / (fires.y.max() - fires.y.min()))\n",
    "    \n",
    "    clrscl = [[0, 'rgba(255,128,0,0)'], \n",
    "              [0.1, 'rgba(255,128,0,128)'], \n",
    "              [0.3, 'rgba(255,128,0,128)'], \n",
    "              [0.5, 'rgba(255,64,0,255)'],\n",
    "              [0.7, 'rgba(255,128,0,128)'],  \n",
    "              [1, 'rgba(255,0,0,255)']]\n",
    "    \n",
    "    layout = Layout(\n",
    "        paper_bgcolor='rgba(0,0,0,0)',\n",
    "        plot_bgcolor='rgba(0,0,0,0)'\n",
    "    )\n",
    "    \n",
    "    fig = go.Figure(go.Histogram2d(x=fires.x, y=fires.y,\n",
    "                                nbinsx=nx,\n",
    "                                nbinsy=ny,\n",
    "                                colorscale='hot',\n",
    "                                showlegend=False, showscale=False, reversescale=True\n",
    "                            ), layout=layout)\n",
    "    \n",
    "    for reg, vals in tqdm(regions.items()):\n",
    "        x, y, dist = vals\n",
    "        fig.add_trace(go.Scatter(x=x, y=y, line_color='grey', fill='toself',fillcolor='rgba(255,255,255,0)', line_width=1))\n",
    "\n",
    "    fig.update_layout(showlegend=False, dragmode='pan', width=1000, height=1000)\n",
    "    fig.update_xaxes(visible=False)\n",
    "    fig.update_yaxes(visible=False, scaleanchor=\"x\", scaleratio=1)\n",
    "    \n",
    "    return fig"
   ]
  },
  {
   "cell_type": "code",
   "execution_count": 45,
   "id": "4f8c5c10",
   "metadata": {
    "ExecuteTime": {
     "end_time": "2023-05-23T06:31:54.446784Z",
     "start_time": "2023-05-23T06:31:54.443791Z"
    }
   },
   "outputs": [],
   "source": [
    "# mymap = plot_ru_heat(ru_map_regions, fire_df)"
   ]
  },
  {
   "cell_type": "code",
   "execution_count": 46,
   "id": "85f10c28",
   "metadata": {
    "ExecuteTime": {
     "end_time": "2023-05-23T06:32:00.111924Z",
     "start_time": "2023-05-23T06:32:00.108718Z"
    }
   },
   "outputs": [],
   "source": [
    "# config = dict({'scrollZoom': True})\n",
    "# mymap.show(config=config)"
   ]
  },
  {
   "cell_type": "markdown",
   "id": "f6c68e60",
   "metadata": {},
   "source": [
    "# fires in regions"
   ]
  },
  {
   "cell_type": "code",
   "execution_count": 47,
   "id": "6324dd8e",
   "metadata": {
    "ExecuteTime": {
     "end_time": "2023-05-23T06:32:06.908514Z",
     "start_time": "2023-05-23T06:32:06.864646Z"
    }
   },
   "outputs": [
    {
     "data": {
      "text/html": [
       "<div>\n",
       "<style scoped>\n",
       "    .dataframe tbody tr th:only-of-type {\n",
       "        vertical-align: middle;\n",
       "    }\n",
       "\n",
       "    .dataframe tbody tr th {\n",
       "        vertical-align: top;\n",
       "    }\n",
       "\n",
       "    .dataframe thead th {\n",
       "        text-align: right;\n",
       "    }\n",
       "</style>\n",
       "<table border=\"1\" class=\"dataframe\">\n",
       "  <thead>\n",
       "    <tr style=\"text-align: right;\">\n",
       "      <th></th>\n",
       "      <th>name</th>\n",
       "      <th>name__ru</th>\n",
       "      <th>wikipedia</th>\n",
       "      <th>geometry</th>\n",
       "      <th>area</th>\n",
       "      <th>reg</th>\n",
       "      <th>dst</th>\n",
       "      <th>zone</th>\n",
       "      <th>zone_id</th>\n",
       "    </tr>\n",
       "  </thead>\n",
       "  <tbody>\n",
       "    <tr>\n",
       "      <th>0</th>\n",
       "      <td>Селенгинский район</td>\n",
       "      <td>Селенгинский район</td>\n",
       "      <td>ru:Селенгинский район</td>\n",
       "      <td>POLYGON ((772911.849 2183926.259, 770829.137 2...</td>\n",
       "      <td>6.729938e+09</td>\n",
       "      <td>3.0</td>\n",
       "      <td>18.0</td>\n",
       "      <td>Умеренный</td>\n",
       "      <td>3</td>\n",
       "    </tr>\n",
       "    <tr>\n",
       "      <th>1</th>\n",
       "      <td>Хоринский район</td>\n",
       "      <td>Хоринский район</td>\n",
       "      <td>ru:Хоринский район</td>\n",
       "      <td>POLYGON ((975660.756 2392376.746, 968958.946 2...</td>\n",
       "      <td>1.216154e+10</td>\n",
       "      <td>3.0</td>\n",
       "      <td>21.0</td>\n",
       "      <td>Умеренный</td>\n",
       "      <td>3</td>\n",
       "    </tr>\n",
       "    <tr>\n",
       "      <th>2</th>\n",
       "      <td>Курумканский район</td>\n",
       "      <td>Курумканский район</td>\n",
       "      <td>ru:Курумканский район</td>\n",
       "      <td>POLYGON ((1006551.636 2652187.027, 1001762.061...</td>\n",
       "      <td>1.117060e+10</td>\n",
       "      <td>3.0</td>\n",
       "      <td>11.0</td>\n",
       "      <td>Умеренный</td>\n",
       "      <td>3</td>\n",
       "    </tr>\n",
       "    <tr>\n",
       "      <th>3</th>\n",
       "      <td>Брюховецкий район</td>\n",
       "      <td>Брюховецкий район</td>\n",
       "      <td>ru:Брюховецкий район</td>\n",
       "      <td>POLYGON ((-3642267.062 2820599.306, -3642492.8...</td>\n",
       "      <td>1.132083e+09</td>\n",
       "      <td>23.0</td>\n",
       "      <td>4.0</td>\n",
       "      <td>Умеренный</td>\n",
       "      <td>3</td>\n",
       "    </tr>\n",
       "    <tr>\n",
       "      <th>4</th>\n",
       "      <td>Павловский район</td>\n",
       "      <td>Павловский район</td>\n",
       "      <td>ru:Павловский район (Краснодарский край)</td>\n",
       "      <td>POLYGON ((-3583010.429 2801858.794, -3583399.7...</td>\n",
       "      <td>1.472633e+09</td>\n",
       "      <td>23.0</td>\n",
       "      <td>24.0</td>\n",
       "      <td>Умеренный</td>\n",
       "      <td>3</td>\n",
       "    </tr>\n",
       "    <tr>\n",
       "      <th>...</th>\n",
       "      <td>...</td>\n",
       "      <td>...</td>\n",
       "      <td>...</td>\n",
       "      <td>...</td>\n",
       "      <td>...</td>\n",
       "      <td>...</td>\n",
       "      <td>...</td>\n",
       "      <td>...</td>\n",
       "      <td>...</td>\n",
       "    </tr>\n",
       "    <tr>\n",
       "      <th>2360</th>\n",
       "      <td>Тамбов</td>\n",
       "      <td>NaN</td>\n",
       "      <td>ru:Тамбов</td>\n",
       "      <td>POLYGON ((-3124307.505 3303042.861, -3124603.5...</td>\n",
       "      <td>7.601746e+07</td>\n",
       "      <td>68.0</td>\n",
       "      <td>20.0</td>\n",
       "      <td>Умеренный</td>\n",
       "      <td>3</td>\n",
       "    </tr>\n",
       "    <tr>\n",
       "      <th>2361</th>\n",
       "      <td>Рассказовский район</td>\n",
       "      <td>NaN</td>\n",
       "      <td>ru:Рассказовский район</td>\n",
       "      <td>POLYGON ((-3081265.438 3272682.587, -3081149.2...</td>\n",
       "      <td>1.554211e+09</td>\n",
       "      <td>68.0</td>\n",
       "      <td>15.0</td>\n",
       "      <td>Умеренный</td>\n",
       "      <td>3</td>\n",
       "    </tr>\n",
       "    <tr>\n",
       "      <th>2362</th>\n",
       "      <td>Сосновский район</td>\n",
       "      <td>NaN</td>\n",
       "      <td>ru:Сосновский район (Тамбовская область)</td>\n",
       "      <td>POLYGON ((-3079943.869 3330265.964, -3082502.7...</td>\n",
       "      <td>2.043358e+09</td>\n",
       "      <td>68.0</td>\n",
       "      <td>18.0</td>\n",
       "      <td>Умеренный</td>\n",
       "      <td>3</td>\n",
       "    </tr>\n",
       "    <tr>\n",
       "      <th>2363</th>\n",
       "      <td>Тамбовский район</td>\n",
       "      <td>NaN</td>\n",
       "      <td>ru:Тамбовский район (Тамбовская область)</td>\n",
       "      <td>POLYGON ((-3101331.947 3297711.561, -3101893.6...</td>\n",
       "      <td>2.251141e+09</td>\n",
       "      <td>68.0</td>\n",
       "      <td>20.0</td>\n",
       "      <td>Умеренный</td>\n",
       "      <td>3</td>\n",
       "    </tr>\n",
       "    <tr>\n",
       "      <th>2364</th>\n",
       "      <td>Бондарский район</td>\n",
       "      <td>NaN</td>\n",
       "      <td>ru:Бондарский район</td>\n",
       "      <td>POLYGON ((-3065568.009 3280013.912, -3066563.7...</td>\n",
       "      <td>1.070212e+09</td>\n",
       "      <td>68.0</td>\n",
       "      <td>1.0</td>\n",
       "      <td>Умеренный</td>\n",
       "      <td>3</td>\n",
       "    </tr>\n",
       "  </tbody>\n",
       "</table>\n",
       "<p>2365 rows × 9 columns</p>\n",
       "</div>"
      ],
      "text/plain": [
       "                     name            name__ru  \\\n",
       "0      Селенгинский район  Селенгинский район   \n",
       "1         Хоринский район     Хоринский район   \n",
       "2      Курумканский район  Курумканский район   \n",
       "3       Брюховецкий район   Брюховецкий район   \n",
       "4        Павловский район    Павловский район   \n",
       "...                   ...                 ...   \n",
       "2360               Тамбов                 NaN   \n",
       "2361  Рассказовский район                 NaN   \n",
       "2362     Сосновский район                 NaN   \n",
       "2363     Тамбовский район                 NaN   \n",
       "2364     Бондарский район                 NaN   \n",
       "\n",
       "                                     wikipedia  \\\n",
       "0                        ru:Селенгинский район   \n",
       "1                           ru:Хоринский район   \n",
       "2                        ru:Курумканский район   \n",
       "3                         ru:Брюховецкий район   \n",
       "4     ru:Павловский район (Краснодарский край)   \n",
       "...                                        ...   \n",
       "2360                                 ru:Тамбов   \n",
       "2361                    ru:Рассказовский район   \n",
       "2362  ru:Сосновский район (Тамбовская область)   \n",
       "2363  ru:Тамбовский район (Тамбовская область)   \n",
       "2364                       ru:Бондарский район   \n",
       "\n",
       "                                               geometry          area   reg  \\\n",
       "0     POLYGON ((772911.849 2183926.259, 770829.137 2...  6.729938e+09   3.0   \n",
       "1     POLYGON ((975660.756 2392376.746, 968958.946 2...  1.216154e+10   3.0   \n",
       "2     POLYGON ((1006551.636 2652187.027, 1001762.061...  1.117060e+10   3.0   \n",
       "3     POLYGON ((-3642267.062 2820599.306, -3642492.8...  1.132083e+09  23.0   \n",
       "4     POLYGON ((-3583010.429 2801858.794, -3583399.7...  1.472633e+09  23.0   \n",
       "...                                                 ...           ...   ...   \n",
       "2360  POLYGON ((-3124307.505 3303042.861, -3124603.5...  7.601746e+07  68.0   \n",
       "2361  POLYGON ((-3081265.438 3272682.587, -3081149.2...  1.554211e+09  68.0   \n",
       "2362  POLYGON ((-3079943.869 3330265.964, -3082502.7...  2.043358e+09  68.0   \n",
       "2363  POLYGON ((-3101331.947 3297711.561, -3101893.6...  2.251141e+09  68.0   \n",
       "2364  POLYGON ((-3065568.009 3280013.912, -3066563.7...  1.070212e+09  68.0   \n",
       "\n",
       "       dst       zone zone_id  \n",
       "0     18.0  Умеренный       3  \n",
       "1     21.0  Умеренный       3  \n",
       "2     11.0  Умеренный       3  \n",
       "3      4.0  Умеренный       3  \n",
       "4     24.0  Умеренный       3  \n",
       "...    ...        ...     ...  \n",
       "2360  20.0  Умеренный       3  \n",
       "2361  15.0  Умеренный       3  \n",
       "2362  18.0  Умеренный       3  \n",
       "2363  20.0  Умеренный       3  \n",
       "2364   1.0  Умеренный       3  \n",
       "\n",
       "[2365 rows x 9 columns]"
      ]
     },
     "execution_count": 47,
     "metadata": {},
     "output_type": "execute_result"
    }
   ],
   "source": [
    "all_ru_regions"
   ]
  },
  {
   "cell_type": "code",
   "execution_count": 48,
   "id": "06067a51",
   "metadata": {
    "ExecuteTime": {
     "end_time": "2023-05-23T06:32:23.814598Z",
     "start_time": "2023-05-23T06:32:23.810192Z"
    }
   },
   "outputs": [],
   "source": [
    "all_ru_regions['fire_count'] = None"
   ]
  },
  {
   "cell_type": "code",
   "execution_count": 51,
   "id": "e3e181c9",
   "metadata": {
    "ExecuteTime": {
     "end_time": "2023-05-23T06:44:04.981007Z",
     "start_time": "2023-05-23T06:33:20.821145Z"
    }
   },
   "outputs": [
    {
     "name": "stderr",
     "output_type": "stream",
     "text": [
      "100%|██████████████████████████████████████████████████████████████████████████████| 2365/2365 [10:08<00:00,  3.88it/s]\n"
     ]
    }
   ],
   "source": [
    "for i, val in tqdm(all_ru_regions.iterrows(), total = all_ru_regions.shape[0]):\n",
    "    all_ru_regions.iloc[i, -1] = np.sum(all_ru_regions.iloc[i,3].contains(fire_df.geometry))"
   ]
  },
  {
   "cell_type": "code",
   "execution_count": 52,
   "id": "d6c2f03f",
   "metadata": {
    "ExecuteTime": {
     "end_time": "2023-05-23T06:44:51.693045Z",
     "start_time": "2023-05-23T06:44:51.672874Z"
    }
   },
   "outputs": [],
   "source": [
    "# вычисление отношения количества очагов пожаров к территории\n",
    "all_ru_regions['area_frac'] = all_ru_regions['area'] / 1e5\n",
    "all_ru_regions['fires_area_rate'] = all_ru_regions['fire_count']/all_ru_regions['area_frac']\n",
    "rate_multiply_value = 1 / all_ru_regions['fires_area_rate'].max()\n",
    "all_ru_regions['fires_area_rate'] = all_ru_regions['fires_area_rate'] * rate_multiply_value\n",
    "all_ru_regions['fires_area_rate'] = all_ru_regions['fires_area_rate'].apply(lambda x: round(x, 3))\n",
    "all_ru_regions.drop(columns=['area_frac'], inplace=True)"
   ]
  },
  {
   "cell_type": "code",
   "execution_count": 53,
   "id": "19ac6b0a",
   "metadata": {
    "ExecuteTime": {
     "end_time": "2023-05-23T06:44:52.708192Z",
     "start_time": "2023-05-23T06:44:52.677731Z"
    }
   },
   "outputs": [
    {
     "data": {
      "text/html": [
       "<div>\n",
       "<style scoped>\n",
       "    .dataframe tbody tr th:only-of-type {\n",
       "        vertical-align: middle;\n",
       "    }\n",
       "\n",
       "    .dataframe tbody tr th {\n",
       "        vertical-align: top;\n",
       "    }\n",
       "\n",
       "    .dataframe thead th {\n",
       "        text-align: right;\n",
       "    }\n",
       "</style>\n",
       "<table border=\"1\" class=\"dataframe\">\n",
       "  <thead>\n",
       "    <tr style=\"text-align: right;\">\n",
       "      <th></th>\n",
       "      <th>name</th>\n",
       "      <th>name__ru</th>\n",
       "      <th>wikipedia</th>\n",
       "      <th>geometry</th>\n",
       "      <th>area</th>\n",
       "      <th>reg</th>\n",
       "      <th>dst</th>\n",
       "      <th>zone</th>\n",
       "      <th>zone_id</th>\n",
       "      <th>fire_count</th>\n",
       "      <th>fires_area_rate</th>\n",
       "    </tr>\n",
       "  </thead>\n",
       "  <tbody>\n",
       "    <tr>\n",
       "      <th>0</th>\n",
       "      <td>Селенгинский район</td>\n",
       "      <td>Селенгинский район</td>\n",
       "      <td>ru:Селенгинский район</td>\n",
       "      <td>POLYGON ((772911.849 2183926.259, 770829.137 2...</td>\n",
       "      <td>6.729938e+09</td>\n",
       "      <td>3.0</td>\n",
       "      <td>18.0</td>\n",
       "      <td>Умеренный</td>\n",
       "      <td>3</td>\n",
       "      <td>224</td>\n",
       "      <td>0.016</td>\n",
       "    </tr>\n",
       "    <tr>\n",
       "      <th>1</th>\n",
       "      <td>Хоринский район</td>\n",
       "      <td>Хоринский район</td>\n",
       "      <td>ru:Хоринский район</td>\n",
       "      <td>POLYGON ((975660.756 2392376.746, 968958.946 2...</td>\n",
       "      <td>1.216154e+10</td>\n",
       "      <td>3.0</td>\n",
       "      <td>21.0</td>\n",
       "      <td>Умеренный</td>\n",
       "      <td>3</td>\n",
       "      <td>529</td>\n",
       "      <td>0.020</td>\n",
       "    </tr>\n",
       "    <tr>\n",
       "      <th>2</th>\n",
       "      <td>Курумканский район</td>\n",
       "      <td>Курумканский район</td>\n",
       "      <td>ru:Курумканский район</td>\n",
       "      <td>POLYGON ((1006551.636 2652187.027, 1001762.061...</td>\n",
       "      <td>1.117060e+10</td>\n",
       "      <td>3.0</td>\n",
       "      <td>11.0</td>\n",
       "      <td>Умеренный</td>\n",
       "      <td>3</td>\n",
       "      <td>1006</td>\n",
       "      <td>0.042</td>\n",
       "    </tr>\n",
       "    <tr>\n",
       "      <th>3</th>\n",
       "      <td>Брюховецкий район</td>\n",
       "      <td>Брюховецкий район</td>\n",
       "      <td>ru:Брюховецкий район</td>\n",
       "      <td>POLYGON ((-3642267.062 2820599.306, -3642492.8...</td>\n",
       "      <td>1.132083e+09</td>\n",
       "      <td>23.0</td>\n",
       "      <td>4.0</td>\n",
       "      <td>Умеренный</td>\n",
       "      <td>3</td>\n",
       "      <td>52</td>\n",
       "      <td>0.022</td>\n",
       "    </tr>\n",
       "    <tr>\n",
       "      <th>4</th>\n",
       "      <td>Павловский район</td>\n",
       "      <td>Павловский район</td>\n",
       "      <td>ru:Павловский район (Краснодарский край)</td>\n",
       "      <td>POLYGON ((-3583010.429 2801858.794, -3583399.7...</td>\n",
       "      <td>1.472633e+09</td>\n",
       "      <td>23.0</td>\n",
       "      <td>24.0</td>\n",
       "      <td>Умеренный</td>\n",
       "      <td>3</td>\n",
       "      <td>14</td>\n",
       "      <td>0.004</td>\n",
       "    </tr>\n",
       "    <tr>\n",
       "      <th>...</th>\n",
       "      <td>...</td>\n",
       "      <td>...</td>\n",
       "      <td>...</td>\n",
       "      <td>...</td>\n",
       "      <td>...</td>\n",
       "      <td>...</td>\n",
       "      <td>...</td>\n",
       "      <td>...</td>\n",
       "      <td>...</td>\n",
       "      <td>...</td>\n",
       "      <td>...</td>\n",
       "    </tr>\n",
       "    <tr>\n",
       "      <th>2360</th>\n",
       "      <td>Тамбов</td>\n",
       "      <td>NaN</td>\n",
       "      <td>ru:Тамбов</td>\n",
       "      <td>POLYGON ((-3124307.505 3303042.861, -3124603.5...</td>\n",
       "      <td>7.601746e+07</td>\n",
       "      <td>68.0</td>\n",
       "      <td>20.0</td>\n",
       "      <td>Умеренный</td>\n",
       "      <td>3</td>\n",
       "      <td>1</td>\n",
       "      <td>0.006</td>\n",
       "    </tr>\n",
       "    <tr>\n",
       "      <th>2361</th>\n",
       "      <td>Рассказовский район</td>\n",
       "      <td>NaN</td>\n",
       "      <td>ru:Рассказовский район</td>\n",
       "      <td>POLYGON ((-3081265.438 3272682.587, -3081149.2...</td>\n",
       "      <td>1.554211e+09</td>\n",
       "      <td>68.0</td>\n",
       "      <td>15.0</td>\n",
       "      <td>Умеренный</td>\n",
       "      <td>3</td>\n",
       "      <td>44</td>\n",
       "      <td>0.013</td>\n",
       "    </tr>\n",
       "    <tr>\n",
       "      <th>2362</th>\n",
       "      <td>Сосновский район</td>\n",
       "      <td>NaN</td>\n",
       "      <td>ru:Сосновский район (Тамбовская область)</td>\n",
       "      <td>POLYGON ((-3079943.869 3330265.964, -3082502.7...</td>\n",
       "      <td>2.043358e+09</td>\n",
       "      <td>68.0</td>\n",
       "      <td>18.0</td>\n",
       "      <td>Умеренный</td>\n",
       "      <td>3</td>\n",
       "      <td>99</td>\n",
       "      <td>0.023</td>\n",
       "    </tr>\n",
       "    <tr>\n",
       "      <th>2363</th>\n",
       "      <td>Тамбовский район</td>\n",
       "      <td>NaN</td>\n",
       "      <td>ru:Тамбовский район (Тамбовская область)</td>\n",
       "      <td>POLYGON ((-3101331.947 3297711.561, -3101893.6...</td>\n",
       "      <td>2.251141e+09</td>\n",
       "      <td>68.0</td>\n",
       "      <td>20.0</td>\n",
       "      <td>Умеренный</td>\n",
       "      <td>3</td>\n",
       "      <td>64</td>\n",
       "      <td>0.013</td>\n",
       "    </tr>\n",
       "    <tr>\n",
       "      <th>2364</th>\n",
       "      <td>Бондарский район</td>\n",
       "      <td>NaN</td>\n",
       "      <td>ru:Бондарский район</td>\n",
       "      <td>POLYGON ((-3065568.009 3280013.912, -3066563.7...</td>\n",
       "      <td>1.070212e+09</td>\n",
       "      <td>68.0</td>\n",
       "      <td>1.0</td>\n",
       "      <td>Умеренный</td>\n",
       "      <td>3</td>\n",
       "      <td>12</td>\n",
       "      <td>0.005</td>\n",
       "    </tr>\n",
       "  </tbody>\n",
       "</table>\n",
       "<p>2365 rows × 11 columns</p>\n",
       "</div>"
      ],
      "text/plain": [
       "                     name            name__ru  \\\n",
       "0      Селенгинский район  Селенгинский район   \n",
       "1         Хоринский район     Хоринский район   \n",
       "2      Курумканский район  Курумканский район   \n",
       "3       Брюховецкий район   Брюховецкий район   \n",
       "4        Павловский район    Павловский район   \n",
       "...                   ...                 ...   \n",
       "2360               Тамбов                 NaN   \n",
       "2361  Рассказовский район                 NaN   \n",
       "2362     Сосновский район                 NaN   \n",
       "2363     Тамбовский район                 NaN   \n",
       "2364     Бондарский район                 NaN   \n",
       "\n",
       "                                     wikipedia  \\\n",
       "0                        ru:Селенгинский район   \n",
       "1                           ru:Хоринский район   \n",
       "2                        ru:Курумканский район   \n",
       "3                         ru:Брюховецкий район   \n",
       "4     ru:Павловский район (Краснодарский край)   \n",
       "...                                        ...   \n",
       "2360                                 ru:Тамбов   \n",
       "2361                    ru:Рассказовский район   \n",
       "2362  ru:Сосновский район (Тамбовская область)   \n",
       "2363  ru:Тамбовский район (Тамбовская область)   \n",
       "2364                       ru:Бондарский район   \n",
       "\n",
       "                                               geometry          area   reg  \\\n",
       "0     POLYGON ((772911.849 2183926.259, 770829.137 2...  6.729938e+09   3.0   \n",
       "1     POLYGON ((975660.756 2392376.746, 968958.946 2...  1.216154e+10   3.0   \n",
       "2     POLYGON ((1006551.636 2652187.027, 1001762.061...  1.117060e+10   3.0   \n",
       "3     POLYGON ((-3642267.062 2820599.306, -3642492.8...  1.132083e+09  23.0   \n",
       "4     POLYGON ((-3583010.429 2801858.794, -3583399.7...  1.472633e+09  23.0   \n",
       "...                                                 ...           ...   ...   \n",
       "2360  POLYGON ((-3124307.505 3303042.861, -3124603.5...  7.601746e+07  68.0   \n",
       "2361  POLYGON ((-3081265.438 3272682.587, -3081149.2...  1.554211e+09  68.0   \n",
       "2362  POLYGON ((-3079943.869 3330265.964, -3082502.7...  2.043358e+09  68.0   \n",
       "2363  POLYGON ((-3101331.947 3297711.561, -3101893.6...  2.251141e+09  68.0   \n",
       "2364  POLYGON ((-3065568.009 3280013.912, -3066563.7...  1.070212e+09  68.0   \n",
       "\n",
       "       dst       zone zone_id fire_count  fires_area_rate  \n",
       "0     18.0  Умеренный       3        224            0.016  \n",
       "1     21.0  Умеренный       3        529            0.020  \n",
       "2     11.0  Умеренный       3       1006            0.042  \n",
       "3      4.0  Умеренный       3         52            0.022  \n",
       "4     24.0  Умеренный       3         14            0.004  \n",
       "...    ...        ...     ...        ...              ...  \n",
       "2360  20.0  Умеренный       3          1            0.006  \n",
       "2361  15.0  Умеренный       3         44            0.013  \n",
       "2362  18.0  Умеренный       3         99            0.023  \n",
       "2363  20.0  Умеренный       3         64            0.013  \n",
       "2364   1.0  Умеренный       3         12            0.005  \n",
       "\n",
       "[2365 rows x 11 columns]"
      ]
     },
     "execution_count": 53,
     "metadata": {},
     "output_type": "execute_result"
    }
   ],
   "source": [
    "all_ru_regions"
   ]
  },
  {
   "cell_type": "code",
   "execution_count": 57,
   "id": "43bfe085",
   "metadata": {},
   "outputs": [
    {
     "data": {
      "text/html": [
       "<div>\n",
       "<style scoped>\n",
       "    .dataframe tbody tr th:only-of-type {\n",
       "        vertical-align: middle;\n",
       "    }\n",
       "\n",
       "    .dataframe tbody tr th {\n",
       "        vertical-align: top;\n",
       "    }\n",
       "\n",
       "    .dataframe thead th {\n",
       "        text-align: right;\n",
       "    }\n",
       "</style>\n",
       "<table border=\"1\" class=\"dataframe\">\n",
       "  <thead>\n",
       "    <tr style=\"text-align: right;\">\n",
       "      <th></th>\n",
       "      <th>name</th>\n",
       "      <th>name__ru</th>\n",
       "      <th>wikipedia</th>\n",
       "      <th>geometry</th>\n",
       "      <th>area</th>\n",
       "      <th>reg</th>\n",
       "      <th>dst</th>\n",
       "      <th>zone</th>\n",
       "      <th>zone_id</th>\n",
       "      <th>fire_count</th>\n",
       "      <th>fires_area_rate</th>\n",
       "    </tr>\n",
       "  </thead>\n",
       "  <tbody>\n",
       "    <tr>\n",
       "      <th>2236</th>\n",
       "      <td>Находкинский</td>\n",
       "      <td>NaN</td>\n",
       "      <td>ru:Находкинский городской округ</td>\n",
       "      <td>POLYGON ((2720522.682 1909193.335, 2720512.458...</td>\n",
       "      <td>1.037701e+08</td>\n",
       "      <td>NaN</td>\n",
       "      <td>NaN</td>\n",
       "      <td>Умеренный</td>\n",
       "      <td>3</td>\n",
       "      <td>221</td>\n",
       "      <td>1.000</td>\n",
       "    </tr>\n",
       "    <tr>\n",
       "      <th>502</th>\n",
       "      <td>Дальнереченский</td>\n",
       "      <td>NaN</td>\n",
       "      <td>ru:Дальнереченский городской округ</td>\n",
       "      <td>POLYGON ((2640198.315 2219402.920, 2640133.124...</td>\n",
       "      <td>8.232453e+07</td>\n",
       "      <td>25.0</td>\n",
       "      <td>2.0</td>\n",
       "      <td>Умеренный</td>\n",
       "      <td>3</td>\n",
       "      <td>98</td>\n",
       "      <td>0.559</td>\n",
       "    </tr>\n",
       "    <tr>\n",
       "      <th>335</th>\n",
       "      <td>Спасск-Дальний</td>\n",
       "      <td>NaN</td>\n",
       "      <td>ru:Спасск-Дальний</td>\n",
       "      <td>POLYGON ((2637669.254 2064049.759, 2637525.137...</td>\n",
       "      <td>3.565685e+07</td>\n",
       "      <td>25.0</td>\n",
       "      <td>32.0</td>\n",
       "      <td>Умеренный</td>\n",
       "      <td>3</td>\n",
       "      <td>40</td>\n",
       "      <td>0.527</td>\n",
       "    </tr>\n",
       "    <tr>\n",
       "      <th>735</th>\n",
       "      <td>Биробиджан</td>\n",
       "      <td>NaN</td>\n",
       "      <td>ru:Биробиджан</td>\n",
       "      <td>POLYGON ((2472366.010 2448174.666, 2471980.354...</td>\n",
       "      <td>1.408583e+08</td>\n",
       "      <td>79.0</td>\n",
       "      <td>1.0</td>\n",
       "      <td>Умеренный</td>\n",
       "      <td>3</td>\n",
       "      <td>146</td>\n",
       "      <td>0.487</td>\n",
       "    </tr>\n",
       "    <tr>\n",
       "      <th>496</th>\n",
       "      <td>Большой Камень</td>\n",
       "      <td>NaN</td>\n",
       "      <td>ru:Городской округ Большой Камень</td>\n",
       "      <td>POLYGON ((2674929.548 1909708.834, 2674823.650...</td>\n",
       "      <td>9.689018e+07</td>\n",
       "      <td>NaN</td>\n",
       "      <td>NaN</td>\n",
       "      <td>Умеренный</td>\n",
       "      <td>3</td>\n",
       "      <td>94</td>\n",
       "      <td>0.456</td>\n",
       "    </tr>\n",
       "    <tr>\n",
       "      <th>1173</th>\n",
       "      <td>Хорольский район</td>\n",
       "      <td>NaN</td>\n",
       "      <td>ru:Хорольский_район_Приморского_края</td>\n",
       "      <td>POLYGON ((2616515.340 2048915.551, 2616280.006...</td>\n",
       "      <td>1.606205e+09</td>\n",
       "      <td>25.0</td>\n",
       "      <td>21.0</td>\n",
       "      <td>Умеренный</td>\n",
       "      <td>3</td>\n",
       "      <td>1492</td>\n",
       "      <td>0.436</td>\n",
       "    </tr>\n",
       "    <tr>\n",
       "      <th>1070</th>\n",
       "      <td>Ханкайский район</td>\n",
       "      <td>NaN</td>\n",
       "      <td>ru:Ханкайский_район_Приморского_края</td>\n",
       "      <td>POLYGON ((2599684.053 2049975.439, 2597049.527...</td>\n",
       "      <td>2.224067e+09</td>\n",
       "      <td>25.0</td>\n",
       "      <td>19.0</td>\n",
       "      <td>Умеренный</td>\n",
       "      <td>3</td>\n",
       "      <td>1876</td>\n",
       "      <td>0.396</td>\n",
       "    </tr>\n",
       "    <tr>\n",
       "      <th>733</th>\n",
       "      <td>Арсеньевский</td>\n",
       "      <td>NaN</td>\n",
       "      <td>ru:Арсеньевский городской округ</td>\n",
       "      <td>POLYGON ((2688987.358 2032994.188, 2688611.125...</td>\n",
       "      <td>3.804783e+07</td>\n",
       "      <td>25.0</td>\n",
       "      <td>26.0</td>\n",
       "      <td>Умеренный</td>\n",
       "      <td>3</td>\n",
       "      <td>32</td>\n",
       "      <td>0.395</td>\n",
       "    </tr>\n",
       "    <tr>\n",
       "      <th>961</th>\n",
       "      <td>Белогорск</td>\n",
       "      <td>NaN</td>\n",
       "      <td>ru:Городской округ город Белогорск</td>\n",
       "      <td>POLYGON ((2110955.376 2531680.346, 2110701.491...</td>\n",
       "      <td>9.807114e+07</td>\n",
       "      <td>28.0</td>\n",
       "      <td>2.0</td>\n",
       "      <td>Умеренный</td>\n",
       "      <td>3</td>\n",
       "      <td>80</td>\n",
       "      <td>0.383</td>\n",
       "    </tr>\n",
       "    <tr>\n",
       "      <th>1172</th>\n",
       "      <td>Черниговский район</td>\n",
       "      <td>NaN</td>\n",
       "      <td>ru:Черниговский_район_Приморского_края</td>\n",
       "      <td>POLYGON ((2657760.187 2027637.669, 2657789.463...</td>\n",
       "      <td>1.517187e+09</td>\n",
       "      <td>25.0</td>\n",
       "      <td>22.0</td>\n",
       "      <td>Умеренный</td>\n",
       "      <td>3</td>\n",
       "      <td>1135</td>\n",
       "      <td>0.351</td>\n",
       "    </tr>\n",
       "  </tbody>\n",
       "</table>\n",
       "</div>"
      ],
      "text/plain": [
       "                    name name__ru                               wikipedia  \\\n",
       "2236        Находкинский      NaN         ru:Находкинский городской округ   \n",
       "502      Дальнереченский      NaN      ru:Дальнереченский городской округ   \n",
       "335       Спасск-Дальний      NaN                       ru:Спасск-Дальний   \n",
       "735           Биробиджан      NaN                           ru:Биробиджан   \n",
       "496       Большой Камень      NaN       ru:Городской округ Большой Камень   \n",
       "1173    Хорольский район      NaN    ru:Хорольский_район_Приморского_края   \n",
       "1070    Ханкайский район      NaN    ru:Ханкайский_район_Приморского_края   \n",
       "733         Арсеньевский      NaN         ru:Арсеньевский городской округ   \n",
       "961            Белогорск      NaN      ru:Городской округ город Белогорск   \n",
       "1172  Черниговский район      NaN  ru:Черниговский_район_Приморского_края   \n",
       "\n",
       "                                               geometry          area   reg  \\\n",
       "2236  POLYGON ((2720522.682 1909193.335, 2720512.458...  1.037701e+08   NaN   \n",
       "502   POLYGON ((2640198.315 2219402.920, 2640133.124...  8.232453e+07  25.0   \n",
       "335   POLYGON ((2637669.254 2064049.759, 2637525.137...  3.565685e+07  25.0   \n",
       "735   POLYGON ((2472366.010 2448174.666, 2471980.354...  1.408583e+08  79.0   \n",
       "496   POLYGON ((2674929.548 1909708.834, 2674823.650...  9.689018e+07   NaN   \n",
       "1173  POLYGON ((2616515.340 2048915.551, 2616280.006...  1.606205e+09  25.0   \n",
       "1070  POLYGON ((2599684.053 2049975.439, 2597049.527...  2.224067e+09  25.0   \n",
       "733   POLYGON ((2688987.358 2032994.188, 2688611.125...  3.804783e+07  25.0   \n",
       "961   POLYGON ((2110955.376 2531680.346, 2110701.491...  9.807114e+07  28.0   \n",
       "1172  POLYGON ((2657760.187 2027637.669, 2657789.463...  1.517187e+09  25.0   \n",
       "\n",
       "       dst       zone zone_id fire_count  fires_area_rate  \n",
       "2236   NaN  Умеренный       3        221            1.000  \n",
       "502    2.0  Умеренный       3         98            0.559  \n",
       "335   32.0  Умеренный       3         40            0.527  \n",
       "735    1.0  Умеренный       3        146            0.487  \n",
       "496    NaN  Умеренный       3         94            0.456  \n",
       "1173  21.0  Умеренный       3       1492            0.436  \n",
       "1070  19.0  Умеренный       3       1876            0.396  \n",
       "733   26.0  Умеренный       3         32            0.395  \n",
       "961    2.0  Умеренный       3         80            0.383  \n",
       "1172  22.0  Умеренный       3       1135            0.351  "
      ]
     },
     "execution_count": 57,
     "metadata": {},
     "output_type": "execute_result"
    }
   ],
   "source": [
    "all_ru_regions.sort_values('fires_area_rate', ascending=False).head(10)"
   ]
  },
  {
   "cell_type": "code",
   "execution_count": 31,
   "id": "0d4e3c3d",
   "metadata": {
    "ExecuteTime": {
     "end_time": "2023-05-23T06:44:53.652770Z",
     "start_time": "2023-05-23T06:44:53.646944Z"
    }
   },
   "outputs": [],
   "source": [
    "bins = [0, 0.01, 0.02, 0.04, 0.08, 0.16, 0.32, 0.64]\n",
    "labels = [1,2,3,4,5,6,7]\n",
    "all_ru_regions['fire_level'] = pd.cut(all_ru_regions['fires_area_rate'], bins=bins, labels=labels)"
   ]
  },
  {
   "cell_type": "code",
   "execution_count": 32,
   "id": "1d62643e",
   "metadata": {
    "ExecuteTime": {
     "end_time": "2023-05-23T06:44:55.475777Z",
     "start_time": "2023-05-23T06:44:55.442082Z"
    }
   },
   "outputs": [
    {
     "data": {
      "text/html": [
       "<div>\n",
       "<style scoped>\n",
       "    .dataframe tbody tr th:only-of-type {\n",
       "        vertical-align: middle;\n",
       "    }\n",
       "\n",
       "    .dataframe tbody tr th {\n",
       "        vertical-align: top;\n",
       "    }\n",
       "\n",
       "    .dataframe thead th {\n",
       "        text-align: right;\n",
       "    }\n",
       "</style>\n",
       "<table border=\"1\" class=\"dataframe\">\n",
       "  <thead>\n",
       "    <tr style=\"text-align: right;\">\n",
       "      <th></th>\n",
       "      <th>name</th>\n",
       "      <th>name__ru</th>\n",
       "      <th>wikipedia</th>\n",
       "      <th>geometry</th>\n",
       "      <th>area</th>\n",
       "      <th>reg</th>\n",
       "      <th>dst</th>\n",
       "      <th>fire_count</th>\n",
       "      <th>fires_area_rate</th>\n",
       "      <th>fire_level</th>\n",
       "    </tr>\n",
       "  </thead>\n",
       "  <tbody>\n",
       "    <tr>\n",
       "      <th>0</th>\n",
       "      <td>Селенгинский район</td>\n",
       "      <td>Селенгинский район</td>\n",
       "      <td>ru:Селенгинский район</td>\n",
       "      <td>POLYGON ((772911.849 2183926.259, 770829.137 2...</td>\n",
       "      <td>6.729938e+09</td>\n",
       "      <td>3.0</td>\n",
       "      <td>18.0</td>\n",
       "      <td>224</td>\n",
       "      <td>0.016</td>\n",
       "      <td>2</td>\n",
       "    </tr>\n",
       "    <tr>\n",
       "      <th>1</th>\n",
       "      <td>Хоринский район</td>\n",
       "      <td>Хоринский район</td>\n",
       "      <td>ru:Хоринский район</td>\n",
       "      <td>POLYGON ((975660.756 2392376.746, 968958.946 2...</td>\n",
       "      <td>1.216154e+10</td>\n",
       "      <td>3.0</td>\n",
       "      <td>21.0</td>\n",
       "      <td>529</td>\n",
       "      <td>0.020</td>\n",
       "      <td>2</td>\n",
       "    </tr>\n",
       "    <tr>\n",
       "      <th>2</th>\n",
       "      <td>Курумканский район</td>\n",
       "      <td>Курумканский район</td>\n",
       "      <td>ru:Курумканский район</td>\n",
       "      <td>POLYGON ((1006551.636 2652187.027, 1001762.061...</td>\n",
       "      <td>1.117060e+10</td>\n",
       "      <td>3.0</td>\n",
       "      <td>11.0</td>\n",
       "      <td>1006</td>\n",
       "      <td>0.042</td>\n",
       "      <td>4</td>\n",
       "    </tr>\n",
       "    <tr>\n",
       "      <th>3</th>\n",
       "      <td>Брюховецкий район</td>\n",
       "      <td>Брюховецкий район</td>\n",
       "      <td>ru:Брюховецкий район</td>\n",
       "      <td>POLYGON ((-3642267.062 2820599.306, -3642492.8...</td>\n",
       "      <td>1.132083e+09</td>\n",
       "      <td>23.0</td>\n",
       "      <td>4.0</td>\n",
       "      <td>52</td>\n",
       "      <td>0.022</td>\n",
       "      <td>3</td>\n",
       "    </tr>\n",
       "    <tr>\n",
       "      <th>4</th>\n",
       "      <td>Павловский район</td>\n",
       "      <td>Павловский район</td>\n",
       "      <td>ru:Павловский район (Краснодарский край)</td>\n",
       "      <td>POLYGON ((-3583010.429 2801858.794, -3583399.7...</td>\n",
       "      <td>1.472633e+09</td>\n",
       "      <td>23.0</td>\n",
       "      <td>24.0</td>\n",
       "      <td>14</td>\n",
       "      <td>0.004</td>\n",
       "      <td>1</td>\n",
       "    </tr>\n",
       "    <tr>\n",
       "      <th>...</th>\n",
       "      <td>...</td>\n",
       "      <td>...</td>\n",
       "      <td>...</td>\n",
       "      <td>...</td>\n",
       "      <td>...</td>\n",
       "      <td>...</td>\n",
       "      <td>...</td>\n",
       "      <td>...</td>\n",
       "      <td>...</td>\n",
       "      <td>...</td>\n",
       "    </tr>\n",
       "    <tr>\n",
       "      <th>2360</th>\n",
       "      <td>Тамбов</td>\n",
       "      <td>NaN</td>\n",
       "      <td>ru:Тамбов</td>\n",
       "      <td>POLYGON ((-3124307.505 3303042.861, -3124603.5...</td>\n",
       "      <td>7.601746e+07</td>\n",
       "      <td>68.0</td>\n",
       "      <td>20.0</td>\n",
       "      <td>1</td>\n",
       "      <td>0.006</td>\n",
       "      <td>1</td>\n",
       "    </tr>\n",
       "    <tr>\n",
       "      <th>2361</th>\n",
       "      <td>Рассказовский район</td>\n",
       "      <td>NaN</td>\n",
       "      <td>ru:Рассказовский район</td>\n",
       "      <td>POLYGON ((-3081265.438 3272682.587, -3081149.2...</td>\n",
       "      <td>1.554211e+09</td>\n",
       "      <td>68.0</td>\n",
       "      <td>15.0</td>\n",
       "      <td>44</td>\n",
       "      <td>0.013</td>\n",
       "      <td>2</td>\n",
       "    </tr>\n",
       "    <tr>\n",
       "      <th>2362</th>\n",
       "      <td>Сосновский район</td>\n",
       "      <td>NaN</td>\n",
       "      <td>ru:Сосновский район (Тамбовская область)</td>\n",
       "      <td>POLYGON ((-3079943.869 3330265.964, -3082502.7...</td>\n",
       "      <td>2.043358e+09</td>\n",
       "      <td>68.0</td>\n",
       "      <td>18.0</td>\n",
       "      <td>99</td>\n",
       "      <td>0.023</td>\n",
       "      <td>3</td>\n",
       "    </tr>\n",
       "    <tr>\n",
       "      <th>2363</th>\n",
       "      <td>Тамбовский район</td>\n",
       "      <td>NaN</td>\n",
       "      <td>ru:Тамбовский район (Тамбовская область)</td>\n",
       "      <td>POLYGON ((-3101331.947 3297711.561, -3101893.6...</td>\n",
       "      <td>2.251141e+09</td>\n",
       "      <td>68.0</td>\n",
       "      <td>20.0</td>\n",
       "      <td>64</td>\n",
       "      <td>0.013</td>\n",
       "      <td>2</td>\n",
       "    </tr>\n",
       "    <tr>\n",
       "      <th>2364</th>\n",
       "      <td>Бондарский район</td>\n",
       "      <td>NaN</td>\n",
       "      <td>ru:Бондарский район</td>\n",
       "      <td>POLYGON ((-3065568.009 3280013.912, -3066563.7...</td>\n",
       "      <td>1.070212e+09</td>\n",
       "      <td>68.0</td>\n",
       "      <td>1.0</td>\n",
       "      <td>12</td>\n",
       "      <td>0.005</td>\n",
       "      <td>1</td>\n",
       "    </tr>\n",
       "  </tbody>\n",
       "</table>\n",
       "<p>2365 rows × 10 columns</p>\n",
       "</div>"
      ],
      "text/plain": [
       "                     name            name__ru  \\\n",
       "0      Селенгинский район  Селенгинский район   \n",
       "1         Хоринский район     Хоринский район   \n",
       "2      Курумканский район  Курумканский район   \n",
       "3       Брюховецкий район   Брюховецкий район   \n",
       "4        Павловский район    Павловский район   \n",
       "...                   ...                 ...   \n",
       "2360               Тамбов                 NaN   \n",
       "2361  Рассказовский район                 NaN   \n",
       "2362     Сосновский район                 NaN   \n",
       "2363     Тамбовский район                 NaN   \n",
       "2364     Бондарский район                 NaN   \n",
       "\n",
       "                                     wikipedia  \\\n",
       "0                        ru:Селенгинский район   \n",
       "1                           ru:Хоринский район   \n",
       "2                        ru:Курумканский район   \n",
       "3                         ru:Брюховецкий район   \n",
       "4     ru:Павловский район (Краснодарский край)   \n",
       "...                                        ...   \n",
       "2360                                 ru:Тамбов   \n",
       "2361                    ru:Рассказовский район   \n",
       "2362  ru:Сосновский район (Тамбовская область)   \n",
       "2363  ru:Тамбовский район (Тамбовская область)   \n",
       "2364                       ru:Бондарский район   \n",
       "\n",
       "                                               geometry          area   reg  \\\n",
       "0     POLYGON ((772911.849 2183926.259, 770829.137 2...  6.729938e+09   3.0   \n",
       "1     POLYGON ((975660.756 2392376.746, 968958.946 2...  1.216154e+10   3.0   \n",
       "2     POLYGON ((1006551.636 2652187.027, 1001762.061...  1.117060e+10   3.0   \n",
       "3     POLYGON ((-3642267.062 2820599.306, -3642492.8...  1.132083e+09  23.0   \n",
       "4     POLYGON ((-3583010.429 2801858.794, -3583399.7...  1.472633e+09  23.0   \n",
       "...                                                 ...           ...   ...   \n",
       "2360  POLYGON ((-3124307.505 3303042.861, -3124603.5...  7.601746e+07  68.0   \n",
       "2361  POLYGON ((-3081265.438 3272682.587, -3081149.2...  1.554211e+09  68.0   \n",
       "2362  POLYGON ((-3079943.869 3330265.964, -3082502.7...  2.043358e+09  68.0   \n",
       "2363  POLYGON ((-3101331.947 3297711.561, -3101893.6...  2.251141e+09  68.0   \n",
       "2364  POLYGON ((-3065568.009 3280013.912, -3066563.7...  1.070212e+09  68.0   \n",
       "\n",
       "       dst fire_count  fires_area_rate fire_level  \n",
       "0     18.0        224            0.016          2  \n",
       "1     21.0        529            0.020          2  \n",
       "2     11.0       1006            0.042          4  \n",
       "3      4.0         52            0.022          3  \n",
       "4     24.0         14            0.004          1  \n",
       "...    ...        ...              ...        ...  \n",
       "2360  20.0          1            0.006          1  \n",
       "2361  15.0         44            0.013          2  \n",
       "2362  18.0         99            0.023          3  \n",
       "2363  20.0         64            0.013          2  \n",
       "2364   1.0         12            0.005          1  \n",
       "\n",
       "[2365 rows x 10 columns]"
      ]
     },
     "execution_count": 32,
     "metadata": {},
     "output_type": "execute_result"
    }
   ],
   "source": [
    "all_ru_regions"
   ]
  },
  {
   "cell_type": "markdown",
   "id": "63303f9e",
   "metadata": {},
   "source": [
    "# plot all"
   ]
  },
  {
   "cell_type": "code",
   "execution_count": 50,
   "id": "38b9119a",
   "metadata": {
    "ExecuteTime": {
     "end_time": "2023-05-23T06:50:31.356604Z",
     "start_time": "2023-05-23T06:50:31.349169Z"
    }
   },
   "outputs": [],
   "source": [
    "def plot_reg_zone(climate, fires, na_regions):\n",
    "    \n",
    "    fires['x'] = fires.geometry.x\n",
    "    fires['y'] = fires.geometry.y\n",
    "\n",
    "    ny = 100\n",
    "    nx = int(ny*(fires.x.max() - fires.x.min()) / (fires.y.max() - fires.y.min()))\n",
    "    \n",
    "    layout = Layout(\n",
    "        paper_bgcolor='rgba(0,0,0,0)',\n",
    "        plot_bgcolor='rgba(0,0,0,0)'\n",
    "    )\n",
    "    \n",
    "    fig = go.Figure(go.Histogram2d(x=fires.x, y=fires.y,\n",
    "                                nbinsx=nx,\n",
    "                                nbinsy=ny,\n",
    "                                colorscale='hot',\n",
    "                                showlegend=False, showscale=False, reversescale=True\n",
    "                            ), layout=layout)\n",
    "    \n",
    "    for i, vals in tqdm(climate.iterrows()):\n",
    "        x, y = np.array(vals.geometry.exterior.coords.xy)\n",
    "        dist = vals['level']\n",
    "        zone = vals['zone_color']\n",
    "        zone_color = zone.translate(remove_digits)\n",
    "        fig.add_trace(go.Scatter(x=x, y=y, text=dist, line_color=zone_color,\n",
    "                                fill='toself',fillcolor=zone_color, line_width=0.3, \n",
    "                                 mode='lines', opacity=0.3))\n",
    "        \n",
    "    for reg, vals in tqdm(na_regions.items()):\n",
    "        x, y, dist = vals\n",
    "        fig.add_trace(go.Scatter(x=x, y=y, text=reg, line_color='black', line_width=0.3, mode='lines'))\n",
    "#     for reg, vals in tqdm(ru_regions.items()):\n",
    "#         x, y, dist = vals\n",
    "#         fig.add_trace(go.Scatter(x=x, y=y, text=dist, \n",
    "#                                  line_color='grey', fill='toself',fillcolor='rgba(255,255,255,0)', line_width=1))\n",
    "        \n",
    "    fig.update_layout(showlegend=False, dragmode='pan', width=1000, height=1000)\n",
    "    fig.update_xaxes(visible=False)\n",
    "    fig.update_yaxes(visible=False, scaleanchor=\"x\", scaleratio=1)\n",
    "    \n",
    "    return fig"
   ]
  },
  {
   "cell_type": "code",
   "execution_count": 51,
   "id": "165f0b26",
   "metadata": {
    "ExecuteTime": {
     "end_time": "2023-05-23T06:50:36.330363Z",
     "start_time": "2023-05-23T06:50:35.282641Z"
    }
   },
   "outputs": [
    {
     "name": "stderr",
     "output_type": "stream",
     "text": [
      "2365it [00:01, 2271.19it/s]\n"
     ]
    }
   ],
   "source": [
    "all_ru_regions_map = geoseries2shapedict(all_ru_regions.sort_values(by=['area'], axis=0, ascending=False), 'name', 'regmap')"
   ]
  },
  {
   "cell_type": "code",
   "execution_count": 53,
   "id": "91429f39",
   "metadata": {
    "ExecuteTime": {
     "end_time": "2023-05-23T06:50:42.857440Z",
     "start_time": "2023-05-23T06:50:41.511731Z"
    }
   },
   "outputs": [
    {
     "name": "stderr",
     "output_type": "stream",
     "text": [
      "12it [00:00, 912.05it/s]\n",
      "100%|████████████████████████████████████████████████████████████████████████████| 2220/2220 [00:01<00:00, 1897.33it/s]\n"
     ]
    }
   ],
   "source": [
    "# mymap = plot_reg_zone(climate_zones, fire_df, all_ru_regions_map)"
   ]
  },
  {
   "cell_type": "code",
   "execution_count": 58,
   "id": "eab0e76a",
   "metadata": {
    "ExecuteTime": {
     "end_time": "2023-05-23T06:50:56.896767Z",
     "start_time": "2023-05-23T06:50:46.642491Z"
    }
   },
   "outputs": [],
   "source": [
    "# config = dict({'scrollZoom': True})\n",
    "# mymap.show(config=config)"
   ]
  },
  {
   "cell_type": "code",
   "execution_count": null,
   "id": "4b8b7a22",
   "metadata": {},
   "outputs": [],
   "source": []
  }
 ],
 "metadata": {
  "kernelspec": {
   "display_name": "Python 3 (ipykernel)",
   "language": "python",
   "name": "python3"
  },
  "language_info": {
   "codemirror_mode": {
    "name": "ipython",
    "version": 3
   },
   "file_extension": ".py",
   "mimetype": "text/x-python",
   "name": "python",
   "nbconvert_exporter": "python",
   "pygments_lexer": "ipython3",
   "version": "3.10.4"
  }
 },
 "nbformat": 4,
 "nbformat_minor": 5
}
