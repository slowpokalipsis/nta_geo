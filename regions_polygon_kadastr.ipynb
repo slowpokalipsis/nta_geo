{
 "cells": [
  {
   "cell_type": "code",
   "execution_count": 1,
   "id": "68fe5b5a",
   "metadata": {
    "ExecuteTime": {
     "end_time": "2023-05-23T05:11:28.355245Z",
     "start_time": "2023-05-23T05:11:27.538987Z"
    }
   },
   "outputs": [],
   "source": [
    "import plotly.graph_objects as go\n",
    "import plotly.express as px\n",
    "import geopandas as gpd\n",
    "import pandas as pd\n",
    "import matplotlib.pyplot as plt\n",
    "import numpy as np\n",
    "import shapely\n",
    "import time\n",
    "import random\n",
    "from shapely import wkt\n",
    "from shapely.ops import snap\n",
    "from shapely.geometry.point import Point\n",
    "from shapely.geometry.polygon import Polygon\n",
    "from shapely.geometry.multipolygon import MultiPolygon\n",
    "import pyproj\n",
    "from plotly.graph_objs import Layout\n",
    "from matplotlib.pyplot import plot\n",
    "\n",
    "from string import digits\n",
    "remove_digits = str.maketrans('', '', digits)\n",
    "\n",
    "from rosreestr2coord import Area\n",
    "\n",
    "from tqdm import tqdm\n",
    "tqdm.pandas()\n",
    "\n",
    "import warnings\n",
    "warnings.filterwarnings('ignore')"
   ]
  },
  {
   "cell_type": "code",
   "execution_count": 2,
   "id": "96de71a8",
   "metadata": {
    "ExecuteTime": {
     "end_time": "2023-05-23T05:11:28.361971Z",
     "start_time": "2023-05-23T05:11:28.356248Z"
    }
   },
   "outputs": [
    {
     "data": {
      "text/html": [
       "<style>.container { width:85% !important; }</style>"
      ],
      "text/plain": [
       "<IPython.core.display.HTML object>"
      ]
     },
     "metadata": {},
     "output_type": "display_data"
    }
   ],
   "source": [
    "from IPython.display import display, HTML\n",
    "display(HTML(\"<style>.container { width:85% !important; }</style>\"))"
   ]
  },
  {
   "cell_type": "code",
   "execution_count": 3,
   "id": "1739d39a",
   "metadata": {
    "ExecuteTime": {
     "end_time": "2023-05-23T05:11:28.373594Z",
     "start_time": "2023-05-23T05:11:28.362987Z"
    }
   },
   "outputs": [],
   "source": [
    "def geoseries2shapedict(gdf, name_col, gdf_type):\n",
    "    regions = {}\n",
    "    for und, reg in tqdm(gdf.iterrows()):\n",
    "        if type(reg.geometry) == MultiPolygon:\n",
    "            x, y = np.array([[], []])\n",
    "            for poly in reg.geometry.geoms:\n",
    "                x_, y_ = poly.exterior.coords.xy\n",
    "                x, y = (np.append(x, x_), np.append(y, y_))\n",
    "                x, y = (np.append(x, None), np.append(y, None))\n",
    "            x = x[:len(x)-1]\n",
    "            y = y[:len(y)-1]\n",
    "        elif type(reg.geometry) == Point:\n",
    "            x, y = np.array(reg.geometry.coords.xy)\n",
    "        else:\n",
    "            x, y = np.array(reg.geometry.exterior.coords.xy)\n",
    "        \n",
    "        if gdf_type == 'rumap':\n",
    "            regions[reg[name_col]] = x, y, reg.federal_district\n",
    "        elif gdf_type == 'flood':\n",
    "            regions[reg[name_col]] = x, y, reg.level\n",
    "        elif gdf_type == 'regmap':\n",
    "            regions[reg[name_col]] = x, y, reg.index\n",
    "        else:\n",
    "            regions[reg[name_col]] = x, y, reg.kvartal_cn\n",
    "    return regions              "
   ]
  },
  {
   "cell_type": "markdown",
   "id": "7dbd3f20",
   "metadata": {},
   "source": [
    "# load ru map"
   ]
  },
  {
   "cell_type": "code",
   "execution_count": 4,
   "id": "31cc37f4",
   "metadata": {
    "ExecuteTime": {
     "end_time": "2023-05-23T05:11:33.865907Z",
     "start_time": "2023-05-23T05:11:28.374650Z"
    }
   },
   "outputs": [],
   "source": [
    "ru_map = gpd.read_file('map_data/russia_regions_stats.geojson')\n",
    "ru_map = ru_map.to_crs('ESRI:102027')"
   ]
  },
  {
   "cell_type": "code",
   "execution_count": 5,
   "id": "ead328d6",
   "metadata": {
    "ExecuteTime": {
     "end_time": "2023-05-23T05:11:34.165462Z",
     "start_time": "2023-05-23T05:11:33.865907Z"
    }
   },
   "outputs": [
    {
     "data": {
      "text/html": [
       "<div>\n",
       "<style scoped>\n",
       "    .dataframe tbody tr th:only-of-type {\n",
       "        vertical-align: middle;\n",
       "    }\n",
       "\n",
       "    .dataframe tbody tr th {\n",
       "        vertical-align: top;\n",
       "    }\n",
       "\n",
       "    .dataframe thead th {\n",
       "        text-align: right;\n",
       "    }\n",
       "</style>\n",
       "<table border=\"1\" class=\"dataframe\">\n",
       "  <thead>\n",
       "    <tr style=\"text-align: right;\">\n",
       "      <th></th>\n",
       "      <th>name_ru</th>\n",
       "      <th>name_en</th>\n",
       "      <th>federal_district</th>\n",
       "      <th>count_osm</th>\n",
       "      <th>count_mapbox</th>\n",
       "      <th>mapbox_img_2019_2020_pct</th>\n",
       "      <th>ratio_mapbox_osm</th>\n",
       "      <th>updated</th>\n",
       "      <th>geometry</th>\n",
       "    </tr>\n",
       "  </thead>\n",
       "  <tbody>\n",
       "    <tr>\n",
       "      <th>0</th>\n",
       "      <td>Пензенская область</td>\n",
       "      <td>Penza oblast</td>\n",
       "      <td>Приволжский</td>\n",
       "      <td>255374</td>\n",
       "      <td>300161</td>\n",
       "      <td>34.255814</td>\n",
       "      <td>1.175380</td>\n",
       "      <td>NaN</td>\n",
       "      <td>MULTIPOLYGON (((-3034722.148 3368565.973, -303...</td>\n",
       "    </tr>\n",
       "    <tr>\n",
       "      <th>1</th>\n",
       "      <td>Саратовская область</td>\n",
       "      <td>Saratov oblast</td>\n",
       "      <td>Приволжский</td>\n",
       "      <td>491455</td>\n",
       "      <td>601512</td>\n",
       "      <td>41.771953</td>\n",
       "      <td>1.223940</td>\n",
       "      <td>NaN</td>\n",
       "      <td>MULTIPOLYGON (((-3136095.833 3178595.472, -313...</td>\n",
       "    </tr>\n",
       "    <tr>\n",
       "      <th>2</th>\n",
       "      <td>Мордовия</td>\n",
       "      <td>Mordovia</td>\n",
       "      <td>Приволжский</td>\n",
       "      <td>191140</td>\n",
       "      <td>191942</td>\n",
       "      <td>81.121859</td>\n",
       "      <td>1.004200</td>\n",
       "      <td>NaN</td>\n",
       "      <td>MULTIPOLYGON (((-3000292.487 3408729.339, -300...</td>\n",
       "    </tr>\n",
       "    <tr>\n",
       "      <th>3</th>\n",
       "      <td>Тамбовская область</td>\n",
       "      <td>Tambov oblast</td>\n",
       "      <td>Центральный</td>\n",
       "      <td>240795</td>\n",
       "      <td>184504</td>\n",
       "      <td>58.284703</td>\n",
       "      <td>0.766229</td>\n",
       "      <td>NaN</td>\n",
       "      <td>MULTIPOLYGON (((-3205780.449 3360578.790, -320...</td>\n",
       "    </tr>\n",
       "    <tr>\n",
       "      <th>4</th>\n",
       "      <td>Рязанская область</td>\n",
       "      <td>Ryazan Oblast</td>\n",
       "      <td>Центральный</td>\n",
       "      <td>135783</td>\n",
       "      <td>238589</td>\n",
       "      <td>87.324990</td>\n",
       "      <td>1.757130</td>\n",
       "      <td>NaN</td>\n",
       "      <td>MULTIPOLYGON (((-3170823.903 3534078.608, -317...</td>\n",
       "    </tr>\n",
       "    <tr>\n",
       "      <th>...</th>\n",
       "      <td>...</td>\n",
       "      <td>...</td>\n",
       "      <td>...</td>\n",
       "      <td>...</td>\n",
       "      <td>...</td>\n",
       "      <td>...</td>\n",
       "      <td>...</td>\n",
       "      <td>...</td>\n",
       "      <td>...</td>\n",
       "    </tr>\n",
       "    <tr>\n",
       "      <th>80</th>\n",
       "      <td>Ивановская область</td>\n",
       "      <td>Ivanovo oblast</td>\n",
       "      <td>Центральный</td>\n",
       "      <td>88559</td>\n",
       "      <td>194870</td>\n",
       "      <td>88.912088</td>\n",
       "      <td>2.200450</td>\n",
       "      <td>NaN</td>\n",
       "      <td>MULTIPOLYGON (((-2976095.236 3720906.910, -297...</td>\n",
       "    </tr>\n",
       "    <tr>\n",
       "      <th>81</th>\n",
       "      <td>Костромская область</td>\n",
       "      <td>Kostroma oblast</td>\n",
       "      <td>Центральный</td>\n",
       "      <td>77873</td>\n",
       "      <td>135149</td>\n",
       "      <td>43.502731</td>\n",
       "      <td>1.735510</td>\n",
       "      <td>NaN</td>\n",
       "      <td>MULTIPOLYGON (((-2893325.672 3734902.940, -289...</td>\n",
       "    </tr>\n",
       "    <tr>\n",
       "      <th>82</th>\n",
       "      <td>Марий Эл</td>\n",
       "      <td>Mari El</td>\n",
       "      <td>Приволжский</td>\n",
       "      <td>152951</td>\n",
       "      <td>183194</td>\n",
       "      <td>92.948044</td>\n",
       "      <td>1.197730</td>\n",
       "      <td>NaN</td>\n",
       "      <td>MULTIPOLYGON (((-2699463.030 3488398.120, -269...</td>\n",
       "    </tr>\n",
       "    <tr>\n",
       "      <th>83</th>\n",
       "      <td>Магаданская область</td>\n",
       "      <td>Magadan oblast</td>\n",
       "      <td>Дальневосточный</td>\n",
       "      <td>9940</td>\n",
       "      <td>13626</td>\n",
       "      <td>47.188903</td>\n",
       "      <td>1.370820</td>\n",
       "      <td>NaN</td>\n",
       "      <td>MULTIPOLYGON (((2997902.542 4430646.893, 29979...</td>\n",
       "    </tr>\n",
       "    <tr>\n",
       "      <th>84</th>\n",
       "      <td>Калмыкия</td>\n",
       "      <td>Kalmykia</td>\n",
       "      <td>Южный</td>\n",
       "      <td>29154</td>\n",
       "      <td>62613</td>\n",
       "      <td>68.444393</td>\n",
       "      <td>2.147660</td>\n",
       "      <td>NaN</td>\n",
       "      <td>MULTIPOLYGON (((-3505033.372 2757342.881, -350...</td>\n",
       "    </tr>\n",
       "  </tbody>\n",
       "</table>\n",
       "<p>85 rows × 9 columns</p>\n",
       "</div>"
      ],
      "text/plain": [
       "                name_ru          name_en federal_district  count_osm  \\\n",
       "0    Пензенская область     Penza oblast      Приволжский     255374   \n",
       "1   Саратовская область   Saratov oblast      Приволжский     491455   \n",
       "2              Мордовия         Mordovia      Приволжский     191140   \n",
       "3    Тамбовская область    Tambov oblast      Центральный     240795   \n",
       "4     Рязанская область    Ryazan Oblast      Центральный     135783   \n",
       "..                  ...              ...              ...        ...   \n",
       "80   Ивановская область   Ivanovo oblast      Центральный      88559   \n",
       "81  Костромская область  Kostroma oblast      Центральный      77873   \n",
       "82             Марий Эл          Mari El      Приволжский     152951   \n",
       "83  Магаданская область   Magadan oblast  Дальневосточный       9940   \n",
       "84             Калмыкия         Kalmykia            Южный      29154   \n",
       "\n",
       "    count_mapbox  mapbox_img_2019_2020_pct  ratio_mapbox_osm updated  \\\n",
       "0         300161                 34.255814          1.175380     NaN   \n",
       "1         601512                 41.771953          1.223940     NaN   \n",
       "2         191942                 81.121859          1.004200     NaN   \n",
       "3         184504                 58.284703          0.766229     NaN   \n",
       "4         238589                 87.324990          1.757130     NaN   \n",
       "..           ...                       ...               ...     ...   \n",
       "80        194870                 88.912088          2.200450     NaN   \n",
       "81        135149                 43.502731          1.735510     NaN   \n",
       "82        183194                 92.948044          1.197730     NaN   \n",
       "83         13626                 47.188903          1.370820     NaN   \n",
       "84         62613                 68.444393          2.147660     NaN   \n",
       "\n",
       "                                             geometry  \n",
       "0   MULTIPOLYGON (((-3034722.148 3368565.973, -303...  \n",
       "1   MULTIPOLYGON (((-3136095.833 3178595.472, -313...  \n",
       "2   MULTIPOLYGON (((-3000292.487 3408729.339, -300...  \n",
       "3   MULTIPOLYGON (((-3205780.449 3360578.790, -320...  \n",
       "4   MULTIPOLYGON (((-3170823.903 3534078.608, -317...  \n",
       "..                                                ...  \n",
       "80  MULTIPOLYGON (((-2976095.236 3720906.910, -297...  \n",
       "81  MULTIPOLYGON (((-2893325.672 3734902.940, -289...  \n",
       "82  MULTIPOLYGON (((-2699463.030 3488398.120, -269...  \n",
       "83  MULTIPOLYGON (((2997902.542 4430646.893, 29979...  \n",
       "84  MULTIPOLYGON (((-3505033.372 2757342.881, -350...  \n",
       "\n",
       "[85 rows x 9 columns]"
      ]
     },
     "execution_count": 5,
     "metadata": {},
     "output_type": "execute_result"
    }
   ],
   "source": [
    "ru_map"
   ]
  },
  {
   "cell_type": "code",
   "execution_count": 6,
   "id": "ac063965",
   "metadata": {
    "ExecuteTime": {
     "end_time": "2023-05-23T05:11:34.678911Z",
     "start_time": "2023-05-23T05:11:34.166463Z"
    }
   },
   "outputs": [
    {
     "name": "stderr",
     "output_type": "stream",
     "text": [
      "85it [00:00, 174.54it/s]\n"
     ]
    }
   ],
   "source": [
    "ru_map['area'] = ru_map.geometry.apply(lambda x: x.area)\n",
    "ru_map_regions = geoseries2shapedict(ru_map.sort_values(by=['area'], axis=0, ascending=False), 'name_ru', 'rumap')"
   ]
  },
  {
   "cell_type": "markdown",
   "id": "3bc63d74",
   "metadata": {},
   "source": [
    "# oblasti regionov"
   ]
  },
  {
   "cell_type": "code",
   "execution_count": 7,
   "id": "f4529272",
   "metadata": {
    "ExecuteTime": {
     "end_time": "2023-05-23T05:11:35.258900Z",
     "start_time": "2023-05-23T05:11:34.680710Z"
    }
   },
   "outputs": [],
   "source": [
    "a = pd.read_csv('map_data/kad_map/admin_level_6.csv', delimiter=';', encoding='utf8')"
   ]
  },
  {
   "cell_type": "code",
   "execution_count": 8,
   "id": "b57f2feb",
   "metadata": {
    "ExecuteTime": {
     "end_time": "2023-05-23T05:11:35.282706Z",
     "start_time": "2023-05-23T05:11:35.258900Z"
    }
   },
   "outputs": [],
   "source": [
    "a = a.dropna(axis=1,thresh=len(a)*0.19)"
   ]
  },
  {
   "cell_type": "code",
   "execution_count": 9,
   "id": "d806cd3c",
   "metadata": {
    "ExecuteTime": {
     "end_time": "2023-05-23T05:11:35.289303Z",
     "start_time": "2023-05-23T05:11:35.283708Z"
    }
   },
   "outputs": [],
   "source": [
    "a.iloc[a[a.name.apply(lambda x: 'ородской' in x)].index, 1] = a[a.name.apply(lambda x: 'ородской' in x)].name.apply(lambda x: x.replace('городской округ ', '').replace(' городской округ', ''))"
   ]
  },
  {
   "cell_type": "code",
   "execution_count": 10,
   "id": "25debb0d",
   "metadata": {
    "ExecuteTime": {
     "end_time": "2023-05-23T05:11:36.416639Z",
     "start_time": "2023-05-23T05:11:35.290637Z"
    }
   },
   "outputs": [],
   "source": [
    "gdf_regions = gpd.GeoDataFrame(a, geometry=wkt.loads(a.WKT), crs='EPSG:4326')"
   ]
  },
  {
   "cell_type": "code",
   "execution_count": 11,
   "id": "5906fa0c",
   "metadata": {
    "ExecuteTime": {
     "end_time": "2023-05-23T05:11:36.430075Z",
     "start_time": "2023-05-23T05:11:36.417649Z"
    }
   },
   "outputs": [],
   "source": [
    "all_ru_regions = gdf_regions[['name', 'name__ru', 'wikipedia', 'geometry']]"
   ]
  },
  {
   "cell_type": "code",
   "execution_count": 12,
   "id": "f7bc71c7",
   "metadata": {
    "ExecuteTime": {
     "end_time": "2023-05-23T05:11:37.047623Z",
     "start_time": "2023-05-23T05:11:36.431418Z"
    }
   },
   "outputs": [],
   "source": [
    "all_ru_regions = all_ru_regions.to_crs('ESRI:102027')"
   ]
  },
  {
   "cell_type": "code",
   "execution_count": 13,
   "id": "824092c1",
   "metadata": {
    "ExecuteTime": {
     "end_time": "2023-05-23T05:11:37.079350Z",
     "start_time": "2023-05-23T05:11:37.052501Z"
    }
   },
   "outputs": [
    {
     "data": {
      "text/html": [
       "<div>\n",
       "<style scoped>\n",
       "    .dataframe tbody tr th:only-of-type {\n",
       "        vertical-align: middle;\n",
       "    }\n",
       "\n",
       "    .dataframe tbody tr th {\n",
       "        vertical-align: top;\n",
       "    }\n",
       "\n",
       "    .dataframe thead th {\n",
       "        text-align: right;\n",
       "    }\n",
       "</style>\n",
       "<table border=\"1\" class=\"dataframe\">\n",
       "  <thead>\n",
       "    <tr style=\"text-align: right;\">\n",
       "      <th></th>\n",
       "      <th>name</th>\n",
       "      <th>name__ru</th>\n",
       "      <th>wikipedia</th>\n",
       "      <th>geometry</th>\n",
       "    </tr>\n",
       "  </thead>\n",
       "  <tbody>\n",
       "    <tr>\n",
       "      <th>0</th>\n",
       "      <td>Селенгинский район</td>\n",
       "      <td>Селенгинский район</td>\n",
       "      <td>ru:Селенгинский район</td>\n",
       "      <td>MULTIPOLYGON (((772911.849 2183926.259, 770829...</td>\n",
       "    </tr>\n",
       "    <tr>\n",
       "      <th>1</th>\n",
       "      <td>Хоринский район</td>\n",
       "      <td>Хоринский район</td>\n",
       "      <td>ru:Хоринский район</td>\n",
       "      <td>MULTIPOLYGON (((975660.756 2392376.746, 968958...</td>\n",
       "    </tr>\n",
       "    <tr>\n",
       "      <th>2</th>\n",
       "      <td>Курумканский район</td>\n",
       "      <td>Курумканский район</td>\n",
       "      <td>ru:Курумканский район</td>\n",
       "      <td>MULTIPOLYGON (((1006551.636 2652187.027, 10017...</td>\n",
       "    </tr>\n",
       "    <tr>\n",
       "      <th>3</th>\n",
       "      <td>Брюховецкий район</td>\n",
       "      <td>Брюховецкий район</td>\n",
       "      <td>ru:Брюховецкий район</td>\n",
       "      <td>MULTIPOLYGON (((-3642267.062 2820599.306, -364...</td>\n",
       "    </tr>\n",
       "    <tr>\n",
       "      <th>4</th>\n",
       "      <td>Павловский район</td>\n",
       "      <td>Павловский район</td>\n",
       "      <td>ru:Павловский район (Краснодарский край)</td>\n",
       "      <td>MULTIPOLYGON (((-3583010.429 2801858.794, -358...</td>\n",
       "    </tr>\n",
       "    <tr>\n",
       "      <th>...</th>\n",
       "      <td>...</td>\n",
       "      <td>...</td>\n",
       "      <td>...</td>\n",
       "      <td>...</td>\n",
       "    </tr>\n",
       "    <tr>\n",
       "      <th>2362</th>\n",
       "      <td>Тамбов</td>\n",
       "      <td>NaN</td>\n",
       "      <td>ru:Тамбов</td>\n",
       "      <td>MULTIPOLYGON (((-3124307.505 3303042.861, -312...</td>\n",
       "    </tr>\n",
       "    <tr>\n",
       "      <th>2363</th>\n",
       "      <td>Рассказовский район</td>\n",
       "      <td>NaN</td>\n",
       "      <td>ru:Рассказовский район</td>\n",
       "      <td>MULTIPOLYGON (((-3081265.438 3272682.587, -308...</td>\n",
       "    </tr>\n",
       "    <tr>\n",
       "      <th>2364</th>\n",
       "      <td>Сосновский район</td>\n",
       "      <td>NaN</td>\n",
       "      <td>ru:Сосновский район (Тамбовская область)</td>\n",
       "      <td>MULTIPOLYGON (((-3079943.869 3330265.964, -308...</td>\n",
       "    </tr>\n",
       "    <tr>\n",
       "      <th>2365</th>\n",
       "      <td>Тамбовский район</td>\n",
       "      <td>NaN</td>\n",
       "      <td>ru:Тамбовский район (Тамбовская область)</td>\n",
       "      <td>MULTIPOLYGON (((-3101331.947 3297711.561, -310...</td>\n",
       "    </tr>\n",
       "    <tr>\n",
       "      <th>2366</th>\n",
       "      <td>Бондарский район</td>\n",
       "      <td>NaN</td>\n",
       "      <td>ru:Бондарский район</td>\n",
       "      <td>MULTIPOLYGON (((-3065568.009 3280013.912, -306...</td>\n",
       "    </tr>\n",
       "  </tbody>\n",
       "</table>\n",
       "<p>2367 rows × 4 columns</p>\n",
       "</div>"
      ],
      "text/plain": [
       "                     name            name__ru  \\\n",
       "0      Селенгинский район  Селенгинский район   \n",
       "1         Хоринский район     Хоринский район   \n",
       "2      Курумканский район  Курумканский район   \n",
       "3       Брюховецкий район   Брюховецкий район   \n",
       "4        Павловский район    Павловский район   \n",
       "...                   ...                 ...   \n",
       "2362               Тамбов                 NaN   \n",
       "2363  Рассказовский район                 NaN   \n",
       "2364     Сосновский район                 NaN   \n",
       "2365     Тамбовский район                 NaN   \n",
       "2366     Бондарский район                 NaN   \n",
       "\n",
       "                                     wikipedia  \\\n",
       "0                        ru:Селенгинский район   \n",
       "1                           ru:Хоринский район   \n",
       "2                        ru:Курумканский район   \n",
       "3                         ru:Брюховецкий район   \n",
       "4     ru:Павловский район (Краснодарский край)   \n",
       "...                                        ...   \n",
       "2362                                 ru:Тамбов   \n",
       "2363                    ru:Рассказовский район   \n",
       "2364  ru:Сосновский район (Тамбовская область)   \n",
       "2365  ru:Тамбовский район (Тамбовская область)   \n",
       "2366                       ru:Бондарский район   \n",
       "\n",
       "                                               geometry  \n",
       "0     MULTIPOLYGON (((772911.849 2183926.259, 770829...  \n",
       "1     MULTIPOLYGON (((975660.756 2392376.746, 968958...  \n",
       "2     MULTIPOLYGON (((1006551.636 2652187.027, 10017...  \n",
       "3     MULTIPOLYGON (((-3642267.062 2820599.306, -364...  \n",
       "4     MULTIPOLYGON (((-3583010.429 2801858.794, -358...  \n",
       "...                                                 ...  \n",
       "2362  MULTIPOLYGON (((-3124307.505 3303042.861, -312...  \n",
       "2363  MULTIPOLYGON (((-3081265.438 3272682.587, -308...  \n",
       "2364  MULTIPOLYGON (((-3079943.869 3330265.964, -308...  \n",
       "2365  MULTIPOLYGON (((-3101331.947 3297711.561, -310...  \n",
       "2366  MULTIPOLYGON (((-3065568.009 3280013.912, -306...  \n",
       "\n",
       "[2367 rows x 4 columns]"
      ]
     },
     "execution_count": 13,
     "metadata": {},
     "output_type": "execute_result"
    }
   ],
   "source": [
    "all_ru_regions"
   ]
  },
  {
   "cell_type": "code",
   "execution_count": 14,
   "id": "161044fd",
   "metadata": {
    "ExecuteTime": {
     "end_time": "2023-05-23T05:11:37.121478Z",
     "start_time": "2023-05-23T05:11:37.080640Z"
    }
   },
   "outputs": [],
   "source": [
    "all_ru_regions_exploded = all_ru_regions.explode()"
   ]
  },
  {
   "cell_type": "code",
   "execution_count": 15,
   "id": "78750552",
   "metadata": {
    "ExecuteTime": {
     "end_time": "2023-05-23T05:11:37.125521Z",
     "start_time": "2023-05-23T05:11:37.121478Z"
    }
   },
   "outputs": [],
   "source": [
    "all_ru_regions_exploded.reset_index(drop=True, inplace=True)"
   ]
  },
  {
   "cell_type": "code",
   "execution_count": 16,
   "id": "8cac6700",
   "metadata": {
    "ExecuteTime": {
     "end_time": "2023-05-23T05:11:37.154445Z",
     "start_time": "2023-05-23T05:11:37.126843Z"
    }
   },
   "outputs": [],
   "source": [
    "all_ru_regions_exploded['area'] = all_ru_regions_exploded.geometry.apply(lambda x: x.area)"
   ]
  },
  {
   "cell_type": "code",
   "execution_count": 17,
   "id": "206f341f",
   "metadata": {
    "ExecuteTime": {
     "end_time": "2023-05-23T05:11:37.164298Z",
     "start_time": "2023-05-23T05:11:37.155952Z"
    }
   },
   "outputs": [],
   "source": [
    "all_ru_regions_exploded = all_ru_regions_exploded.sort_values('area', ascending=False).drop_duplicates(['name', 'wikipedia']).sort_index()\n",
    "all_ru_regions_exploded.reset_index(drop=True, inplace=True)"
   ]
  },
  {
   "cell_type": "code",
   "execution_count": 18,
   "id": "8d0b12ae",
   "metadata": {
    "ExecuteTime": {
     "end_time": "2023-05-23T05:11:37.193562Z",
     "start_time": "2023-05-23T05:11:37.164298Z"
    }
   },
   "outputs": [
    {
     "data": {
      "text/html": [
       "<div>\n",
       "<style scoped>\n",
       "    .dataframe tbody tr th:only-of-type {\n",
       "        vertical-align: middle;\n",
       "    }\n",
       "\n",
       "    .dataframe tbody tr th {\n",
       "        vertical-align: top;\n",
       "    }\n",
       "\n",
       "    .dataframe thead th {\n",
       "        text-align: right;\n",
       "    }\n",
       "</style>\n",
       "<table border=\"1\" class=\"dataframe\">\n",
       "  <thead>\n",
       "    <tr style=\"text-align: right;\">\n",
       "      <th></th>\n",
       "      <th>name</th>\n",
       "      <th>name__ru</th>\n",
       "      <th>wikipedia</th>\n",
       "      <th>geometry</th>\n",
       "      <th>area</th>\n",
       "    </tr>\n",
       "  </thead>\n",
       "  <tbody>\n",
       "    <tr>\n",
       "      <th>0</th>\n",
       "      <td>Селенгинский район</td>\n",
       "      <td>Селенгинский район</td>\n",
       "      <td>ru:Селенгинский район</td>\n",
       "      <td>POLYGON ((772911.849 2183926.259, 770829.137 2...</td>\n",
       "      <td>6.729938e+09</td>\n",
       "    </tr>\n",
       "    <tr>\n",
       "      <th>1</th>\n",
       "      <td>Хоринский район</td>\n",
       "      <td>Хоринский район</td>\n",
       "      <td>ru:Хоринский район</td>\n",
       "      <td>POLYGON ((975660.756 2392376.746, 968958.946 2...</td>\n",
       "      <td>1.216154e+10</td>\n",
       "    </tr>\n",
       "    <tr>\n",
       "      <th>2</th>\n",
       "      <td>Курумканский район</td>\n",
       "      <td>Курумканский район</td>\n",
       "      <td>ru:Курумканский район</td>\n",
       "      <td>POLYGON ((1006551.636 2652187.027, 1001762.061...</td>\n",
       "      <td>1.117060e+10</td>\n",
       "    </tr>\n",
       "    <tr>\n",
       "      <th>3</th>\n",
       "      <td>Брюховецкий район</td>\n",
       "      <td>Брюховецкий район</td>\n",
       "      <td>ru:Брюховецкий район</td>\n",
       "      <td>POLYGON ((-3642267.062 2820599.306, -3642492.8...</td>\n",
       "      <td>1.132083e+09</td>\n",
       "    </tr>\n",
       "    <tr>\n",
       "      <th>4</th>\n",
       "      <td>Павловский район</td>\n",
       "      <td>Павловский район</td>\n",
       "      <td>ru:Павловский район (Краснодарский край)</td>\n",
       "      <td>POLYGON ((-3583010.429 2801858.794, -3583399.7...</td>\n",
       "      <td>1.472633e+09</td>\n",
       "    </tr>\n",
       "    <tr>\n",
       "      <th>...</th>\n",
       "      <td>...</td>\n",
       "      <td>...</td>\n",
       "      <td>...</td>\n",
       "      <td>...</td>\n",
       "      <td>...</td>\n",
       "    </tr>\n",
       "    <tr>\n",
       "      <th>2360</th>\n",
       "      <td>Тамбов</td>\n",
       "      <td>NaN</td>\n",
       "      <td>ru:Тамбов</td>\n",
       "      <td>POLYGON ((-3124307.505 3303042.861, -3124603.5...</td>\n",
       "      <td>7.601746e+07</td>\n",
       "    </tr>\n",
       "    <tr>\n",
       "      <th>2361</th>\n",
       "      <td>Рассказовский район</td>\n",
       "      <td>NaN</td>\n",
       "      <td>ru:Рассказовский район</td>\n",
       "      <td>POLYGON ((-3081265.438 3272682.587, -3081149.2...</td>\n",
       "      <td>1.554211e+09</td>\n",
       "    </tr>\n",
       "    <tr>\n",
       "      <th>2362</th>\n",
       "      <td>Сосновский район</td>\n",
       "      <td>NaN</td>\n",
       "      <td>ru:Сосновский район (Тамбовская область)</td>\n",
       "      <td>POLYGON ((-3079943.869 3330265.964, -3082502.7...</td>\n",
       "      <td>2.043358e+09</td>\n",
       "    </tr>\n",
       "    <tr>\n",
       "      <th>2363</th>\n",
       "      <td>Тамбовский район</td>\n",
       "      <td>NaN</td>\n",
       "      <td>ru:Тамбовский район (Тамбовская область)</td>\n",
       "      <td>POLYGON ((-3101331.947 3297711.561, -3101893.6...</td>\n",
       "      <td>2.251141e+09</td>\n",
       "    </tr>\n",
       "    <tr>\n",
       "      <th>2364</th>\n",
       "      <td>Бондарский район</td>\n",
       "      <td>NaN</td>\n",
       "      <td>ru:Бондарский район</td>\n",
       "      <td>POLYGON ((-3065568.009 3280013.912, -3066563.7...</td>\n",
       "      <td>1.070212e+09</td>\n",
       "    </tr>\n",
       "  </tbody>\n",
       "</table>\n",
       "<p>2365 rows × 5 columns</p>\n",
       "</div>"
      ],
      "text/plain": [
       "                     name            name__ru  \\\n",
       "0      Селенгинский район  Селенгинский район   \n",
       "1         Хоринский район     Хоринский район   \n",
       "2      Курумканский район  Курумканский район   \n",
       "3       Брюховецкий район   Брюховецкий район   \n",
       "4        Павловский район    Павловский район   \n",
       "...                   ...                 ...   \n",
       "2360               Тамбов                 NaN   \n",
       "2361  Рассказовский район                 NaN   \n",
       "2362     Сосновский район                 NaN   \n",
       "2363     Тамбовский район                 NaN   \n",
       "2364     Бондарский район                 NaN   \n",
       "\n",
       "                                     wikipedia  \\\n",
       "0                        ru:Селенгинский район   \n",
       "1                           ru:Хоринский район   \n",
       "2                        ru:Курумканский район   \n",
       "3                         ru:Брюховецкий район   \n",
       "4     ru:Павловский район (Краснодарский край)   \n",
       "...                                        ...   \n",
       "2360                                 ru:Тамбов   \n",
       "2361                    ru:Рассказовский район   \n",
       "2362  ru:Сосновский район (Тамбовская область)   \n",
       "2363  ru:Тамбовский район (Тамбовская область)   \n",
       "2364                       ru:Бондарский район   \n",
       "\n",
       "                                               geometry          area  \n",
       "0     POLYGON ((772911.849 2183926.259, 770829.137 2...  6.729938e+09  \n",
       "1     POLYGON ((975660.756 2392376.746, 968958.946 2...  1.216154e+10  \n",
       "2     POLYGON ((1006551.636 2652187.027, 1001762.061...  1.117060e+10  \n",
       "3     POLYGON ((-3642267.062 2820599.306, -3642492.8...  1.132083e+09  \n",
       "4     POLYGON ((-3583010.429 2801858.794, -3583399.7...  1.472633e+09  \n",
       "...                                                 ...           ...  \n",
       "2360  POLYGON ((-3124307.505 3303042.861, -3124603.5...  7.601746e+07  \n",
       "2361  POLYGON ((-3081265.438 3272682.587, -3081149.2...  1.554211e+09  \n",
       "2362  POLYGON ((-3079943.869 3330265.964, -3082502.7...  2.043358e+09  \n",
       "2363  POLYGON ((-3101331.947 3297711.561, -3101893.6...  2.251141e+09  \n",
       "2364  POLYGON ((-3065568.009 3280013.912, -3066563.7...  1.070212e+09  \n",
       "\n",
       "[2365 rows x 5 columns]"
      ]
     },
     "execution_count": 18,
     "metadata": {},
     "output_type": "execute_result"
    }
   ],
   "source": [
    "all_ru_regions_exploded"
   ]
  },
  {
   "cell_type": "markdown",
   "id": "efcc2f88",
   "metadata": {},
   "source": [
    "# таблица с кадастровыми кодами российских регионов"
   ]
  },
  {
   "cell_type": "code",
   "execution_count": 19,
   "id": "2e1a2054",
   "metadata": {
    "ExecuteTime": {
     "end_time": "2023-05-23T05:11:37.527526Z",
     "start_time": "2023-05-23T05:11:37.194563Z"
    }
   },
   "outputs": [],
   "source": [
    "tables = pd.read_html(\"flood_proj/Кадастровый рейтинг регионов от ЕГРП365.html\")"
   ]
  },
  {
   "cell_type": "code",
   "execution_count": 20,
   "id": "4a82d593",
   "metadata": {
    "ExecuteTime": {
     "end_time": "2023-05-23T05:11:37.531627Z",
     "start_time": "2023-05-23T05:11:37.528527Z"
    }
   },
   "outputs": [],
   "source": [
    "tab = tables[0]"
   ]
  },
  {
   "cell_type": "code",
   "execution_count": 21,
   "id": "358ecce6",
   "metadata": {
    "ExecuteTime": {
     "end_time": "2023-05-23T05:11:37.544977Z",
     "start_time": "2023-05-23T05:11:37.532628Z"
    }
   },
   "outputs": [],
   "source": [
    "tab.columns = [''] * len(tab.columns)"
   ]
  },
  {
   "cell_type": "code",
   "execution_count": 22,
   "id": "47a3375e",
   "metadata": {
    "ExecuteTime": {
     "end_time": "2023-05-23T05:11:37.549528Z",
     "start_time": "2023-05-23T05:11:37.546979Z"
    }
   },
   "outputs": [],
   "source": [
    "all_kads = tab.iloc[:,2][:-1]"
   ]
  },
  {
   "cell_type": "code",
   "execution_count": 23,
   "id": "9ea1d93e",
   "metadata": {
    "ExecuteTime": {
     "end_time": "2023-05-23T05:11:37.555908Z",
     "start_time": "2023-05-23T05:11:37.550990Z"
    }
   },
   "outputs": [],
   "source": [
    "all_kads_df = all_kads.apply(lambda x: x.replace(' кадастровый', '')).to_frame()"
   ]
  },
  {
   "cell_type": "code",
   "execution_count": 24,
   "id": "8a2aa35a",
   "metadata": {
    "ExecuteTime": {
     "end_time": "2023-05-23T05:11:37.560144Z",
     "start_time": "2023-05-23T05:11:37.557331Z"
    }
   },
   "outputs": [],
   "source": [
    "all_kads_df.columns = ['src']"
   ]
  },
  {
   "cell_type": "code",
   "execution_count": 25,
   "id": "edb4b8f4",
   "metadata": {
    "ExecuteTime": {
     "end_time": "2023-05-23T05:11:37.566562Z",
     "start_time": "2023-05-23T05:11:37.561470Z"
    }
   },
   "outputs": [],
   "source": [
    "all_regs_df = all_kads_df[all_kads_df.src.apply(lambda x: len(x.split('[')[1].split(':'))) != 2]"
   ]
  },
  {
   "cell_type": "code",
   "execution_count": 26,
   "id": "c7457e42",
   "metadata": {
    "ExecuteTime": {
     "end_time": "2023-05-23T05:11:37.571914Z",
     "start_time": "2023-05-23T05:11:37.567788Z"
    }
   },
   "outputs": [],
   "source": [
    "all_regs_df[['name', 'reg']] = [None, None]"
   ]
  },
  {
   "cell_type": "code",
   "execution_count": 27,
   "id": "24c293ef",
   "metadata": {
    "ExecuteTime": {
     "end_time": "2023-05-23T05:11:37.579301Z",
     "start_time": "2023-05-23T05:11:37.574930Z"
    }
   },
   "outputs": [],
   "source": [
    "all_regs_df.name = all_regs_df.src.apply(lambda x: x.split('[')[0][:-1])\n",
    "all_regs_df.reg = all_regs_df.src.apply(lambda x: x.split('[')[1].split(':')[0][:-1])"
   ]
  },
  {
   "cell_type": "code",
   "execution_count": 28,
   "id": "91fa74ca",
   "metadata": {
    "ExecuteTime": {
     "end_time": "2023-05-23T05:11:38.536908Z",
     "start_time": "2023-05-23T05:11:38.533199Z"
    }
   },
   "outputs": [],
   "source": [
    "all_regs_df.drop(columns=['src'], inplace=True)\n",
    "all_regs_df.reset_index(drop=True, inplace=True)"
   ]
  },
  {
   "cell_type": "code",
   "execution_count": 29,
   "id": "117c666d",
   "metadata": {
    "ExecuteTime": {
     "end_time": "2023-05-23T05:11:39.728114Z",
     "start_time": "2023-05-23T05:11:39.722216Z"
    }
   },
   "outputs": [],
   "source": [
    "all_kads_df = all_kads_df[all_kads_df.src.apply(lambda x: len(x.split('[')[1].split(':'))) == 2]"
   ]
  },
  {
   "cell_type": "code",
   "execution_count": 30,
   "id": "5a472f34",
   "metadata": {
    "ExecuteTime": {
     "end_time": "2023-05-23T05:11:40.361586Z",
     "start_time": "2023-05-23T05:11:40.358294Z"
    }
   },
   "outputs": [],
   "source": [
    "all_kads_df.columns = ['src']"
   ]
  },
  {
   "cell_type": "code",
   "execution_count": 31,
   "id": "8b810413",
   "metadata": {
    "ExecuteTime": {
     "end_time": "2023-05-23T05:11:40.973420Z",
     "start_time": "2023-05-23T05:11:40.969227Z"
    }
   },
   "outputs": [],
   "source": [
    "all_kads_df[['name', 'reg', 'dst']] = [None, None, None]"
   ]
  },
  {
   "cell_type": "code",
   "execution_count": 32,
   "id": "9198ef62",
   "metadata": {
    "ExecuteTime": {
     "end_time": "2023-05-23T05:11:41.805185Z",
     "start_time": "2023-05-23T05:11:41.795903Z"
    }
   },
   "outputs": [],
   "source": [
    "all_kads_df.name = all_kads_df.src.apply(lambda x: x.split('[')[0][:-1])\n",
    "all_kads_df.reg = all_kads_df.src.apply(lambda x: x.split('[')[1].split(':')[0])\n",
    "all_kads_df.dst = all_kads_df.src.apply(lambda x: x.split('[')[1].split(':')[1][:-1])"
   ]
  },
  {
   "cell_type": "code",
   "execution_count": 33,
   "id": "c21230d5",
   "metadata": {
    "ExecuteTime": {
     "end_time": "2023-05-23T05:11:43.357855Z",
     "start_time": "2023-05-23T05:11:43.352750Z"
    }
   },
   "outputs": [],
   "source": [
    "all_kads_df.drop(columns=['src'], inplace=True)\n",
    "all_kads_df.reset_index(drop=True, inplace=True)"
   ]
  },
  {
   "cell_type": "code",
   "execution_count": 34,
   "id": "79783255",
   "metadata": {
    "ExecuteTime": {
     "end_time": "2023-05-23T05:11:44.922698Z",
     "start_time": "2023-05-23T05:11:44.916880Z"
    }
   },
   "outputs": [],
   "source": [
    "all_kads_df.iloc[all_kads_df[all_kads_df.name.apply(lambda x: 'г. ' in x)].index, 0] = all_kads_df[all_kads_df.name.apply(lambda x: 'г. ' in x)].name.apply(lambda all_kads_df: all_kads_df.replace('г. ', ''))"
   ]
  },
  {
   "cell_type": "code",
   "execution_count": 35,
   "id": "cdbe4ad2",
   "metadata": {
    "ExecuteTime": {
     "end_time": "2023-05-23T05:11:48.305410Z",
     "start_time": "2023-05-23T05:11:48.297946Z"
    }
   },
   "outputs": [
    {
     "data": {
      "text/html": [
       "<div>\n",
       "<style scoped>\n",
       "    .dataframe tbody tr th:only-of-type {\n",
       "        vertical-align: middle;\n",
       "    }\n",
       "\n",
       "    .dataframe tbody tr th {\n",
       "        vertical-align: top;\n",
       "    }\n",
       "\n",
       "    .dataframe thead th {\n",
       "        text-align: right;\n",
       "    }\n",
       "</style>\n",
       "<table border=\"1\" class=\"dataframe\">\n",
       "  <thead>\n",
       "    <tr style=\"text-align: right;\">\n",
       "      <th></th>\n",
       "      <th>name</th>\n",
       "      <th>reg</th>\n",
       "      <th>dst</th>\n",
       "    </tr>\n",
       "  </thead>\n",
       "  <tbody>\n",
       "    <tr>\n",
       "      <th>0</th>\n",
       "      <td>Облученский район</td>\n",
       "      <td>79</td>\n",
       "      <td>05</td>\n",
       "    </tr>\n",
       "    <tr>\n",
       "      <th>1</th>\n",
       "      <td>Биробиджанский район</td>\n",
       "      <td>79</td>\n",
       "      <td>04</td>\n",
       "    </tr>\n",
       "    <tr>\n",
       "      <th>2</th>\n",
       "      <td>Октябрьский район</td>\n",
       "      <td>79</td>\n",
       "      <td>02</td>\n",
       "    </tr>\n",
       "    <tr>\n",
       "      <th>3</th>\n",
       "      <td>Смидовичский район</td>\n",
       "      <td>79</td>\n",
       "      <td>06</td>\n",
       "    </tr>\n",
       "    <tr>\n",
       "      <th>4</th>\n",
       "      <td>Биробиджан</td>\n",
       "      <td>79</td>\n",
       "      <td>01</td>\n",
       "    </tr>\n",
       "    <tr>\n",
       "      <th>...</th>\n",
       "      <td>...</td>\n",
       "      <td>...</td>\n",
       "      <td>...</td>\n",
       "    </tr>\n",
       "    <tr>\n",
       "      <th>2617</th>\n",
       "      <td>Гавриловский район</td>\n",
       "      <td>68</td>\n",
       "      <td>02</td>\n",
       "    </tr>\n",
       "    <tr>\n",
       "      <th>2618</th>\n",
       "      <td>Жердевский район</td>\n",
       "      <td>68</td>\n",
       "      <td>03</td>\n",
       "    </tr>\n",
       "    <tr>\n",
       "      <th>2619</th>\n",
       "      <td>Староюрьевский район</td>\n",
       "      <td>68</td>\n",
       "      <td>19</td>\n",
       "    </tr>\n",
       "    <tr>\n",
       "      <th>2620</th>\n",
       "      <td>Ржаксинский район</td>\n",
       "      <td>68</td>\n",
       "      <td>16</td>\n",
       "    </tr>\n",
       "    <tr>\n",
       "      <th>2621</th>\n",
       "      <td>Бондарский район</td>\n",
       "      <td>68</td>\n",
       "      <td>01</td>\n",
       "    </tr>\n",
       "  </tbody>\n",
       "</table>\n",
       "<p>2622 rows × 3 columns</p>\n",
       "</div>"
      ],
      "text/plain": [
       "                      name reg dst\n",
       "0        Облученский район  79  05\n",
       "1     Биробиджанский район  79  04\n",
       "2        Октябрьский район  79  02\n",
       "3       Смидовичский район  79  06\n",
       "4               Биробиджан  79  01\n",
       "...                    ...  ..  ..\n",
       "2617    Гавриловский район  68  02\n",
       "2618      Жердевский район  68  03\n",
       "2619  Староюрьевский район  68  19\n",
       "2620     Ржаксинский район  68  16\n",
       "2621      Бондарский район  68  01\n",
       "\n",
       "[2622 rows x 3 columns]"
      ]
     },
     "execution_count": 35,
     "metadata": {},
     "output_type": "execute_result"
    }
   ],
   "source": [
    "all_kads_df"
   ]
  },
  {
   "cell_type": "code",
   "execution_count": 36,
   "id": "e3b6b4ac",
   "metadata": {
    "ExecuteTime": {
     "end_time": "2023-05-23T05:11:57.685913Z",
     "start_time": "2023-05-23T05:11:57.681447Z"
    }
   },
   "outputs": [],
   "source": [
    "all_kads_df.reg = all_kads_df.reg.astype(int)\n",
    "all_kads_df.dst = all_kads_df.dst.astype(int)"
   ]
  },
  {
   "cell_type": "code",
   "execution_count": 37,
   "id": "64dfe493",
   "metadata": {
    "ExecuteTime": {
     "end_time": "2023-05-23T05:11:58.515688Z",
     "start_time": "2023-05-23T05:11:58.511621Z"
    }
   },
   "outputs": [],
   "source": [
    "all_ru_regions['dst'] = None"
   ]
  },
  {
   "cell_type": "code",
   "execution_count": 38,
   "id": "324577a0",
   "metadata": {
    "ExecuteTime": {
     "end_time": "2023-05-23T05:12:00.687227Z",
     "start_time": "2023-05-23T05:12:00.657503Z"
    }
   },
   "outputs": [
    {
     "data": {
      "text/html": [
       "<div>\n",
       "<style scoped>\n",
       "    .dataframe tbody tr th:only-of-type {\n",
       "        vertical-align: middle;\n",
       "    }\n",
       "\n",
       "    .dataframe tbody tr th {\n",
       "        vertical-align: top;\n",
       "    }\n",
       "\n",
       "    .dataframe thead th {\n",
       "        text-align: right;\n",
       "    }\n",
       "</style>\n",
       "<table border=\"1\" class=\"dataframe\">\n",
       "  <thead>\n",
       "    <tr style=\"text-align: right;\">\n",
       "      <th></th>\n",
       "      <th>name</th>\n",
       "      <th>name__ru</th>\n",
       "      <th>wikipedia</th>\n",
       "      <th>geometry</th>\n",
       "      <th>dst</th>\n",
       "    </tr>\n",
       "  </thead>\n",
       "  <tbody>\n",
       "    <tr>\n",
       "      <th>0</th>\n",
       "      <td>Селенгинский район</td>\n",
       "      <td>Селенгинский район</td>\n",
       "      <td>ru:Селенгинский район</td>\n",
       "      <td>MULTIPOLYGON (((772911.849 2183926.259, 770829...</td>\n",
       "      <td>None</td>\n",
       "    </tr>\n",
       "    <tr>\n",
       "      <th>1</th>\n",
       "      <td>Хоринский район</td>\n",
       "      <td>Хоринский район</td>\n",
       "      <td>ru:Хоринский район</td>\n",
       "      <td>MULTIPOLYGON (((975660.756 2392376.746, 968958...</td>\n",
       "      <td>None</td>\n",
       "    </tr>\n",
       "    <tr>\n",
       "      <th>2</th>\n",
       "      <td>Курумканский район</td>\n",
       "      <td>Курумканский район</td>\n",
       "      <td>ru:Курумканский район</td>\n",
       "      <td>MULTIPOLYGON (((1006551.636 2652187.027, 10017...</td>\n",
       "      <td>None</td>\n",
       "    </tr>\n",
       "    <tr>\n",
       "      <th>3</th>\n",
       "      <td>Брюховецкий район</td>\n",
       "      <td>Брюховецкий район</td>\n",
       "      <td>ru:Брюховецкий район</td>\n",
       "      <td>MULTIPOLYGON (((-3642267.062 2820599.306, -364...</td>\n",
       "      <td>None</td>\n",
       "    </tr>\n",
       "    <tr>\n",
       "      <th>4</th>\n",
       "      <td>Павловский район</td>\n",
       "      <td>Павловский район</td>\n",
       "      <td>ru:Павловский район (Краснодарский край)</td>\n",
       "      <td>MULTIPOLYGON (((-3583010.429 2801858.794, -358...</td>\n",
       "      <td>None</td>\n",
       "    </tr>\n",
       "    <tr>\n",
       "      <th>...</th>\n",
       "      <td>...</td>\n",
       "      <td>...</td>\n",
       "      <td>...</td>\n",
       "      <td>...</td>\n",
       "      <td>...</td>\n",
       "    </tr>\n",
       "    <tr>\n",
       "      <th>2362</th>\n",
       "      <td>Тамбов</td>\n",
       "      <td>NaN</td>\n",
       "      <td>ru:Тамбов</td>\n",
       "      <td>MULTIPOLYGON (((-3124307.505 3303042.861, -312...</td>\n",
       "      <td>None</td>\n",
       "    </tr>\n",
       "    <tr>\n",
       "      <th>2363</th>\n",
       "      <td>Рассказовский район</td>\n",
       "      <td>NaN</td>\n",
       "      <td>ru:Рассказовский район</td>\n",
       "      <td>MULTIPOLYGON (((-3081265.438 3272682.587, -308...</td>\n",
       "      <td>None</td>\n",
       "    </tr>\n",
       "    <tr>\n",
       "      <th>2364</th>\n",
       "      <td>Сосновский район</td>\n",
       "      <td>NaN</td>\n",
       "      <td>ru:Сосновский район (Тамбовская область)</td>\n",
       "      <td>MULTIPOLYGON (((-3079943.869 3330265.964, -308...</td>\n",
       "      <td>None</td>\n",
       "    </tr>\n",
       "    <tr>\n",
       "      <th>2365</th>\n",
       "      <td>Тамбовский район</td>\n",
       "      <td>NaN</td>\n",
       "      <td>ru:Тамбовский район (Тамбовская область)</td>\n",
       "      <td>MULTIPOLYGON (((-3101331.947 3297711.561, -310...</td>\n",
       "      <td>None</td>\n",
       "    </tr>\n",
       "    <tr>\n",
       "      <th>2366</th>\n",
       "      <td>Бондарский район</td>\n",
       "      <td>NaN</td>\n",
       "      <td>ru:Бондарский район</td>\n",
       "      <td>MULTIPOLYGON (((-3065568.009 3280013.912, -306...</td>\n",
       "      <td>None</td>\n",
       "    </tr>\n",
       "  </tbody>\n",
       "</table>\n",
       "<p>2367 rows × 5 columns</p>\n",
       "</div>"
      ],
      "text/plain": [
       "                     name            name__ru  \\\n",
       "0      Селенгинский район  Селенгинский район   \n",
       "1         Хоринский район     Хоринский район   \n",
       "2      Курумканский район  Курумканский район   \n",
       "3       Брюховецкий район   Брюховецкий район   \n",
       "4        Павловский район    Павловский район   \n",
       "...                   ...                 ...   \n",
       "2362               Тамбов                 NaN   \n",
       "2363  Рассказовский район                 NaN   \n",
       "2364     Сосновский район                 NaN   \n",
       "2365     Тамбовский район                 NaN   \n",
       "2366     Бондарский район                 NaN   \n",
       "\n",
       "                                     wikipedia  \\\n",
       "0                        ru:Селенгинский район   \n",
       "1                           ru:Хоринский район   \n",
       "2                        ru:Курумканский район   \n",
       "3                         ru:Брюховецкий район   \n",
       "4     ru:Павловский район (Краснодарский край)   \n",
       "...                                        ...   \n",
       "2362                                 ru:Тамбов   \n",
       "2363                    ru:Рассказовский район   \n",
       "2364  ru:Сосновский район (Тамбовская область)   \n",
       "2365  ru:Тамбовский район (Тамбовская область)   \n",
       "2366                       ru:Бондарский район   \n",
       "\n",
       "                                               geometry   dst  \n",
       "0     MULTIPOLYGON (((772911.849 2183926.259, 770829...  None  \n",
       "1     MULTIPOLYGON (((975660.756 2392376.746, 968958...  None  \n",
       "2     MULTIPOLYGON (((1006551.636 2652187.027, 10017...  None  \n",
       "3     MULTIPOLYGON (((-3642267.062 2820599.306, -364...  None  \n",
       "4     MULTIPOLYGON (((-3583010.429 2801858.794, -358...  None  \n",
       "...                                                 ...   ...  \n",
       "2362  MULTIPOLYGON (((-3124307.505 3303042.861, -312...  None  \n",
       "2363  MULTIPOLYGON (((-3081265.438 3272682.587, -308...  None  \n",
       "2364  MULTIPOLYGON (((-3079943.869 3330265.964, -308...  None  \n",
       "2365  MULTIPOLYGON (((-3101331.947 3297711.561, -310...  None  \n",
       "2366  MULTIPOLYGON (((-3065568.009 3280013.912, -306...  None  \n",
       "\n",
       "[2367 rows x 5 columns]"
      ]
     },
     "execution_count": 38,
     "metadata": {},
     "output_type": "execute_result"
    }
   ],
   "source": [
    "all_ru_regions"
   ]
  },
  {
   "cell_type": "code",
   "execution_count": 39,
   "id": "228660e4",
   "metadata": {
    "ExecuteTime": {
     "end_time": "2023-05-23T05:12:01.803979Z",
     "start_time": "2023-05-23T05:12:01.797157Z"
    }
   },
   "outputs": [
    {
     "data": {
      "text/html": [
       "<div>\n",
       "<style scoped>\n",
       "    .dataframe tbody tr th:only-of-type {\n",
       "        vertical-align: middle;\n",
       "    }\n",
       "\n",
       "    .dataframe tbody tr th {\n",
       "        vertical-align: top;\n",
       "    }\n",
       "\n",
       "    .dataframe thead th {\n",
       "        text-align: right;\n",
       "    }\n",
       "</style>\n",
       "<table border=\"1\" class=\"dataframe\">\n",
       "  <thead>\n",
       "    <tr style=\"text-align: right;\">\n",
       "      <th></th>\n",
       "      <th>name</th>\n",
       "      <th>reg</th>\n",
       "      <th>dst</th>\n",
       "    </tr>\n",
       "  </thead>\n",
       "  <tbody>\n",
       "    <tr>\n",
       "      <th>0</th>\n",
       "      <td>Облученский район</td>\n",
       "      <td>79</td>\n",
       "      <td>5</td>\n",
       "    </tr>\n",
       "    <tr>\n",
       "      <th>1</th>\n",
       "      <td>Биробиджанский район</td>\n",
       "      <td>79</td>\n",
       "      <td>4</td>\n",
       "    </tr>\n",
       "    <tr>\n",
       "      <th>2</th>\n",
       "      <td>Октябрьский район</td>\n",
       "      <td>79</td>\n",
       "      <td>2</td>\n",
       "    </tr>\n",
       "    <tr>\n",
       "      <th>3</th>\n",
       "      <td>Смидовичский район</td>\n",
       "      <td>79</td>\n",
       "      <td>6</td>\n",
       "    </tr>\n",
       "    <tr>\n",
       "      <th>4</th>\n",
       "      <td>Биробиджан</td>\n",
       "      <td>79</td>\n",
       "      <td>1</td>\n",
       "    </tr>\n",
       "    <tr>\n",
       "      <th>...</th>\n",
       "      <td>...</td>\n",
       "      <td>...</td>\n",
       "      <td>...</td>\n",
       "    </tr>\n",
       "    <tr>\n",
       "      <th>2617</th>\n",
       "      <td>Гавриловский район</td>\n",
       "      <td>68</td>\n",
       "      <td>2</td>\n",
       "    </tr>\n",
       "    <tr>\n",
       "      <th>2618</th>\n",
       "      <td>Жердевский район</td>\n",
       "      <td>68</td>\n",
       "      <td>3</td>\n",
       "    </tr>\n",
       "    <tr>\n",
       "      <th>2619</th>\n",
       "      <td>Староюрьевский район</td>\n",
       "      <td>68</td>\n",
       "      <td>19</td>\n",
       "    </tr>\n",
       "    <tr>\n",
       "      <th>2620</th>\n",
       "      <td>Ржаксинский район</td>\n",
       "      <td>68</td>\n",
       "      <td>16</td>\n",
       "    </tr>\n",
       "    <tr>\n",
       "      <th>2621</th>\n",
       "      <td>Бондарский район</td>\n",
       "      <td>68</td>\n",
       "      <td>1</td>\n",
       "    </tr>\n",
       "  </tbody>\n",
       "</table>\n",
       "<p>2622 rows × 3 columns</p>\n",
       "</div>"
      ],
      "text/plain": [
       "                      name  reg  dst\n",
       "0        Облученский район   79    5\n",
       "1     Биробиджанский район   79    4\n",
       "2        Октябрьский район   79    2\n",
       "3       Смидовичский район   79    6\n",
       "4               Биробиджан   79    1\n",
       "...                    ...  ...  ...\n",
       "2617    Гавриловский район   68    2\n",
       "2618      Жердевский район   68    3\n",
       "2619  Староюрьевский район   68   19\n",
       "2620     Ржаксинский район   68   16\n",
       "2621      Бондарский район   68    1\n",
       "\n",
       "[2622 rows x 3 columns]"
      ]
     },
     "execution_count": 39,
     "metadata": {},
     "output_type": "execute_result"
    }
   ],
   "source": [
    "all_kads_df"
   ]
  },
  {
   "cell_type": "markdown",
   "id": "eab14198",
   "metadata": {},
   "source": [
    "# соединение кадастровых номеров с картой "
   ]
  },
  {
   "cell_type": "markdown",
   "id": "ca810ca8",
   "metadata": {},
   "source": [
    "# ru map convert"
   ]
  },
  {
   "cell_type": "code",
   "execution_count": 40,
   "id": "651b3467",
   "metadata": {
    "ExecuteTime": {
     "end_time": "2023-05-23T05:12:07.086399Z",
     "start_time": "2023-05-23T05:12:07.082251Z"
    }
   },
   "outputs": [],
   "source": [
    "map_name = ru_map['name_ru'].unique().tolist()"
   ]
  },
  {
   "cell_type": "code",
   "execution_count": 41,
   "id": "d42b70f2",
   "metadata": {
    "ExecuteTime": {
     "end_time": "2023-05-23T05:12:07.438623Z",
     "start_time": "2023-05-23T05:12:07.435039Z"
    }
   },
   "outputs": [],
   "source": [
    "list_name = all_regs_df['name'].unique().tolist()"
   ]
  },
  {
   "cell_type": "code",
   "execution_count": 42,
   "id": "7b8de05d",
   "metadata": {
    "ExecuteTime": {
     "end_time": "2023-05-23T05:12:07.862861Z",
     "start_time": "2023-05-23T05:12:07.852900Z"
    }
   },
   "outputs": [
    {
     "data": {
      "text/plain": [
       "['Еврейская автономная область',\n",
       " 'Ямало-Ненецкий автономный округ',\n",
       " 'Республика Алтай',\n",
       " 'Ханты-Мансийский автономный округ']"
      ]
     },
     "execution_count": 42,
     "metadata": {},
     "output_type": "execute_result"
    }
   ],
   "source": [
    "list(set(map_name) - set(list_name))"
   ]
  },
  {
   "cell_type": "code",
   "execution_count": 43,
   "id": "6de9b337",
   "metadata": {
    "ExecuteTime": {
     "end_time": "2023-05-23T05:12:08.941370Z",
     "start_time": "2023-05-23T05:12:08.932138Z"
    }
   },
   "outputs": [
    {
     "data": {
      "text/plain": [
       "['Ямало-Ненецкий АО', 'Алтай', 'Ханты-Мансийский АО']"
      ]
     },
     "execution_count": 43,
     "metadata": {},
     "output_type": "execute_result"
    }
   ],
   "source": [
    "list(set(list_name) - set(map_name))"
   ]
  },
  {
   "cell_type": "code",
   "execution_count": 44,
   "id": "4303751d",
   "metadata": {
    "ExecuteTime": {
     "end_time": "2023-05-23T05:12:43.583174Z",
     "start_time": "2023-05-23T05:12:18.070019Z"
    }
   },
   "outputs": [
    {
     "name": "stdout",
     "output_type": "stream",
     "text": [
      "Еврейская автономная область\n",
      "введи замену\n",
      "Еврейская АО\n",
      "Ямало-Ненецкий автономный округ\n",
      "введи замену\n",
      "Ямало-Ненецкий АО\n",
      "Республика Алтай\n",
      "введи замену\n",
      "Алтай\n",
      "Ханты-Мансийский автономный округ\n",
      "введи замену\n",
      "Ханты-Мансийский АО\n"
     ]
    }
   ],
   "source": [
    "# переименовал небьющиеся регионы\n",
    "for i in list(set(map_name) - set(list_name)):\n",
    "    print(i)\n",
    "    ru_map['temp_bool'] = ru_map.name_ru.apply(lambda x: x == i)\n",
    "    print('введи замену')\n",
    "    asd = input()\n",
    "    ru_map.iloc[ru_map[ru_map['temp_bool']]['name_ru'].index, 0] = asd"
   ]
  },
  {
   "cell_type": "code",
   "execution_count": 45,
   "id": "bed2de16",
   "metadata": {
    "ExecuteTime": {
     "end_time": "2023-05-23T05:12:46.707230Z",
     "start_time": "2023-05-23T05:12:46.702431Z"
    }
   },
   "outputs": [],
   "source": [
    "ru_map.drop(columns=['temp_bool'], inplace=True)"
   ]
  },
  {
   "cell_type": "code",
   "execution_count": 46,
   "id": "7530a3e2",
   "metadata": {
    "ExecuteTime": {
     "end_time": "2023-05-23T05:12:49.281057Z",
     "start_time": "2023-05-23T05:12:49.273329Z"
    }
   },
   "outputs": [],
   "source": [
    "ru_map_reg = ru_map.set_index('name_ru').join(all_regs_df.set_index('name')).reset_index()"
   ]
  },
  {
   "cell_type": "code",
   "execution_count": 47,
   "id": "c7c11e2d",
   "metadata": {
    "ExecuteTime": {
     "end_time": "2023-05-23T05:12:49.820546Z",
     "start_time": "2023-05-23T05:12:49.796548Z"
    }
   },
   "outputs": [
    {
     "data": {
      "text/html": [
       "<div>\n",
       "<style scoped>\n",
       "    .dataframe tbody tr th:only-of-type {\n",
       "        vertical-align: middle;\n",
       "    }\n",
       "\n",
       "    .dataframe tbody tr th {\n",
       "        vertical-align: top;\n",
       "    }\n",
       "\n",
       "    .dataframe thead th {\n",
       "        text-align: right;\n",
       "    }\n",
       "</style>\n",
       "<table border=\"1\" class=\"dataframe\">\n",
       "  <thead>\n",
       "    <tr style=\"text-align: right;\">\n",
       "      <th></th>\n",
       "      <th>name_ru</th>\n",
       "      <th>name_en</th>\n",
       "      <th>federal_district</th>\n",
       "      <th>count_osm</th>\n",
       "      <th>count_mapbox</th>\n",
       "      <th>mapbox_img_2019_2020_pct</th>\n",
       "      <th>ratio_mapbox_osm</th>\n",
       "      <th>updated</th>\n",
       "      <th>geometry</th>\n",
       "      <th>area</th>\n",
       "      <th>reg</th>\n",
       "    </tr>\n",
       "  </thead>\n",
       "  <tbody>\n",
       "    <tr>\n",
       "      <th>34</th>\n",
       "      <td>Еврейская АО</td>\n",
       "      <td>Jewish autonomous oblast</td>\n",
       "      <td>Дальневосточный</td>\n",
       "      <td>16702</td>\n",
       "      <td>21981</td>\n",
       "      <td>16.792118</td>\n",
       "      <td>1.31607</td>\n",
       "      <td>NaN</td>\n",
       "      <td>MULTIPOLYGON (((2320683.203 2366197.542, 23212...</td>\n",
       "      <td>2.971101e+10</td>\n",
       "      <td>NaN</td>\n",
       "    </tr>\n",
       "  </tbody>\n",
       "</table>\n",
       "</div>"
      ],
      "text/plain": [
       "         name_ru                   name_en federal_district  count_osm  \\\n",
       "34  Еврейская АО  Jewish autonomous oblast  Дальневосточный      16702   \n",
       "\n",
       "    count_mapbox  mapbox_img_2019_2020_pct  ratio_mapbox_osm updated  \\\n",
       "34         21981                 16.792118           1.31607     NaN   \n",
       "\n",
       "                                             geometry          area  reg  \n",
       "34  MULTIPOLYGON (((2320683.203 2366197.542, 23212...  2.971101e+10  NaN  "
      ]
     },
     "execution_count": 47,
     "metadata": {},
     "output_type": "execute_result"
    }
   ],
   "source": [
    "ru_map_reg[ru_map_reg.reg.isna()]"
   ]
  },
  {
   "cell_type": "code",
   "execution_count": 48,
   "id": "b7209fc1",
   "metadata": {
    "ExecuteTime": {
     "end_time": "2023-05-23T05:12:53.717982Z",
     "start_time": "2023-05-23T05:12:53.714320Z"
    }
   },
   "outputs": [],
   "source": [
    "ru_map_reg.iloc[34,-1] = 79"
   ]
  },
  {
   "cell_type": "code",
   "execution_count": 49,
   "id": "525eab76",
   "metadata": {
    "ExecuteTime": {
     "end_time": "2023-05-23T05:12:56.936008Z",
     "start_time": "2023-05-23T05:12:56.216877Z"
    }
   },
   "outputs": [],
   "source": [
    "ru_map_reg.to_csv('map_data/ru_regions_new.csv', index=None)"
   ]
  },
  {
   "cell_type": "code",
   "execution_count": 50,
   "id": "3d6b8cf0",
   "metadata": {
    "ExecuteTime": {
     "end_time": "2023-05-23T05:13:03.121386Z",
     "start_time": "2023-05-23T05:13:02.808577Z"
    }
   },
   "outputs": [],
   "source": [
    "ru_map_reg = pd.read_csv('map_data/ru_regions_new.csv')"
   ]
  },
  {
   "cell_type": "code",
   "execution_count": 51,
   "id": "ec5ac849",
   "metadata": {
    "ExecuteTime": {
     "end_time": "2023-05-23T05:13:04.431213Z",
     "start_time": "2023-05-23T05:13:04.414654Z"
    }
   },
   "outputs": [
    {
     "data": {
      "text/html": [
       "<div>\n",
       "<style scoped>\n",
       "    .dataframe tbody tr th:only-of-type {\n",
       "        vertical-align: middle;\n",
       "    }\n",
       "\n",
       "    .dataframe tbody tr th {\n",
       "        vertical-align: top;\n",
       "    }\n",
       "\n",
       "    .dataframe thead th {\n",
       "        text-align: right;\n",
       "    }\n",
       "</style>\n",
       "<table border=\"1\" class=\"dataframe\">\n",
       "  <thead>\n",
       "    <tr style=\"text-align: right;\">\n",
       "      <th></th>\n",
       "      <th>name_ru</th>\n",
       "      <th>name_en</th>\n",
       "      <th>federal_district</th>\n",
       "      <th>count_osm</th>\n",
       "      <th>count_mapbox</th>\n",
       "      <th>mapbox_img_2019_2020_pct</th>\n",
       "      <th>ratio_mapbox_osm</th>\n",
       "      <th>updated</th>\n",
       "      <th>geometry</th>\n",
       "      <th>area</th>\n",
       "      <th>reg</th>\n",
       "    </tr>\n",
       "  </thead>\n",
       "  <tbody>\n",
       "    <tr>\n",
       "      <th>0</th>\n",
       "      <td>Пензенская область</td>\n",
       "      <td>Penza oblast</td>\n",
       "      <td>Приволжский</td>\n",
       "      <td>255374</td>\n",
       "      <td>300161</td>\n",
       "      <td>34.255814</td>\n",
       "      <td>1.175380</td>\n",
       "      <td>NaN</td>\n",
       "      <td>MULTIPOLYGON (((-3034722.148410227 3368565.972...</td>\n",
       "      <td>3.706563e+10</td>\n",
       "      <td>58</td>\n",
       "    </tr>\n",
       "    <tr>\n",
       "      <th>1</th>\n",
       "      <td>Саратовская область</td>\n",
       "      <td>Saratov oblast</td>\n",
       "      <td>Приволжский</td>\n",
       "      <td>491455</td>\n",
       "      <td>601512</td>\n",
       "      <td>41.771953</td>\n",
       "      <td>1.223940</td>\n",
       "      <td>NaN</td>\n",
       "      <td>MULTIPOLYGON (((-3136095.832603514 3178595.471...</td>\n",
       "      <td>8.545637e+10</td>\n",
       "      <td>64</td>\n",
       "    </tr>\n",
       "    <tr>\n",
       "      <th>2</th>\n",
       "      <td>Мордовия</td>\n",
       "      <td>Mordovia</td>\n",
       "      <td>Приволжский</td>\n",
       "      <td>191140</td>\n",
       "      <td>191942</td>\n",
       "      <td>81.121859</td>\n",
       "      <td>1.004200</td>\n",
       "      <td>NaN</td>\n",
       "      <td>MULTIPOLYGON (((-3000292.4874718864 3408729.33...</td>\n",
       "      <td>2.256968e+10</td>\n",
       "      <td>13</td>\n",
       "    </tr>\n",
       "    <tr>\n",
       "      <th>3</th>\n",
       "      <td>Тамбовская область</td>\n",
       "      <td>Tambov oblast</td>\n",
       "      <td>Центральный</td>\n",
       "      <td>240795</td>\n",
       "      <td>184504</td>\n",
       "      <td>58.284703</td>\n",
       "      <td>0.766229</td>\n",
       "      <td>NaN</td>\n",
       "      <td>MULTIPOLYGON (((-3205780.449216651 3360578.790...</td>\n",
       "      <td>2.933953e+10</td>\n",
       "      <td>68</td>\n",
       "    </tr>\n",
       "    <tr>\n",
       "      <th>4</th>\n",
       "      <td>Рязанская область</td>\n",
       "      <td>Ryazan Oblast</td>\n",
       "      <td>Центральный</td>\n",
       "      <td>135783</td>\n",
       "      <td>238589</td>\n",
       "      <td>87.324990</td>\n",
       "      <td>1.757130</td>\n",
       "      <td>NaN</td>\n",
       "      <td>MULTIPOLYGON (((-3170823.903206058 3534078.607...</td>\n",
       "      <td>3.427317e+10</td>\n",
       "      <td>62</td>\n",
       "    </tr>\n",
       "    <tr>\n",
       "      <th>...</th>\n",
       "      <td>...</td>\n",
       "      <td>...</td>\n",
       "      <td>...</td>\n",
       "      <td>...</td>\n",
       "      <td>...</td>\n",
       "      <td>...</td>\n",
       "      <td>...</td>\n",
       "      <td>...</td>\n",
       "      <td>...</td>\n",
       "      <td>...</td>\n",
       "      <td>...</td>\n",
       "    </tr>\n",
       "    <tr>\n",
       "      <th>80</th>\n",
       "      <td>Ивановская область</td>\n",
       "      <td>Ivanovo oblast</td>\n",
       "      <td>Центральный</td>\n",
       "      <td>88559</td>\n",
       "      <td>194870</td>\n",
       "      <td>88.912088</td>\n",
       "      <td>2.200450</td>\n",
       "      <td>NaN</td>\n",
       "      <td>MULTIPOLYGON (((-2976095.236404902 3720906.910...</td>\n",
       "      <td>1.918202e+10</td>\n",
       "      <td>37</td>\n",
       "    </tr>\n",
       "    <tr>\n",
       "      <th>81</th>\n",
       "      <td>Костромская область</td>\n",
       "      <td>Kostroma oblast</td>\n",
       "      <td>Центральный</td>\n",
       "      <td>77873</td>\n",
       "      <td>135149</td>\n",
       "      <td>43.502731</td>\n",
       "      <td>1.735510</td>\n",
       "      <td>NaN</td>\n",
       "      <td>MULTIPOLYGON (((-2893325.6717919535 3734902.94...</td>\n",
       "      <td>5.430535e+10</td>\n",
       "      <td>44</td>\n",
       "    </tr>\n",
       "    <tr>\n",
       "      <th>82</th>\n",
       "      <td>Марий Эл</td>\n",
       "      <td>Mari El</td>\n",
       "      <td>Приволжский</td>\n",
       "      <td>152951</td>\n",
       "      <td>183194</td>\n",
       "      <td>92.948044</td>\n",
       "      <td>1.197730</td>\n",
       "      <td>NaN</td>\n",
       "      <td>MULTIPOLYGON (((-2699463.0299782963 3488398.11...</td>\n",
       "      <td>2.062989e+10</td>\n",
       "      <td>12</td>\n",
       "    </tr>\n",
       "    <tr>\n",
       "      <th>83</th>\n",
       "      <td>Магаданская область</td>\n",
       "      <td>Magadan oblast</td>\n",
       "      <td>Дальневосточный</td>\n",
       "      <td>9940</td>\n",
       "      <td>13626</td>\n",
       "      <td>47.188903</td>\n",
       "      <td>1.370820</td>\n",
       "      <td>NaN</td>\n",
       "      <td>MULTIPOLYGON (((2997902.5421598535 4430646.893...</td>\n",
       "      <td>4.436866e+11</td>\n",
       "      <td>49</td>\n",
       "    </tr>\n",
       "    <tr>\n",
       "      <th>84</th>\n",
       "      <td>Калмыкия</td>\n",
       "      <td>Kalmykia</td>\n",
       "      <td>Южный</td>\n",
       "      <td>29154</td>\n",
       "      <td>62613</td>\n",
       "      <td>68.444393</td>\n",
       "      <td>2.147660</td>\n",
       "      <td>NaN</td>\n",
       "      <td>MULTIPOLYGON (((-3505033.3718655026 2757342.88...</td>\n",
       "      <td>5.760623e+10</td>\n",
       "      <td>8</td>\n",
       "    </tr>\n",
       "  </tbody>\n",
       "</table>\n",
       "<p>85 rows × 11 columns</p>\n",
       "</div>"
      ],
      "text/plain": [
       "                name_ru          name_en federal_district  count_osm  \\\n",
       "0    Пензенская область     Penza oblast      Приволжский     255374   \n",
       "1   Саратовская область   Saratov oblast      Приволжский     491455   \n",
       "2              Мордовия         Mordovia      Приволжский     191140   \n",
       "3    Тамбовская область    Tambov oblast      Центральный     240795   \n",
       "4     Рязанская область    Ryazan Oblast      Центральный     135783   \n",
       "..                  ...              ...              ...        ...   \n",
       "80   Ивановская область   Ivanovo oblast      Центральный      88559   \n",
       "81  Костромская область  Kostroma oblast      Центральный      77873   \n",
       "82             Марий Эл          Mari El      Приволжский     152951   \n",
       "83  Магаданская область   Magadan oblast  Дальневосточный       9940   \n",
       "84             Калмыкия         Kalmykia            Южный      29154   \n",
       "\n",
       "    count_mapbox  mapbox_img_2019_2020_pct  ratio_mapbox_osm updated  \\\n",
       "0         300161                 34.255814          1.175380     NaN   \n",
       "1         601512                 41.771953          1.223940     NaN   \n",
       "2         191942                 81.121859          1.004200     NaN   \n",
       "3         184504                 58.284703          0.766229     NaN   \n",
       "4         238589                 87.324990          1.757130     NaN   \n",
       "..           ...                       ...               ...     ...   \n",
       "80        194870                 88.912088          2.200450     NaN   \n",
       "81        135149                 43.502731          1.735510     NaN   \n",
       "82        183194                 92.948044          1.197730     NaN   \n",
       "83         13626                 47.188903          1.370820     NaN   \n",
       "84         62613                 68.444393          2.147660     NaN   \n",
       "\n",
       "                                             geometry          area  reg  \n",
       "0   MULTIPOLYGON (((-3034722.148410227 3368565.972...  3.706563e+10   58  \n",
       "1   MULTIPOLYGON (((-3136095.832603514 3178595.471...  8.545637e+10   64  \n",
       "2   MULTIPOLYGON (((-3000292.4874718864 3408729.33...  2.256968e+10   13  \n",
       "3   MULTIPOLYGON (((-3205780.449216651 3360578.790...  2.933953e+10   68  \n",
       "4   MULTIPOLYGON (((-3170823.903206058 3534078.607...  3.427317e+10   62  \n",
       "..                                                ...           ...  ...  \n",
       "80  MULTIPOLYGON (((-2976095.236404902 3720906.910...  1.918202e+10   37  \n",
       "81  MULTIPOLYGON (((-2893325.6717919535 3734902.94...  5.430535e+10   44  \n",
       "82  MULTIPOLYGON (((-2699463.0299782963 3488398.11...  2.062989e+10   12  \n",
       "83  MULTIPOLYGON (((2997902.5421598535 4430646.893...  4.436866e+11   49  \n",
       "84  MULTIPOLYGON (((-3505033.3718655026 2757342.88...  5.760623e+10    8  \n",
       "\n",
       "[85 rows x 11 columns]"
      ]
     },
     "execution_count": 51,
     "metadata": {},
     "output_type": "execute_result"
    }
   ],
   "source": [
    "ru_map_reg"
   ]
  },
  {
   "cell_type": "code",
   "execution_count": 52,
   "id": "b97dca26",
   "metadata": {
    "ExecuteTime": {
     "end_time": "2023-05-23T05:13:40.892414Z",
     "start_time": "2023-05-23T05:13:40.358757Z"
    }
   },
   "outputs": [],
   "source": [
    "ru_map_reg = gpd.GeoDataFrame(ru_map_reg, geometry=wkt.loads(ru_map_reg.geometry), crs='ESRI:102027')"
   ]
  },
  {
   "cell_type": "code",
   "execution_count": 53,
   "id": "39442b98",
   "metadata": {
    "ExecuteTime": {
     "end_time": "2023-05-23T05:13:42.439515Z",
     "start_time": "2023-05-23T05:13:42.147142Z"
    }
   },
   "outputs": [
    {
     "data": {
      "text/html": [
       "<div>\n",
       "<style scoped>\n",
       "    .dataframe tbody tr th:only-of-type {\n",
       "        vertical-align: middle;\n",
       "    }\n",
       "\n",
       "    .dataframe tbody tr th {\n",
       "        vertical-align: top;\n",
       "    }\n",
       "\n",
       "    .dataframe thead th {\n",
       "        text-align: right;\n",
       "    }\n",
       "</style>\n",
       "<table border=\"1\" class=\"dataframe\">\n",
       "  <thead>\n",
       "    <tr style=\"text-align: right;\">\n",
       "      <th></th>\n",
       "      <th>name_ru</th>\n",
       "      <th>name_en</th>\n",
       "      <th>federal_district</th>\n",
       "      <th>count_osm</th>\n",
       "      <th>count_mapbox</th>\n",
       "      <th>mapbox_img_2019_2020_pct</th>\n",
       "      <th>ratio_mapbox_osm</th>\n",
       "      <th>updated</th>\n",
       "      <th>geometry</th>\n",
       "      <th>area</th>\n",
       "      <th>reg</th>\n",
       "    </tr>\n",
       "  </thead>\n",
       "  <tbody>\n",
       "    <tr>\n",
       "      <th>0</th>\n",
       "      <td>Пензенская область</td>\n",
       "      <td>Penza oblast</td>\n",
       "      <td>Приволжский</td>\n",
       "      <td>255374</td>\n",
       "      <td>300161</td>\n",
       "      <td>34.255814</td>\n",
       "      <td>1.175380</td>\n",
       "      <td>NaN</td>\n",
       "      <td>MULTIPOLYGON (((-3034722.148 3368565.973, -303...</td>\n",
       "      <td>3.706563e+10</td>\n",
       "      <td>58</td>\n",
       "    </tr>\n",
       "    <tr>\n",
       "      <th>1</th>\n",
       "      <td>Саратовская область</td>\n",
       "      <td>Saratov oblast</td>\n",
       "      <td>Приволжский</td>\n",
       "      <td>491455</td>\n",
       "      <td>601512</td>\n",
       "      <td>41.771953</td>\n",
       "      <td>1.223940</td>\n",
       "      <td>NaN</td>\n",
       "      <td>MULTIPOLYGON (((-3136095.833 3178595.472, -313...</td>\n",
       "      <td>8.545637e+10</td>\n",
       "      <td>64</td>\n",
       "    </tr>\n",
       "    <tr>\n",
       "      <th>2</th>\n",
       "      <td>Мордовия</td>\n",
       "      <td>Mordovia</td>\n",
       "      <td>Приволжский</td>\n",
       "      <td>191140</td>\n",
       "      <td>191942</td>\n",
       "      <td>81.121859</td>\n",
       "      <td>1.004200</td>\n",
       "      <td>NaN</td>\n",
       "      <td>MULTIPOLYGON (((-3000292.487 3408729.339, -300...</td>\n",
       "      <td>2.256968e+10</td>\n",
       "      <td>13</td>\n",
       "    </tr>\n",
       "    <tr>\n",
       "      <th>3</th>\n",
       "      <td>Тамбовская область</td>\n",
       "      <td>Tambov oblast</td>\n",
       "      <td>Центральный</td>\n",
       "      <td>240795</td>\n",
       "      <td>184504</td>\n",
       "      <td>58.284703</td>\n",
       "      <td>0.766229</td>\n",
       "      <td>NaN</td>\n",
       "      <td>MULTIPOLYGON (((-3205780.449 3360578.790, -320...</td>\n",
       "      <td>2.933953e+10</td>\n",
       "      <td>68</td>\n",
       "    </tr>\n",
       "    <tr>\n",
       "      <th>4</th>\n",
       "      <td>Рязанская область</td>\n",
       "      <td>Ryazan Oblast</td>\n",
       "      <td>Центральный</td>\n",
       "      <td>135783</td>\n",
       "      <td>238589</td>\n",
       "      <td>87.324990</td>\n",
       "      <td>1.757130</td>\n",
       "      <td>NaN</td>\n",
       "      <td>MULTIPOLYGON (((-3170823.903 3534078.608, -317...</td>\n",
       "      <td>3.427317e+10</td>\n",
       "      <td>62</td>\n",
       "    </tr>\n",
       "    <tr>\n",
       "      <th>...</th>\n",
       "      <td>...</td>\n",
       "      <td>...</td>\n",
       "      <td>...</td>\n",
       "      <td>...</td>\n",
       "      <td>...</td>\n",
       "      <td>...</td>\n",
       "      <td>...</td>\n",
       "      <td>...</td>\n",
       "      <td>...</td>\n",
       "      <td>...</td>\n",
       "      <td>...</td>\n",
       "    </tr>\n",
       "    <tr>\n",
       "      <th>80</th>\n",
       "      <td>Ивановская область</td>\n",
       "      <td>Ivanovo oblast</td>\n",
       "      <td>Центральный</td>\n",
       "      <td>88559</td>\n",
       "      <td>194870</td>\n",
       "      <td>88.912088</td>\n",
       "      <td>2.200450</td>\n",
       "      <td>NaN</td>\n",
       "      <td>MULTIPOLYGON (((-2976095.236 3720906.910, -297...</td>\n",
       "      <td>1.918202e+10</td>\n",
       "      <td>37</td>\n",
       "    </tr>\n",
       "    <tr>\n",
       "      <th>81</th>\n",
       "      <td>Костромская область</td>\n",
       "      <td>Kostroma oblast</td>\n",
       "      <td>Центральный</td>\n",
       "      <td>77873</td>\n",
       "      <td>135149</td>\n",
       "      <td>43.502731</td>\n",
       "      <td>1.735510</td>\n",
       "      <td>NaN</td>\n",
       "      <td>MULTIPOLYGON (((-2893325.672 3734902.940, -289...</td>\n",
       "      <td>5.430535e+10</td>\n",
       "      <td>44</td>\n",
       "    </tr>\n",
       "    <tr>\n",
       "      <th>82</th>\n",
       "      <td>Марий Эл</td>\n",
       "      <td>Mari El</td>\n",
       "      <td>Приволжский</td>\n",
       "      <td>152951</td>\n",
       "      <td>183194</td>\n",
       "      <td>92.948044</td>\n",
       "      <td>1.197730</td>\n",
       "      <td>NaN</td>\n",
       "      <td>MULTIPOLYGON (((-2699463.030 3488398.120, -269...</td>\n",
       "      <td>2.062989e+10</td>\n",
       "      <td>12</td>\n",
       "    </tr>\n",
       "    <tr>\n",
       "      <th>83</th>\n",
       "      <td>Магаданская область</td>\n",
       "      <td>Magadan oblast</td>\n",
       "      <td>Дальневосточный</td>\n",
       "      <td>9940</td>\n",
       "      <td>13626</td>\n",
       "      <td>47.188903</td>\n",
       "      <td>1.370820</td>\n",
       "      <td>NaN</td>\n",
       "      <td>MULTIPOLYGON (((2997902.542 4430646.893, 29979...</td>\n",
       "      <td>4.436866e+11</td>\n",
       "      <td>49</td>\n",
       "    </tr>\n",
       "    <tr>\n",
       "      <th>84</th>\n",
       "      <td>Калмыкия</td>\n",
       "      <td>Kalmykia</td>\n",
       "      <td>Южный</td>\n",
       "      <td>29154</td>\n",
       "      <td>62613</td>\n",
       "      <td>68.444393</td>\n",
       "      <td>2.147660</td>\n",
       "      <td>NaN</td>\n",
       "      <td>MULTIPOLYGON (((-3505033.372 2757342.881, -350...</td>\n",
       "      <td>5.760623e+10</td>\n",
       "      <td>8</td>\n",
       "    </tr>\n",
       "  </tbody>\n",
       "</table>\n",
       "<p>85 rows × 11 columns</p>\n",
       "</div>"
      ],
      "text/plain": [
       "                name_ru          name_en federal_district  count_osm  \\\n",
       "0    Пензенская область     Penza oblast      Приволжский     255374   \n",
       "1   Саратовская область   Saratov oblast      Приволжский     491455   \n",
       "2              Мордовия         Mordovia      Приволжский     191140   \n",
       "3    Тамбовская область    Tambov oblast      Центральный     240795   \n",
       "4     Рязанская область    Ryazan Oblast      Центральный     135783   \n",
       "..                  ...              ...              ...        ...   \n",
       "80   Ивановская область   Ivanovo oblast      Центральный      88559   \n",
       "81  Костромская область  Kostroma oblast      Центральный      77873   \n",
       "82             Марий Эл          Mari El      Приволжский     152951   \n",
       "83  Магаданская область   Magadan oblast  Дальневосточный       9940   \n",
       "84             Калмыкия         Kalmykia            Южный      29154   \n",
       "\n",
       "    count_mapbox  mapbox_img_2019_2020_pct  ratio_mapbox_osm updated  \\\n",
       "0         300161                 34.255814          1.175380     NaN   \n",
       "1         601512                 41.771953          1.223940     NaN   \n",
       "2         191942                 81.121859          1.004200     NaN   \n",
       "3         184504                 58.284703          0.766229     NaN   \n",
       "4         238589                 87.324990          1.757130     NaN   \n",
       "..           ...                       ...               ...     ...   \n",
       "80        194870                 88.912088          2.200450     NaN   \n",
       "81        135149                 43.502731          1.735510     NaN   \n",
       "82        183194                 92.948044          1.197730     NaN   \n",
       "83         13626                 47.188903          1.370820     NaN   \n",
       "84         62613                 68.444393          2.147660     NaN   \n",
       "\n",
       "                                             geometry          area  reg  \n",
       "0   MULTIPOLYGON (((-3034722.148 3368565.973, -303...  3.706563e+10   58  \n",
       "1   MULTIPOLYGON (((-3136095.833 3178595.472, -313...  8.545637e+10   64  \n",
       "2   MULTIPOLYGON (((-3000292.487 3408729.339, -300...  2.256968e+10   13  \n",
       "3   MULTIPOLYGON (((-3205780.449 3360578.790, -320...  2.933953e+10   68  \n",
       "4   MULTIPOLYGON (((-3170823.903 3534078.608, -317...  3.427317e+10   62  \n",
       "..                                                ...           ...  ...  \n",
       "80  MULTIPOLYGON (((-2976095.236 3720906.910, -297...  1.918202e+10   37  \n",
       "81  MULTIPOLYGON (((-2893325.672 3734902.940, -289...  5.430535e+10   44  \n",
       "82  MULTIPOLYGON (((-2699463.030 3488398.120, -269...  2.062989e+10   12  \n",
       "83  MULTIPOLYGON (((2997902.542 4430646.893, 29979...  4.436866e+11   49  \n",
       "84  MULTIPOLYGON (((-3505033.372 2757342.881, -350...  5.760623e+10    8  \n",
       "\n",
       "[85 rows x 11 columns]"
      ]
     },
     "execution_count": 53,
     "metadata": {},
     "output_type": "execute_result"
    }
   ],
   "source": [
    "ru_map_reg"
   ]
  },
  {
   "cell_type": "markdown",
   "id": "88ea5da8",
   "metadata": {},
   "source": [
    "## соединение"
   ]
  },
  {
   "cell_type": "code",
   "execution_count": 54,
   "id": "cef2f452",
   "metadata": {
    "ExecuteTime": {
     "end_time": "2023-05-23T05:13:54.871738Z",
     "start_time": "2023-05-23T05:13:54.865762Z"
    }
   },
   "outputs": [],
   "source": [
    "all_ru_regions = all_ru_regions_exploded.copy()"
   ]
  },
  {
   "cell_type": "code",
   "execution_count": 55,
   "id": "eabb3e8a",
   "metadata": {
    "ExecuteTime": {
     "end_time": "2023-05-23T05:13:54.877319Z",
     "start_time": "2023-05-23T05:13:54.873532Z"
    }
   },
   "outputs": [],
   "source": [
    "all_ru_regions['reg'] = None"
   ]
  },
  {
   "cell_type": "code",
   "execution_count": 56,
   "id": "7ce942b2",
   "metadata": {
    "ExecuteTime": {
     "end_time": "2023-05-23T05:14:01.580168Z",
     "start_time": "2023-05-23T05:14:01.408112Z"
    }
   },
   "outputs": [],
   "source": [
    "all_ru_regions.geometry = all_ru_regions.geometry.scale(xfact=0.5, yfact=0.5, origin='center')"
   ]
  },
  {
   "cell_type": "code",
   "execution_count": 57,
   "id": "da181ed8",
   "metadata": {
    "ExecuteTime": {
     "end_time": "2023-05-23T05:14:25.399070Z",
     "start_time": "2023-05-23T05:14:02.290529Z"
    }
   },
   "outputs": [],
   "source": [
    "for i, all_val in all_ru_regions.iterrows():\n",
    "    cnter = 0\n",
    "    for j, ru_val in ru_map_reg.iterrows():\n",
    "        try:\n",
    "            if ru_val.geometry.contains(all_val.geometry):\n",
    "                all_ru_regions.iloc[i,-1] = ru_val.reg\n",
    "                cnter += 1\n",
    "            else:\n",
    "                pass\n",
    "        except:\n",
    "            print(i, j, 'error')\n",
    "    if cnter > 1:\n",
    "        print(i, j, cnter)\n",
    "        print()"
   ]
  },
  {
   "cell_type": "code",
   "execution_count": 58,
   "id": "e84e62c5",
   "metadata": {
    "ExecuteTime": {
     "end_time": "2023-05-23T05:14:25.430682Z",
     "start_time": "2023-05-23T05:14:25.400071Z"
    }
   },
   "outputs": [
    {
     "data": {
      "text/html": [
       "<div>\n",
       "<style scoped>\n",
       "    .dataframe tbody tr th:only-of-type {\n",
       "        vertical-align: middle;\n",
       "    }\n",
       "\n",
       "    .dataframe tbody tr th {\n",
       "        vertical-align: top;\n",
       "    }\n",
       "\n",
       "    .dataframe thead th {\n",
       "        text-align: right;\n",
       "    }\n",
       "</style>\n",
       "<table border=\"1\" class=\"dataframe\">\n",
       "  <thead>\n",
       "    <tr style=\"text-align: right;\">\n",
       "      <th></th>\n",
       "      <th>name</th>\n",
       "      <th>name__ru</th>\n",
       "      <th>wikipedia</th>\n",
       "      <th>geometry</th>\n",
       "      <th>area</th>\n",
       "      <th>reg</th>\n",
       "    </tr>\n",
       "  </thead>\n",
       "  <tbody>\n",
       "    <tr>\n",
       "      <th>0</th>\n",
       "      <td>Селенгинский район</td>\n",
       "      <td>Селенгинский район</td>\n",
       "      <td>ru:Селенгинский район</td>\n",
       "      <td>POLYGON ((744938.253 2182827.287, 743896.897 2...</td>\n",
       "      <td>6.729938e+09</td>\n",
       "      <td>3</td>\n",
       "    </tr>\n",
       "    <tr>\n",
       "      <th>1</th>\n",
       "      <td>Хоринский район</td>\n",
       "      <td>Хоринский район</td>\n",
       "      <td>ru:Хоринский район</td>\n",
       "      <td>POLYGON ((941875.394 2369781.309, 938524.489 2...</td>\n",
       "      <td>1.216154e+10</td>\n",
       "      <td>3</td>\n",
       "    </tr>\n",
       "    <tr>\n",
       "      <th>2</th>\n",
       "      <td>Курумканский район</td>\n",
       "      <td>Курумканский район</td>\n",
       "      <td>ru:Курумканский район</td>\n",
       "      <td>POLYGON ((979970.143 2625112.487, 977575.355 2...</td>\n",
       "      <td>1.117060e+10</td>\n",
       "      <td>3</td>\n",
       "    </tr>\n",
       "    <tr>\n",
       "      <th>3</th>\n",
       "      <td>Брюховецкий район</td>\n",
       "      <td>Брюховецкий район</td>\n",
       "      <td>ru:Брюховецкий район</td>\n",
       "      <td>POLYGON ((-3656390.883 2829605.816, -3656503.7...</td>\n",
       "      <td>1.132083e+09</td>\n",
       "      <td>23</td>\n",
       "    </tr>\n",
       "    <tr>\n",
       "      <th>4</th>\n",
       "      <td>Павловский район</td>\n",
       "      <td>Павловский район</td>\n",
       "      <td>ru:Павловский район (Краснодарский край)</td>\n",
       "      <td>POLYGON ((-3595906.609 2812435.065, -3596101.2...</td>\n",
       "      <td>1.472633e+09</td>\n",
       "      <td>23</td>\n",
       "    </tr>\n",
       "    <tr>\n",
       "      <th>...</th>\n",
       "      <td>...</td>\n",
       "      <td>...</td>\n",
       "      <td>...</td>\n",
       "      <td>...</td>\n",
       "      <td>...</td>\n",
       "      <td>...</td>\n",
       "    </tr>\n",
       "    <tr>\n",
       "      <th>2360</th>\n",
       "      <td>Тамбов</td>\n",
       "      <td>NaN</td>\n",
       "      <td>ru:Тамбов</td>\n",
       "      <td>POLYGON ((-3126682.555 3305113.619, -3126830.5...</td>\n",
       "      <td>7.601746e+07</td>\n",
       "      <td>68</td>\n",
       "    </tr>\n",
       "    <tr>\n",
       "      <th>2361</th>\n",
       "      <td>Рассказовский район</td>\n",
       "      <td>NaN</td>\n",
       "      <td>ru:Рассказовский район</td>\n",
       "      <td>POLYGON ((-3094356.417 3273058.895, -3094298.3...</td>\n",
       "      <td>1.554211e+09</td>\n",
       "      <td>68</td>\n",
       "    </tr>\n",
       "    <tr>\n",
       "      <th>2362</th>\n",
       "      <td>Сосновский район</td>\n",
       "      <td>NaN</td>\n",
       "      <td>ru:Сосновский район (Тамбовская область)</td>\n",
       "      <td>POLYGON ((-3093953.800 3342204.861, -3095233.2...</td>\n",
       "      <td>2.043358e+09</td>\n",
       "      <td>68</td>\n",
       "    </tr>\n",
       "    <tr>\n",
       "      <th>2363</th>\n",
       "      <td>Тамбовский район</td>\n",
       "      <td>NaN</td>\n",
       "      <td>ru:Тамбовский район (Тамбовская область)</td>\n",
       "      <td>POLYGON ((-3119140.653 3304911.081, -3119421.4...</td>\n",
       "      <td>2.251141e+09</td>\n",
       "      <td>68</td>\n",
       "    </tr>\n",
       "    <tr>\n",
       "      <th>2364</th>\n",
       "      <td>Бондарский район</td>\n",
       "      <td>NaN</td>\n",
       "      <td>ru:Бондарский район</td>\n",
       "      <td>POLYGON ((-3075536.058 3291311.723, -3076033.9...</td>\n",
       "      <td>1.070212e+09</td>\n",
       "      <td>68</td>\n",
       "    </tr>\n",
       "  </tbody>\n",
       "</table>\n",
       "<p>2365 rows × 6 columns</p>\n",
       "</div>"
      ],
      "text/plain": [
       "                     name            name__ru  \\\n",
       "0      Селенгинский район  Селенгинский район   \n",
       "1         Хоринский район     Хоринский район   \n",
       "2      Курумканский район  Курумканский район   \n",
       "3       Брюховецкий район   Брюховецкий район   \n",
       "4        Павловский район    Павловский район   \n",
       "...                   ...                 ...   \n",
       "2360               Тамбов                 NaN   \n",
       "2361  Рассказовский район                 NaN   \n",
       "2362     Сосновский район                 NaN   \n",
       "2363     Тамбовский район                 NaN   \n",
       "2364     Бондарский район                 NaN   \n",
       "\n",
       "                                     wikipedia  \\\n",
       "0                        ru:Селенгинский район   \n",
       "1                           ru:Хоринский район   \n",
       "2                        ru:Курумканский район   \n",
       "3                         ru:Брюховецкий район   \n",
       "4     ru:Павловский район (Краснодарский край)   \n",
       "...                                        ...   \n",
       "2360                                 ru:Тамбов   \n",
       "2361                    ru:Рассказовский район   \n",
       "2362  ru:Сосновский район (Тамбовская область)   \n",
       "2363  ru:Тамбовский район (Тамбовская область)   \n",
       "2364                       ru:Бондарский район   \n",
       "\n",
       "                                               geometry          area reg  \n",
       "0     POLYGON ((744938.253 2182827.287, 743896.897 2...  6.729938e+09   3  \n",
       "1     POLYGON ((941875.394 2369781.309, 938524.489 2...  1.216154e+10   3  \n",
       "2     POLYGON ((979970.143 2625112.487, 977575.355 2...  1.117060e+10   3  \n",
       "3     POLYGON ((-3656390.883 2829605.816, -3656503.7...  1.132083e+09  23  \n",
       "4     POLYGON ((-3595906.609 2812435.065, -3596101.2...  1.472633e+09  23  \n",
       "...                                                 ...           ...  ..  \n",
       "2360  POLYGON ((-3126682.555 3305113.619, -3126830.5...  7.601746e+07  68  \n",
       "2361  POLYGON ((-3094356.417 3273058.895, -3094298.3...  1.554211e+09  68  \n",
       "2362  POLYGON ((-3093953.800 3342204.861, -3095233.2...  2.043358e+09  68  \n",
       "2363  POLYGON ((-3119140.653 3304911.081, -3119421.4...  2.251141e+09  68  \n",
       "2364  POLYGON ((-3075536.058 3291311.723, -3076033.9...  1.070212e+09  68  \n",
       "\n",
       "[2365 rows x 6 columns]"
      ]
     },
     "execution_count": 58,
     "metadata": {},
     "output_type": "execute_result"
    }
   ],
   "source": [
    "all_ru_regions"
   ]
  },
  {
   "cell_type": "code",
   "execution_count": 59,
   "id": "69e91b97",
   "metadata": {
    "ExecuteTime": {
     "end_time": "2023-05-23T05:14:36.444169Z",
     "start_time": "2023-05-23T05:14:36.287034Z"
    }
   },
   "outputs": [],
   "source": [
    "all_ru_regions.geometry = all_ru_regions.geometry.scale(xfact=2, yfact=2, origin='center')"
   ]
  },
  {
   "cell_type": "code",
   "execution_count": 60,
   "id": "7f9318e2",
   "metadata": {
    "ExecuteTime": {
     "end_time": "2023-05-23T05:14:37.895676Z",
     "start_time": "2023-05-23T05:14:37.891699Z"
    }
   },
   "outputs": [],
   "source": [
    "all_ru_regions['dst'] = None"
   ]
  },
  {
   "cell_type": "code",
   "execution_count": 61,
   "id": "2340c4aa",
   "metadata": {
    "ExecuteTime": {
     "end_time": "2023-05-23T05:14:43.109666Z",
     "start_time": "2023-05-23T05:14:39.320884Z"
    }
   },
   "outputs": [],
   "source": [
    "for i, all_val in all_ru_regions.iterrows():\n",
    "    cnter = 0\n",
    "    for j, kad_val in all_kads_df[all_kads_df.reg == all_val.reg].iterrows():\n",
    "        if all_val['name'] == kad_val['name'] \\\n",
    "        or all_val['name'].replace('ё', 'е') == kad_val['name'] \\\n",
    "        or all_val['name'].replace('улус', 'район').replace('национальный улус', 'район') == kad_val['name'] \\\n",
    "        or all_val['name'][1:-1] == kad_val['name'][1:-1] \\\n",
    "        or all_val['name'].replace('Зато ', '').replace('ЗАТО ', '') == kad_val['name'].replace(' район', ''):\n",
    "            all_ru_regions.iloc[i, -1] = kad_val['dst']\n",
    "            cnter += 1\n",
    "        else:\n",
    "            pass\n",
    "    if cnter > 2:\n",
    "        print(cnter, i)"
   ]
  },
  {
   "cell_type": "code",
   "execution_count": 62,
   "id": "d5b948f0",
   "metadata": {
    "ExecuteTime": {
     "end_time": "2023-05-23T05:14:46.388281Z",
     "start_time": "2023-05-23T05:14:46.384972Z"
    }
   },
   "outputs": [],
   "source": [
    "from difflib import SequenceMatcher\n",
    "\n",
    "def similar(a, b):\n",
    "    return SequenceMatcher(None, a, b).ratio()"
   ]
  },
  {
   "cell_type": "code",
   "execution_count": 63,
   "id": "8633d40a",
   "metadata": {
    "ExecuteTime": {
     "end_time": "2023-05-23T05:14:48.069494Z",
     "start_time": "2023-05-23T05:14:47.250397Z"
    }
   },
   "outputs": [
    {
     "name": "stdout",
     "output_type": "stream",
     "text": [
      "3 511\n",
      "3 2330\n",
      "3 2333\n",
      "3 2342\n"
     ]
    }
   ],
   "source": [
    "for i, all_val in all_ru_regions[all_ru_regions.dst.isna()].iterrows():\n",
    "    cnter = 0\n",
    "    for j, kad_val in all_kads_df[all_kads_df.reg == all_val.reg].iterrows():\n",
    "        if all_val['name'].replace('Зато', '').replace('ЗАТО', '').replace('район', '').replace('национальный улус', '').replace('Национальный улус', '').replace('улус', 'улус').replace('ё', 'е').replace('Ё', 'Е').replace('ий', '').replace('ый', '').replace(' ', '').lower() ==\\\n",
    "        kad_val['name'].replace('Зато', '').replace('ЗАТО', '').replace('район', '').replace('национальный улус', '').replace('Национальный улус', '').replace('улус', 'улус').replace('ё', 'е').replace('Ё', 'Е').replace('ий', '').replace('ый', '').replace(' ', '').lower() \\\n",
    "        or similar(all_val['name'].replace('Зато', '').replace('ЗАТО', '').replace('район', '').replace('национальный улус', '').replace('Национальный улус', '').replace('улус', 'улус').replace('ё', 'е').replace('Ё', 'Е').replace('ий', '').replace('ый', '').replace(' ', '')[1:], kad_val['name'].replace('Зато', '').replace('ЗАТО', '').replace('район', '').replace('национальный улус', '').replace('Национальный улус', '').replace('улус', 'улус').replace('ё', 'е').replace('Ё', 'Е').replace('ий', '').replace('ый', '').replace(' ', '')[1:]) > 0.81:\n",
    "            all_ru_regions.iloc[i, -1] = kad_val['dst']\n",
    "            cnter += 1\n",
    "        else:\n",
    "            pass\n",
    "    if cnter > 2:\n",
    "        print(cnter, i)"
   ]
  },
  {
   "cell_type": "markdown",
   "id": "5c1d81e9",
   "metadata": {},
   "source": [
    "## check results"
   ]
  },
  {
   "cell_type": "code",
   "execution_count": 64,
   "id": "d2a3cf3c",
   "metadata": {
    "ExecuteTime": {
     "end_time": "2023-05-23T05:14:50.812889Z",
     "start_time": "2023-05-23T05:14:50.805090Z"
    },
    "scrolled": false
   },
   "outputs": [
    {
     "data": {
      "text/html": [
       "<div>\n",
       "<style scoped>\n",
       "    .dataframe tbody tr th:only-of-type {\n",
       "        vertical-align: middle;\n",
       "    }\n",
       "\n",
       "    .dataframe tbody tr th {\n",
       "        vertical-align: top;\n",
       "    }\n",
       "\n",
       "    .dataframe thead th {\n",
       "        text-align: right;\n",
       "    }\n",
       "</style>\n",
       "<table border=\"1\" class=\"dataframe\">\n",
       "  <thead>\n",
       "    <tr style=\"text-align: right;\">\n",
       "      <th></th>\n",
       "      <th>name</th>\n",
       "      <th>reg</th>\n",
       "      <th>dst</th>\n",
       "    </tr>\n",
       "  </thead>\n",
       "  <tbody>\n",
       "    <tr>\n",
       "      <th>223</th>\n",
       "      <td>Кушвинский район</td>\n",
       "      <td>66</td>\n",
       "      <td>53</td>\n",
       "    </tr>\n",
       "    <tr>\n",
       "      <th>224</th>\n",
       "      <td>Верхнетуринский район</td>\n",
       "      <td>66</td>\n",
       "      <td>38</td>\n",
       "    </tr>\n",
       "    <tr>\n",
       "      <th>225</th>\n",
       "      <td>Карпинский район</td>\n",
       "      <td>66</td>\n",
       "      <td>47</td>\n",
       "    </tr>\n",
       "    <tr>\n",
       "      <th>226</th>\n",
       "      <td>Заречный район</td>\n",
       "      <td>66</td>\n",
       "      <td>42</td>\n",
       "    </tr>\n",
       "    <tr>\n",
       "      <th>227</th>\n",
       "      <td>Арамильский район</td>\n",
       "      <td>66</td>\n",
       "      <td>33</td>\n",
       "    </tr>\n",
       "    <tr>\n",
       "      <th>...</th>\n",
       "      <td>...</td>\n",
       "      <td>...</td>\n",
       "      <td>...</td>\n",
       "    </tr>\n",
       "    <tr>\n",
       "      <th>291</th>\n",
       "      <td>Верхнесалдинский район</td>\n",
       "      <td>66</td>\n",
       "      <td>8</td>\n",
       "    </tr>\n",
       "    <tr>\n",
       "      <th>292</th>\n",
       "      <td>Артемовский район</td>\n",
       "      <td>66</td>\n",
       "      <td>2</td>\n",
       "    </tr>\n",
       "    <tr>\n",
       "      <th>293</th>\n",
       "      <td>Пышминский район</td>\n",
       "      <td>66</td>\n",
       "      <td>20</td>\n",
       "    </tr>\n",
       "    <tr>\n",
       "      <th>294</th>\n",
       "      <td>Тугулымский район</td>\n",
       "      <td>66</td>\n",
       "      <td>29</td>\n",
       "    </tr>\n",
       "    <tr>\n",
       "      <th>295</th>\n",
       "      <td>Ачитский район</td>\n",
       "      <td>66</td>\n",
       "      <td>4</td>\n",
       "    </tr>\n",
       "  </tbody>\n",
       "</table>\n",
       "<p>73 rows × 3 columns</p>\n",
       "</div>"
      ],
      "text/plain": [
       "                       name  reg  dst\n",
       "223        Кушвинский район   66   53\n",
       "224   Верхнетуринский район   66   38\n",
       "225        Карпинский район   66   47\n",
       "226          Заречный район   66   42\n",
       "227       Арамильский район   66   33\n",
       "..                      ...  ...  ...\n",
       "291  Верхнесалдинский район   66    8\n",
       "292       Артемовский район   66    2\n",
       "293        Пышминский район   66   20\n",
       "294       Тугулымский район   66   29\n",
       "295          Ачитский район   66    4\n",
       "\n",
       "[73 rows x 3 columns]"
      ]
     },
     "execution_count": 64,
     "metadata": {},
     "output_type": "execute_result"
    }
   ],
   "source": [
    "all_kads_df[all_kads_df.reg == 66]"
   ]
  },
  {
   "cell_type": "code",
   "execution_count": 65,
   "id": "4820264e",
   "metadata": {
    "ExecuteTime": {
     "end_time": "2023-05-23T05:14:52.979149Z",
     "start_time": "2023-05-23T05:14:52.931625Z"
    }
   },
   "outputs": [
    {
     "data": {
      "text/html": [
       "<div>\n",
       "<style scoped>\n",
       "    .dataframe tbody tr th:only-of-type {\n",
       "        vertical-align: middle;\n",
       "    }\n",
       "\n",
       "    .dataframe tbody tr th {\n",
       "        vertical-align: top;\n",
       "    }\n",
       "\n",
       "    .dataframe thead th {\n",
       "        text-align: right;\n",
       "    }\n",
       "</style>\n",
       "<table border=\"1\" class=\"dataframe\">\n",
       "  <thead>\n",
       "    <tr style=\"text-align: right;\">\n",
       "      <th></th>\n",
       "      <th>name</th>\n",
       "      <th>name__ru</th>\n",
       "      <th>wikipedia</th>\n",
       "      <th>geometry</th>\n",
       "      <th>area</th>\n",
       "      <th>reg</th>\n",
       "      <th>dst</th>\n",
       "    </tr>\n",
       "  </thead>\n",
       "  <tbody>\n",
       "    <tr>\n",
       "      <th>5</th>\n",
       "      <td>Кижингинский район</td>\n",
       "      <td>Кижингинский район</td>\n",
       "      <td>ru:Кижингинский район</td>\n",
       "      <td>POLYGON ((1054128.056 2335908.509, 1053859.626...</td>\n",
       "      <td>6.315684e+09</td>\n",
       "      <td>None</td>\n",
       "      <td>None</td>\n",
       "    </tr>\n",
       "    <tr>\n",
       "      <th>9</th>\n",
       "      <td>Фокино</td>\n",
       "      <td>NaN</td>\n",
       "      <td>ru:Фокино (Брянская область)</td>\n",
       "      <td>POLYGON ((-3422044.060 3631955.613, -3422527.8...</td>\n",
       "      <td>8.495758e+06</td>\n",
       "      <td>32</td>\n",
       "      <td>None</td>\n",
       "    </tr>\n",
       "    <tr>\n",
       "      <th>17</th>\n",
       "      <td>Кандалакшский район</td>\n",
       "      <td>Кандалакшский район</td>\n",
       "      <td>ru:Кандалакшский район</td>\n",
       "      <td>POLYGON ((-2547315.726 4725005.760, -2547963.2...</td>\n",
       "      <td>1.509560e+10</td>\n",
       "      <td>None</td>\n",
       "      <td>None</td>\n",
       "    </tr>\n",
       "    <tr>\n",
       "      <th>20</th>\n",
       "      <td>Ирафский район</td>\n",
       "      <td>Ирафский район</td>\n",
       "      <td>ru:Ирафский район</td>\n",
       "      <td>POLYGON ((-3529005.872 2414510.467, -3528685.2...</td>\n",
       "      <td>1.126943e+09</td>\n",
       "      <td>None</td>\n",
       "      <td>None</td>\n",
       "    </tr>\n",
       "    <tr>\n",
       "      <th>23</th>\n",
       "      <td>ЗАТО Заозёрск</td>\n",
       "      <td>NaN</td>\n",
       "      <td>NaN</td>\n",
       "      <td>POLYGON ((-2348377.495 5003070.991, -2352510.0...</td>\n",
       "      <td>6.903000e+08</td>\n",
       "      <td>None</td>\n",
       "      <td>None</td>\n",
       "    </tr>\n",
       "    <tr>\n",
       "      <th>...</th>\n",
       "      <td>...</td>\n",
       "      <td>...</td>\n",
       "      <td>...</td>\n",
       "      <td>...</td>\n",
       "      <td>...</td>\n",
       "      <td>...</td>\n",
       "      <td>...</td>\n",
       "    </tr>\n",
       "    <tr>\n",
       "      <th>2311</th>\n",
       "      <td>Эхирит-Булагатский район</td>\n",
       "      <td>NaN</td>\n",
       "      <td>ru:Эхирит-Булагатский район</td>\n",
       "      <td>POLYGON ((658966.011 2342632.890, 658589.138 2...</td>\n",
       "      <td>4.417625e+09</td>\n",
       "      <td>38</td>\n",
       "      <td>None</td>\n",
       "    </tr>\n",
       "    <tr>\n",
       "      <th>2313</th>\n",
       "      <td>Осинский район</td>\n",
       "      <td>NaN</td>\n",
       "      <td>ru:Осинский район (Иркутская область)</td>\n",
       "      <td>POLYGON ((597633.559 2410220.534, 597614.823 2...</td>\n",
       "      <td>3.781590e+09</td>\n",
       "      <td>38</td>\n",
       "      <td>None</td>\n",
       "    </tr>\n",
       "    <tr>\n",
       "      <th>2314</th>\n",
       "      <td>Боханский район</td>\n",
       "      <td>NaN</td>\n",
       "      <td>ru:Боханский район</td>\n",
       "      <td>POLYGON ((596885.970 2404256.684, 596886.641 2...</td>\n",
       "      <td>3.117788e+09</td>\n",
       "      <td>38</td>\n",
       "      <td>None</td>\n",
       "    </tr>\n",
       "    <tr>\n",
       "      <th>2332</th>\n",
       "      <td>Нижний Тагил</td>\n",
       "      <td>NaN</td>\n",
       "      <td>ru:Городской округ «город Нижний Тагил»</td>\n",
       "      <td>POLYGON ((-1890661.511 3234120.118, -1890900.4...</td>\n",
       "      <td>3.933308e+09</td>\n",
       "      <td>66</td>\n",
       "      <td>None</td>\n",
       "    </tr>\n",
       "    <tr>\n",
       "      <th>2343</th>\n",
       "      <td>Верхняя Пышма</td>\n",
       "      <td>NaN</td>\n",
       "      <td>ru:Городской округ Верхняя Пышма</td>\n",
       "      <td>POLYGON ((-1885567.185 3152819.100, -1893841.4...</td>\n",
       "      <td>9.038889e+08</td>\n",
       "      <td>66</td>\n",
       "      <td>None</td>\n",
       "    </tr>\n",
       "  </tbody>\n",
       "</table>\n",
       "<p>424 rows × 7 columns</p>\n",
       "</div>"
      ],
      "text/plain": [
       "                          name             name__ru  \\\n",
       "5           Кижингинский район   Кижингинский район   \n",
       "9                       Фокино                  NaN   \n",
       "17         Кандалакшский район  Кандалакшский район   \n",
       "20              Ирафский район       Ирафский район   \n",
       "23               ЗАТО Заозёрск                  NaN   \n",
       "...                        ...                  ...   \n",
       "2311  Эхирит-Булагатский район                  NaN   \n",
       "2313            Осинский район                  NaN   \n",
       "2314           Боханский район                  NaN   \n",
       "2332              Нижний Тагил                  NaN   \n",
       "2343             Верхняя Пышма                  NaN   \n",
       "\n",
       "                                    wikipedia  \\\n",
       "5                       ru:Кижингинский район   \n",
       "9                ru:Фокино (Брянская область)   \n",
       "17                     ru:Кандалакшский район   \n",
       "20                          ru:Ирафский район   \n",
       "23                                        NaN   \n",
       "...                                       ...   \n",
       "2311              ru:Эхирит-Булагатский район   \n",
       "2313    ru:Осинский район (Иркутская область)   \n",
       "2314                       ru:Боханский район   \n",
       "2332  ru:Городской округ «город Нижний Тагил»   \n",
       "2343         ru:Городской округ Верхняя Пышма   \n",
       "\n",
       "                                               geometry          area   reg  \\\n",
       "5     POLYGON ((1054128.056 2335908.509, 1053859.626...  6.315684e+09  None   \n",
       "9     POLYGON ((-3422044.060 3631955.613, -3422527.8...  8.495758e+06    32   \n",
       "17    POLYGON ((-2547315.726 4725005.760, -2547963.2...  1.509560e+10  None   \n",
       "20    POLYGON ((-3529005.872 2414510.467, -3528685.2...  1.126943e+09  None   \n",
       "23    POLYGON ((-2348377.495 5003070.991, -2352510.0...  6.903000e+08  None   \n",
       "...                                                 ...           ...   ...   \n",
       "2311  POLYGON ((658966.011 2342632.890, 658589.138 2...  4.417625e+09    38   \n",
       "2313  POLYGON ((597633.559 2410220.534, 597614.823 2...  3.781590e+09    38   \n",
       "2314  POLYGON ((596885.970 2404256.684, 596886.641 2...  3.117788e+09    38   \n",
       "2332  POLYGON ((-1890661.511 3234120.118, -1890900.4...  3.933308e+09    66   \n",
       "2343  POLYGON ((-1885567.185 3152819.100, -1893841.4...  9.038889e+08    66   \n",
       "\n",
       "       dst  \n",
       "5     None  \n",
       "9     None  \n",
       "17    None  \n",
       "20    None  \n",
       "23    None  \n",
       "...    ...  \n",
       "2311  None  \n",
       "2313  None  \n",
       "2314  None  \n",
       "2332  None  \n",
       "2343  None  \n",
       "\n",
       "[424 rows x 7 columns]"
      ]
     },
     "execution_count": 65,
     "metadata": {},
     "output_type": "execute_result"
    }
   ],
   "source": [
    "all_ru_regions[(all_ru_regions.dst.isna())]"
   ]
  },
  {
   "cell_type": "markdown",
   "id": "945da715",
   "metadata": {},
   "source": [
    "## save"
   ]
  },
  {
   "cell_type": "code",
   "execution_count": 66,
   "id": "20d77cbe",
   "metadata": {
    "ExecuteTime": {
     "end_time": "2023-05-23T05:14:58.033656Z",
     "start_time": "2023-05-23T05:14:58.002427Z"
    }
   },
   "outputs": [
    {
     "data": {
      "text/html": [
       "<div>\n",
       "<style scoped>\n",
       "    .dataframe tbody tr th:only-of-type {\n",
       "        vertical-align: middle;\n",
       "    }\n",
       "\n",
       "    .dataframe tbody tr th {\n",
       "        vertical-align: top;\n",
       "    }\n",
       "\n",
       "    .dataframe thead th {\n",
       "        text-align: right;\n",
       "    }\n",
       "</style>\n",
       "<table border=\"1\" class=\"dataframe\">\n",
       "  <thead>\n",
       "    <tr style=\"text-align: right;\">\n",
       "      <th></th>\n",
       "      <th>name</th>\n",
       "      <th>name__ru</th>\n",
       "      <th>wikipedia</th>\n",
       "      <th>geometry</th>\n",
       "      <th>area</th>\n",
       "      <th>reg</th>\n",
       "      <th>dst</th>\n",
       "    </tr>\n",
       "  </thead>\n",
       "  <tbody>\n",
       "    <tr>\n",
       "      <th>0</th>\n",
       "      <td>Селенгинский район</td>\n",
       "      <td>Селенгинский район</td>\n",
       "      <td>ru:Селенгинский район</td>\n",
       "      <td>POLYGON ((772911.849 2183926.259, 770829.137 2...</td>\n",
       "      <td>6.729938e+09</td>\n",
       "      <td>3</td>\n",
       "      <td>18</td>\n",
       "    </tr>\n",
       "    <tr>\n",
       "      <th>1</th>\n",
       "      <td>Хоринский район</td>\n",
       "      <td>Хоринский район</td>\n",
       "      <td>ru:Хоринский район</td>\n",
       "      <td>POLYGON ((975660.756 2392376.746, 968958.946 2...</td>\n",
       "      <td>1.216154e+10</td>\n",
       "      <td>3</td>\n",
       "      <td>21</td>\n",
       "    </tr>\n",
       "    <tr>\n",
       "      <th>2</th>\n",
       "      <td>Курумканский район</td>\n",
       "      <td>Курумканский район</td>\n",
       "      <td>ru:Курумканский район</td>\n",
       "      <td>POLYGON ((1006551.636 2652187.027, 1001762.061...</td>\n",
       "      <td>1.117060e+10</td>\n",
       "      <td>3</td>\n",
       "      <td>11</td>\n",
       "    </tr>\n",
       "    <tr>\n",
       "      <th>3</th>\n",
       "      <td>Брюховецкий район</td>\n",
       "      <td>Брюховецкий район</td>\n",
       "      <td>ru:Брюховецкий район</td>\n",
       "      <td>POLYGON ((-3642267.062 2820599.306, -3642492.8...</td>\n",
       "      <td>1.132083e+09</td>\n",
       "      <td>23</td>\n",
       "      <td>4</td>\n",
       "    </tr>\n",
       "    <tr>\n",
       "      <th>4</th>\n",
       "      <td>Павловский район</td>\n",
       "      <td>Павловский район</td>\n",
       "      <td>ru:Павловский район (Краснодарский край)</td>\n",
       "      <td>POLYGON ((-3583010.429 2801858.794, -3583399.7...</td>\n",
       "      <td>1.472633e+09</td>\n",
       "      <td>23</td>\n",
       "      <td>24</td>\n",
       "    </tr>\n",
       "    <tr>\n",
       "      <th>...</th>\n",
       "      <td>...</td>\n",
       "      <td>...</td>\n",
       "      <td>...</td>\n",
       "      <td>...</td>\n",
       "      <td>...</td>\n",
       "      <td>...</td>\n",
       "      <td>...</td>\n",
       "    </tr>\n",
       "    <tr>\n",
       "      <th>2360</th>\n",
       "      <td>Тамбов</td>\n",
       "      <td>NaN</td>\n",
       "      <td>ru:Тамбов</td>\n",
       "      <td>POLYGON ((-3124307.505 3303042.861, -3124603.5...</td>\n",
       "      <td>7.601746e+07</td>\n",
       "      <td>68</td>\n",
       "      <td>20</td>\n",
       "    </tr>\n",
       "    <tr>\n",
       "      <th>2361</th>\n",
       "      <td>Рассказовский район</td>\n",
       "      <td>NaN</td>\n",
       "      <td>ru:Рассказовский район</td>\n",
       "      <td>POLYGON ((-3081265.438 3272682.587, -3081149.2...</td>\n",
       "      <td>1.554211e+09</td>\n",
       "      <td>68</td>\n",
       "      <td>15</td>\n",
       "    </tr>\n",
       "    <tr>\n",
       "      <th>2362</th>\n",
       "      <td>Сосновский район</td>\n",
       "      <td>NaN</td>\n",
       "      <td>ru:Сосновский район (Тамбовская область)</td>\n",
       "      <td>POLYGON ((-3079943.869 3330265.964, -3082502.7...</td>\n",
       "      <td>2.043358e+09</td>\n",
       "      <td>68</td>\n",
       "      <td>18</td>\n",
       "    </tr>\n",
       "    <tr>\n",
       "      <th>2363</th>\n",
       "      <td>Тамбовский район</td>\n",
       "      <td>NaN</td>\n",
       "      <td>ru:Тамбовский район (Тамбовская область)</td>\n",
       "      <td>POLYGON ((-3101331.947 3297711.561, -3101893.6...</td>\n",
       "      <td>2.251141e+09</td>\n",
       "      <td>68</td>\n",
       "      <td>20</td>\n",
       "    </tr>\n",
       "    <tr>\n",
       "      <th>2364</th>\n",
       "      <td>Бондарский район</td>\n",
       "      <td>NaN</td>\n",
       "      <td>ru:Бондарский район</td>\n",
       "      <td>POLYGON ((-3065568.009 3280013.912, -3066563.7...</td>\n",
       "      <td>1.070212e+09</td>\n",
       "      <td>68</td>\n",
       "      <td>1</td>\n",
       "    </tr>\n",
       "  </tbody>\n",
       "</table>\n",
       "<p>2365 rows × 7 columns</p>\n",
       "</div>"
      ],
      "text/plain": [
       "                     name            name__ru  \\\n",
       "0      Селенгинский район  Селенгинский район   \n",
       "1         Хоринский район     Хоринский район   \n",
       "2      Курумканский район  Курумканский район   \n",
       "3       Брюховецкий район   Брюховецкий район   \n",
       "4        Павловский район    Павловский район   \n",
       "...                   ...                 ...   \n",
       "2360               Тамбов                 NaN   \n",
       "2361  Рассказовский район                 NaN   \n",
       "2362     Сосновский район                 NaN   \n",
       "2363     Тамбовский район                 NaN   \n",
       "2364     Бондарский район                 NaN   \n",
       "\n",
       "                                     wikipedia  \\\n",
       "0                        ru:Селенгинский район   \n",
       "1                           ru:Хоринский район   \n",
       "2                        ru:Курумканский район   \n",
       "3                         ru:Брюховецкий район   \n",
       "4     ru:Павловский район (Краснодарский край)   \n",
       "...                                        ...   \n",
       "2360                                 ru:Тамбов   \n",
       "2361                    ru:Рассказовский район   \n",
       "2362  ru:Сосновский район (Тамбовская область)   \n",
       "2363  ru:Тамбовский район (Тамбовская область)   \n",
       "2364                       ru:Бондарский район   \n",
       "\n",
       "                                               geometry          area reg dst  \n",
       "0     POLYGON ((772911.849 2183926.259, 770829.137 2...  6.729938e+09   3  18  \n",
       "1     POLYGON ((975660.756 2392376.746, 968958.946 2...  1.216154e+10   3  21  \n",
       "2     POLYGON ((1006551.636 2652187.027, 1001762.061...  1.117060e+10   3  11  \n",
       "3     POLYGON ((-3642267.062 2820599.306, -3642492.8...  1.132083e+09  23   4  \n",
       "4     POLYGON ((-3583010.429 2801858.794, -3583399.7...  1.472633e+09  23  24  \n",
       "...                                                 ...           ...  ..  ..  \n",
       "2360  POLYGON ((-3124307.505 3303042.861, -3124603.5...  7.601746e+07  68  20  \n",
       "2361  POLYGON ((-3081265.438 3272682.587, -3081149.2...  1.554211e+09  68  15  \n",
       "2362  POLYGON ((-3079943.869 3330265.964, -3082502.7...  2.043358e+09  68  18  \n",
       "2363  POLYGON ((-3101331.947 3297711.561, -3101893.6...  2.251141e+09  68  20  \n",
       "2364  POLYGON ((-3065568.009 3280013.912, -3066563.7...  1.070212e+09  68   1  \n",
       "\n",
       "[2365 rows x 7 columns]"
      ]
     },
     "execution_count": 66,
     "metadata": {},
     "output_type": "execute_result"
    }
   ],
   "source": [
    "all_ru_regions"
   ]
  },
  {
   "cell_type": "code",
   "execution_count": 67,
   "id": "2444c14c",
   "metadata": {
    "ExecuteTime": {
     "end_time": "2023-05-23T05:15:02.179912Z",
     "start_time": "2023-05-23T05:14:59.998776Z"
    }
   },
   "outputs": [],
   "source": [
    "all_ru_regions.to_csv('map_data/ru_regions_kadastr.csv', index=0)"
   ]
  },
  {
   "cell_type": "code",
   "execution_count": null,
   "id": "dfc748a4",
   "metadata": {},
   "outputs": [],
   "source": []
  }
 ],
 "metadata": {
  "kernelspec": {
   "display_name": "Python 3 (ipykernel)",
   "language": "python",
   "name": "python3"
  },
  "language_info": {
   "codemirror_mode": {
    "name": "ipython",
    "version": 3
   },
   "file_extension": ".py",
   "mimetype": "text/x-python",
   "name": "python",
   "nbconvert_exporter": "python",
   "pygments_lexer": "ipython3",
   "version": "3.11.1"
  }
 },
 "nbformat": 4,
 "nbformat_minor": 5
}
